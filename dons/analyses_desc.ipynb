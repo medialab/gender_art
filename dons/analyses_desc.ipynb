{
 "cells": [
  {
   "cell_type": "markdown",
   "metadata": {},
   "source": [
    "# Analyse descriptive des dons"
   ]
  },
  {
   "cell_type": "markdown",
   "metadata": {},
   "source": [
    "### Todo : \n",
    "Analyse d’ensemble\n",
    "- quels sont les volumes de dons, \n",
    "- différence entre H et F\n",
    "- les étrangers font-il des dons\n",
    "- quels sont les domaines des dons?\n",
    "- distribution des dons en fonction des domaines, et comparaison avec la distribution des œuvres achetées et commandées \n",
    "\n",
    "Sur la circulation ultérieure des œuvres données :\n",
    "- on ne peut travailler que sur les expos qui sont listées dans videomuseum, mais nous n’avons pas besoin de nettoyer ce champs dans la mesure où ce que nous cherchons c’est un compte de mouvements plutôt qu’une caractérisation précise du lieu et du type de musées où elle bouge (et on oublie aussi avec qui elle bouge)"
   ]
  },
  {
   "cell_type": "code",
   "execution_count": 1,
   "metadata": {},
   "outputs": [],
   "source": [
    "import os\n",
    "import pandas as pd\n",
    "import numpy as np\n",
    "import matplotlib\n",
    "import matplotlib.pyplot as plt\n",
    "import matplotlib.ticker as ticker\n",
    "from mpl_toolkits.axes_grid1 import make_axes_locatable\n",
    "from matplotlib.colors import LinearSegmentedColormap\n",
    "import re\n",
    "import unicodedata\n",
    "# %matplotlib inline"
   ]
  },
  {
   "cell_type": "code",
   "execution_count": 2,
   "metadata": {},
   "outputs": [],
   "source": [
    "pd.set_option('display.max_columns',200)\n",
    "pd.set_option('display.max_rows',200)\n",
    "global color_h, color_f, color_b, PLOTDIM, FREQYEARS\n",
    "color_h = \"gold\"\n",
    "color_f = \"royalblue\"\n",
    "color_b = \"dimgray\"\n",
    "color_t = \"mediumseagreen\"\n",
    "PLOTDIM = (9,6)\n",
    "FREQYEARS = 10\n",
    "my_cm = LinearSegmentedColormap.from_list(\"colormap\", [color_h, color_f], N=100)"
   ]
  },
  {
   "cell_type": "code",
   "execution_count": 3,
   "metadata": {},
   "outputs": [],
   "source": [
    "matplotlib.font_manager._rebuild()\n",
    "plt.rcParams['font.family'] = 'Roboto'\n",
    "plt.rcParams['font.sans-serif'] = 'Roboto'\n",
    "plt.rcParams['font.weight'] = 500\n",
    "# matplotlib.font_manager.findSystemFonts(fontpaths=None, fontext='ttf')"
   ]
  },
  {
   "cell_type": "code",
   "execution_count": 4,
   "metadata": {},
   "outputs": [
    {
     "data": {
      "text/plain": [
       "21"
      ]
     },
     "execution_count": 4,
     "metadata": {},
     "output_type": "execute_result"
    }
   ],
   "source": [
    "# Les données sont stockées dans le dossier \"data\", c'est plus clean\n",
    "authors = pd.read_csv('../data/ALL_AUTHORS (live_work + clean nat).csv', encoding='utf-8', sep=',', low_memory=False)\n",
    "raw_art = pd.read_csv('../data/ALL_ARTWORKS (for stats use ONLY).csv', encoding='utf-8', sep=',', low_memory=False)\n",
    "raw_art['groupcol'] = raw_art['related'].fillna(value='') + raw_art['acquisition'].fillna(value='')\n",
    "len(raw_art[raw_art['groupcol'] == ''])"
   ]
  },
  {
   "cell_type": "code",
   "execution_count": 5,
   "metadata": {},
   "outputs": [
    {
     "name": "stdout",
     "output_type": "stream",
     "text": [
      "(348333, 117) (120902, 117)\n"
     ]
    }
   ],
   "source": [
    "# On fusionne les \"séries\"\n",
    "art = raw_art.groupby(['groupcol', 'authors', 'acquisition_year', 'acquisition_mode_clean']).first().reset_index()\n",
    "print(raw_art.shape, art.shape)"
   ]
  },
  {
   "cell_type": "code",
   "execution_count": 6,
   "metadata": {},
   "outputs": [],
   "source": [
    "def validname(value):\n",
    "    \"\"\"\n",
    "    Normalizes string, converts to lowercase, removes non-alpha characters,\n",
    "    and converts spaces to hyphens.\n",
    "    \"\"\"\n",
    "    value = re.sub('[^\\w\\s-]', '', value).strip().lower()\n",
    "    value = re.sub('[-\\s]+', '-', value)\n",
    "    return value"
   ]
  },
  {
   "cell_type": "markdown",
   "metadata": {},
   "source": [
    "### Etape préliminaire 1 : transformer les modes d'acquisitions"
   ]
  },
  {
   "cell_type": "code",
   "execution_count": 7,
   "metadata": {},
   "outputs": [],
   "source": [
    "art.loc[art[\"acquisition_mode_clean\"].str.contains(\"Don \"), 'acquisition_mode_clean'] = \"Don\"\n",
    "art.loc[art[\"acquisition_mode_clean\"].str.contains(\"commande\"), 'acquisition_mode_clean'] = \"Commande\"\n",
    "art.loc[art[\"acquisition_mode_clean\"].str.contains(\"Commande\"), 'acquisition_mode_clean'] = \"Commande\"\n",
    "art.loc[art[\"acquisition_mode_clean\"].str.contains(\"Saisie\"), 'acquisition_mode_clean'] = \"Saisie\"\n",
    "art.loc[art[\"acquisition_mode_clean\"].str.contains(\"renseigné\"), 'acquisition_mode_clean'] = \"Non renseigné\"\n",
    "art.loc[art[\"acquisition_mode_clean\"].str.contains(\"mixte\"), 'acquisition_mode_clean'] = \"Mixte\"\n",
    "art.loc[art[\"acquisition_mode_clean\"].str.contains(\"sinistre\"), 'acquisition_mode_clean'] = \"Remplacement\""
   ]
  },
  {
   "cell_type": "markdown",
   "metadata": {},
   "source": [
    "### Etape préliminaire 2 : transformer les domaines"
   ]
  },
  {
   "cell_type": "code",
   "execution_count": 8,
   "metadata": {},
   "outputs": [],
   "source": [
    "art.loc[art[\"domain\"] == \"Arts du spectacle\", 'domain'] = \"Spectacle, musique, littérature\"\n",
    "art.loc[art[\"domain\"] == \"Performance\", 'domain'] = \"Spectacle, musique, littérature\"\n",
    "art.loc[art[\"domain\"] == \"Musique\", 'domain'] = \"Spectacle, musique, littérature\"\n",
    "art.loc[art[\"domain\"] == \"Littérature\", 'domain'] = \"Spectacle, musique, littérature\"\n",
    "\n",
    "art.loc[art[\"domain\"] == \"Commande publique (A.D.D.)\", 'domain'] = \"Divers\"\n",
    "art.loc[art[\"domain\"] == \"Design couleur\", 'domain'] = \"Divers\"\n",
    "art.loc[art[\"domain\"] == \"Commande publique (A.P.)\", 'domain'] = \"Divers\"\n",
    "art.loc[art[\"domain\"] == \"Oeuvre olfactive\", 'domain'] = \"Divers\"\n",
    "art.loc[art[\"domain\"] == \"Domaine mixte, voir détail sur les éléments\", 'domain'] = \"Divers\"\n",
    "art.loc[art[\"domain\"] == \"Domaine non saisi\", 'domain'] = \"Divers\"\n",
    "art.loc[art[\"domain\"] == \"Sans domaine déterminé\", 'domain'] = \"Divers\"\n",
    "art.loc[art[\"domain\"] == \"Certificat\", 'domain'] = \"Divers\"\n",
    "art.loc[art[\"domain\"] == \"Architecture intérieure\", 'domain'] = \"Divers\"\n",
    "art.loc[art[\"domain\"] == \"Spectacle, musique, littérature\", 'domain'] = \"Divers\"\n",
    "\n",
    "art.loc[art[\"domain\"] == \"Objet\", 'domain'] = \"Objet/Design\"\n",
    "\n",
    "art.loc[art[\"domain\"] == \"Oeuvre en 3 dimensions\", 'domain'] = \"Œuvre en 3D\"\n",
    "art.loc[art[\"domain\"] == \"Oeuvre textile\", 'domain'] = \"Œuvre textile\"\n",
    "art.loc[art[\"domain\"] == \"Reproduction photomécanique\", 'domain'] = \"Repro. photomécanique\"\n",
    "art.loc[art[\"domain\"] == \"Publication, livre, reliure\", 'domain'] = \"Arts du livre\""
   ]
  },
  {
   "cell_type": "markdown",
   "metadata": {},
   "source": [
    "### Etape préliminaire 3 : \"donner un genre\" aux oeuvres"
   ]
  },
  {
   "cell_type": "code",
   "execution_count": 9,
   "metadata": {},
   "outputs": [
    {
     "data": {
      "text/plain": [
       "masculin         95888\n",
       "féminin          19282\n",
       "groupe            2728\n",
       "non renseigné     1439\n",
       "Name: Gender, dtype: int64"
      ]
     },
     "execution_count": 9,
     "metadata": {},
     "output_type": "execute_result"
    }
   ],
   "source": [
    "art['Gender'].value_counts()"
   ]
  },
  {
   "cell_type": "code",
   "execution_count": 10,
   "metadata": {},
   "outputs": [
    {
     "data": {
      "text/plain": [
       "0.9870556318340474"
      ]
     },
     "execution_count": 10,
     "metadata": {},
     "output_type": "execute_result"
    }
   ],
   "source": [
    "art['Gender'].count()/len(art) # 4,4% de NaN"
   ]
  },
  {
   "cell_type": "markdown",
   "metadata": {},
   "source": [
    "### Etape préliminaire 4 : créer les regroupements de collection"
   ]
  },
  {
   "cell_type": "code",
   "execution_count": 11,
   "metadata": {},
   "outputs": [
    {
     "data": {
      "text/plain": [
       "(18, 33, 5)"
      ]
     },
     "execution_count": 11,
     "metadata": {},
     "output_type": "execute_result"
    }
   ],
   "source": [
    "fracs, musées, autres = [], [], []\n",
    "for museum in art['collection'].dropna().unique():\n",
    "    if \"frac\" in museum.lower():\n",
    "        fracs.append(museum)\n",
    "    elif \"musée\" in museum.lower() and \"musée national d'art moderne\" not in museum.lower():\n",
    "        musées.append(museum)\n",
    "    elif (\"musée national d'art moderne\" not in museum.lower() and\n",
    "          \"centre national des arts plastiques\" not in museum.lower()):\n",
    "        autres.append(museum)\n",
    "len(fracs), len(musées), len(autres)"
   ]
  },
  {
   "cell_type": "code",
   "execution_count": 12,
   "metadata": {},
   "outputs": [],
   "source": [
    "cat_dons = ['Don', 'Donation', 'Dation', 'Legs']"
   ]
  },
  {
   "cell_type": "code",
   "execution_count": 13,
   "metadata": {},
   "outputs": [
    {
     "data": {
      "text/plain": [
       "Achat                         76030\n",
       "Don                           18307\n",
       "Commande                      13379\n",
       "Donation                       4414\n",
       "Attribution                    3295\n",
       "Legs                           1952\n",
       "Non renseigné                  1757\n",
       "Dation                         1144\n",
       "Dépôt                           281\n",
       "Inscription à l'inventaire      247\n",
       "Mixte                            34\n",
       "Saisie                           24\n",
       "Echange                          19\n",
       "Remplacement                     13\n",
       "Cession                           6\n",
       "Name: acquisition_mode_clean, dtype: int64"
      ]
     },
     "execution_count": 13,
     "metadata": {},
     "output_type": "execute_result"
    }
   ],
   "source": [
    "art[\"acquisition_mode_clean\"].value_counts()"
   ]
  },
  {
   "cell_type": "markdown",
   "metadata": {},
   "source": [
    "### Etape préliminaire 5 : compter les expositions"
   ]
  },
  {
   "cell_type": "code",
   "execution_count": 14,
   "metadata": {},
   "outputs": [],
   "source": [
    "art['nb_expos'] = art['expositions'].str.split('|').dropna().apply(len)\n",
    "art['nb_expos'] = art['nb_expos'].fillna(0)"
   ]
  },
  {
   "cell_type": "code",
   "execution_count": 15,
   "metadata": {},
   "outputs": [],
   "source": [
    "raw_art = raw_art.set_index('_id')"
   ]
  },
  {
   "cell_type": "code",
   "execution_count": 16,
   "metadata": {},
   "outputs": [],
   "source": [
    "authors['unique_mode'] = None\n",
    "for i, a in authors.iterrows():\n",
    "    y = a['ID artworks'].split('|')\n",
    "    if len(y) == 1:\n",
    "        if (raw_art.index == int(y[0])).any():\n",
    "            x = raw_art[raw_art.index == int(y[0])]\n",
    "            authors.loc[i, 'unique_mode'] = x['acquisition_mode_clean'].values\n",
    "            authors.loc[i, 'unique_domain'] = x['domain'].values\n",
    "            authors.loc[i, 'unique_age'] = x['acquisition_year'].values - a['Birth year']"
   ]
  },
  {
   "cell_type": "code",
   "execution_count": null,
   "metadata": {},
   "outputs": [],
   "source": []
  },
  {
   "cell_type": "markdown",
   "metadata": {},
   "source": [
    "## Partie 1 : Compte brut du nombre de noms"
   ]
  },
  {
   "cell_type": "code",
   "execution_count": 17,
   "metadata": {},
   "outputs": [],
   "source": [
    "def compte_brut_dons(art):\n",
    "    art = art[(art['acquisition_year'] >= 1945) & (art['acquisition_year'] <= 2017)]\n",
    "    dons = art[art['acquisition_mode_clean'].isin(cat_dons)]\n",
    "    \n",
    "    total = art.groupby('acquisition_year').count()['_id']\n",
    "    total_dons = dons.groupby('acquisition_year').count()['_id'].reindex(range(1945, 2018), fill_value=0)\n",
    "    femmes_dons = dons[dons['Gender']=='féminin'].groupby('acquisition_year').count()['_id'].reindex(range(1945, 2018), fill_value=0)\n",
    "    hommes_dons = dons[dons['Gender']=='masculin'].groupby('acquisition_year').count()['_id'].reindex(range(1945, 2018), fill_value=0)\n",
    "    \n",
    "    fig, ax = plt.subplots()\n",
    "    femmes_dons.plot(figsize=PLOTDIM, color=color_f, marker='.', linewidth=2, ax=ax)\n",
    "    hommes_dons.plot(figsize=PLOTDIM, color=color_h, marker='.', linewidth=2, ax=ax)\n",
    "    total.plot(figsize=PLOTDIM, color=color_b, marker='.', linewidth=2, ax=ax)\n",
    "    total_dons.plot(figsize=PLOTDIM, color=color_t, marker='.', linewidth=2, ax=ax)\n",
    "    ax.set_xlim(left = 1945,right = 2017)\n",
    "    # ax.set_ylim(bottom = -0.01,top = 1.01)\n",
    "    ax.tick_params(labelsize = 15)\n",
    "    ax.xaxis.set_major_locator(ticker.MultipleLocator(FREQYEARS))\n",
    "    ax.set_xlabel('')\n",
    "    # ax.set_yticklabels(['{:,.0%}'.format(x) for x in ax.get_yticks()])\n",
    "    plt.grid()\n",
    "    plt.savefig(\"compte_brut_dons.png\", bbox_inches='tight',format=\"png\", dpi=300, transparent=True)\n",
    "    plt.close()"
   ]
  },
  {
   "cell_type": "code",
   "execution_count": 18,
   "metadata": {
    "scrolled": true
   },
   "outputs": [],
   "source": [
    "compte_brut_dons(art)"
   ]
  },
  {
   "cell_type": "markdown",
   "metadata": {},
   "source": [
    "## Partie 2 : Compte relatif du nombre de dons"
   ]
  },
  {
   "cell_type": "code",
   "execution_count": 19,
   "metadata": {},
   "outputs": [],
   "source": [
    "def compte_relatif_dons(art):\n",
    "    art = art[(art['acquisition_year'] >= 1945) & (art['acquisition_year'] <= 2017)]\n",
    "    dons = art[art['acquisition_mode_clean'].isin(cat_dons)]\n",
    "    \n",
    "    total = art.groupby('acquisition_year').count()['_id']\n",
    "    total_dons = dons.groupby('acquisition_year').count()['_id'].reindex(range(1945, 2018), fill_value=0)\n",
    "    femmes_dons = dons[dons['Gender']=='féminin'].groupby('acquisition_year').count()['_id'].reindex(range(1945, 2018), fill_value=0)\n",
    "    hommes_dons = dons[dons['Gender']=='masculin'].groupby('acquisition_year').count()['_id'].reindex(range(1945, 2018), fill_value=0)\n",
    "    \n",
    "    r1 = total_dons/total\n",
    "    rf = femmes_dons/total_dons\n",
    "    rh = hommes_dons/total_dons\n",
    "    \n",
    "    fig, ax = plt.subplots()\n",
    "    rf.plot(figsize=PLOTDIM, color=color_f, marker='.', linewidth=2, ax=ax)\n",
    "    rh.plot(figsize=PLOTDIM, color=color_h, marker='.', linewidth=2, ax=ax)\n",
    "    r1.plot(figsize=PLOTDIM, color=color_t, marker='.', linewidth=2, ax=ax)\n",
    "    \n",
    "    ax.set_xlim(left = 1945,right = 2017)\n",
    "    ax.set_ylim(bottom = -0.01,top = 1.01)\n",
    "    ax.tick_params(labelsize = 15)\n",
    "    ax.xaxis.set_major_locator(ticker.MultipleLocator(FREQYEARS))\n",
    "    ax.set_xlabel('')\n",
    "    ax.set_yticklabels(['{:,.0%}'.format(x) for x in ax.get_yticks()])\n",
    "    plt.grid()\n",
    "    plt.savefig(\"compte_relatif_dons.png\", bbox_inches='tight',format=\"png\", dpi=300, transparent=True)\n",
    "    plt.close()"
   ]
  },
  {
   "cell_type": "code",
   "execution_count": 20,
   "metadata": {},
   "outputs": [],
   "source": [
    "compte_relatif_dons(art)"
   ]
  },
  {
   "cell_type": "markdown",
   "metadata": {},
   "source": [
    "## Partie 3 : proportions de dons, hommes et femmes"
   ]
  },
  {
   "cell_type": "code",
   "execution_count": 21,
   "metadata": {},
   "outputs": [],
   "source": [
    "def proportions_genre_dons(art):\n",
    "    art = art[(art['acquisition_year'] >= 1945) & (art['acquisition_year'] <= 2017)]\n",
    "    dons = art[art['acquisition_mode_clean'].isin(cat_dons)]\n",
    "\n",
    "    femmes_total = art[art['Gender']=='féminin'].groupby('acquisition_year').count()['_id'].reindex(range(1945, 2018), fill_value=0)\n",
    "    hommes_total = art[art['Gender']=='masculin'].groupby('acquisition_year').count()['_id'].reindex(range(1945, 2018), fill_value=0)\n",
    "    femmes_dons = dons[dons['Gender']=='féminin'].groupby('acquisition_year').count()['_id'].reindex(range(1945, 2018), fill_value=0)\n",
    "    hommes_dons = dons[dons['Gender']=='masculin'].groupby('acquisition_year').count()['_id'].reindex(range(1945, 2018), fill_value=0)\n",
    "    \n",
    "    rf = femmes_dons/femmes_total\n",
    "    rh = hommes_dons/hommes_total\n",
    "    \n",
    "    fig, ax = plt.subplots()\n",
    "    rf.plot(figsize=PLOTDIM, color=color_f, marker='.', linewidth=2, ax=ax)\n",
    "    rh.plot(figsize=PLOTDIM, color=color_h, marker='.', linewidth=2, ax=ax)\n",
    "    \n",
    "    ax.set_xlim(left = 1945,right = 2017)\n",
    "    ax.set_ylim(bottom = -0.01,top = 1.01)\n",
    "    ax.tick_params(labelsize = 15)\n",
    "    ax.xaxis.set_major_locator(ticker.MultipleLocator(FREQYEARS))\n",
    "    ax.set_xlabel('')\n",
    "    ax.set_yticklabels(['{:,.0%}'.format(x) for x in ax.get_yticks()])\n",
    "    plt.grid()\n",
    "    plt.savefig(\"proportions_genre_dons.png\", bbox_inches='tight',format=\"png\", dpi=300, transparent=True)\n",
    "    plt.close()"
   ]
  },
  {
   "cell_type": "code",
   "execution_count": 22,
   "metadata": {},
   "outputs": [],
   "source": [
    "proportions_genre_dons(art)"
   ]
  },
  {
   "cell_type": "markdown",
   "metadata": {
    "scrolled": true
   },
   "source": [
    "## Partie 4 : proportion de dons par nationalité "
   ]
  },
  {
   "cell_type": "code",
   "execution_count": 23,
   "metadata": {},
   "outputs": [],
   "source": [
    "def proportions_nat_dons(art):\n",
    "    art['nationality'] = art['nationality'].fillna('XXXXXXX')\n",
    "    art = art[(art['acquisition_year'] >= 1945) & (art['acquisition_year'] <= 2017)]\n",
    "    dons = art[art['acquisition_mode_clean'].isin(cat_dons)]\n",
    "\n",
    "    french_total = art[art['nationality'].str.contains('français')].groupby('acquisition_year').count()['_id'].reindex(range(1945, 2018), fill_value=0)\n",
    "    nonfrench_total = art[~art['nationality'].str.contains('français')].groupby('acquisition_year').count()['_id'].reindex(range(1945, 2018), fill_value=0)\n",
    "    french_dons = dons[dons['nationality'].str.contains('français')].groupby('acquisition_year').count()['_id'].reindex(range(1945, 2018), fill_value=0)\n",
    "    nonfrench_dons = dons[~dons['nationality'].str.contains('français')].groupby('acquisition_year').count()['_id'].reindex(range(1945, 2018), fill_value=0)\n",
    "    \n",
    "    rf = french_dons/french_total\n",
    "    rnf = nonfrench_dons/nonfrench_total\n",
    "    \n",
    "    fig, ax = plt.subplots()\n",
    "    rf.plot(figsize=PLOTDIM, color='green', marker='.', linewidth=2, ax=ax)\n",
    "    rnf.plot(figsize=PLOTDIM, color='purple', marker='.', linewidth=2, ax=ax)\n",
    "    \n",
    "    ax.set_xlim(left = 1945,right = 2017)\n",
    "    ax.set_ylim(bottom = -0.01,top = 1.01)\n",
    "    ax.tick_params(labelsize = 15)\n",
    "    ax.xaxis.set_major_locator(ticker.MultipleLocator(FREQYEARS))\n",
    "    ax.set_xlabel('')\n",
    "    ax.set_yticklabels(['{:,.0%}'.format(x) for x in ax.get_yticks()])\n",
    "    plt.grid()\n",
    "    plt.savefig(\"proportions_nat_dons.png\", bbox_inches='tight',format=\"png\", dpi=300, transparent=True)\n",
    "    plt.close()"
   ]
  },
  {
   "cell_type": "code",
   "execution_count": 24,
   "metadata": {},
   "outputs": [],
   "source": [
    "proportions_nat_dons(art)"
   ]
  },
  {
   "cell_type": "markdown",
   "metadata": {},
   "source": [
    "## Partie 5 : part de dons par domaine"
   ]
  },
  {
   "cell_type": "code",
   "execution_count": 25,
   "metadata": {},
   "outputs": [],
   "source": [
    "def domains_prop_dons(art):\n",
    "    art = art[(art['acquisition_year'] >= 1945) & (art['acquisition_year'] <= 2017)]\n",
    "    overall = art.groupby('acquisition_year').count()['_id'].reindex(range(1945, 2018), fill_value=0)\n",
    "    overall_d = art[art['acquisition_mode_clean'].isin(cat_dons)].groupby('acquisition_year').count()['_id'].reindex(range(1945, 2018), fill_value=0)\n",
    "    overall = pd.Series(overall_d/overall, name=\"Tous domaines\")\n",
    "    total = art.groupby(['domain', 'acquisition_year']).count()['_id']\n",
    "    \n",
    "    # We need the fraction of Dons in each year/domain\n",
    "    f = art[art['acquisition_mode_clean'].isin(cat_dons)].groupby(['domain', 'acquisition_year']).count()['_id']\n",
    "    ratio = f/total\n",
    "    if len(ratio) > 0:\n",
    "        ratio = ratio.reset_index(name='Value')\n",
    "        names = sorted(list(ratio['domain'].unique()))\n",
    "        all_names = sorted(list(art['domain'].dropna().unique()))\n",
    "        ratio = ratio.pivot_table(index='domain', columns='acquisition_year', values='Value', aggfunc='sum')\n",
    "        ratio.index = names\n",
    "        ratio = ratio.reindex(columns=range(1945, 2018)).reindex(index=all_names)\n",
    "        ratio = ratio.append(overall)\n",
    "        mratio = np.matrix(ratio)\n",
    "        \n",
    "        # Then we customize the plot\n",
    "        fig, ax = plt.subplots(figsize=PLOTDIM)\n",
    "        im = ax.matshow(mratio, cmap=my_cm, vmin=0, vmax=1)\n",
    "        #fig.set_size_inches(PLOTDIM)\n",
    "        divider = make_axes_locatable(ax)\n",
    "        truc = divider.append_axes(\"right\", size=\"2%\", pad=-4.4)\n",
    "        cbar = plt.colorbar(im, cax=truc)\n",
    "        cbar.ax.set_yticklabels(['0%', '20%', '40%', '60%', '80%','100%'], fontsize=10)\n",
    "        \n",
    "        ax.set_xticklabels(['1950', '', '1970', '', '1990', '', '2010'], fontsize=10)\n",
    "        ax.xaxis.set_ticks_position('bottom')\n",
    "        ax.set_xticks(np.arange(5, 71, 10))\n",
    "        domains = list(ratio.index)\n",
    "        domains = [d if not \"Domaine mixte\" in d else \"Domaine mixte\" for d in domains]\n",
    "        ax.set_yticks(np.arange(0, len(domains), 1))\n",
    "        ax.set_yticklabels(domains, fontsize=10)\n",
    "        ax.set_aspect(5)\n",
    "    plt.savefig(\"domains_prop_dons.png\", bbox_inches='tight',format=\"png\", dpi=300, transparent=True)\n",
    "    plt.close()"
   ]
  },
  {
   "cell_type": "code",
   "execution_count": 26,
   "metadata": {},
   "outputs": [],
   "source": [
    "domains_prop_dons(art)"
   ]
  },
  {
   "cell_type": "code",
   "execution_count": 27,
   "metadata": {},
   "outputs": [],
   "source": [
    "def plot_categories_bytype(art, name=\"comparaison_domains.png\"):\n",
    "    art = art[(art['acquisition_year'] >= 1945) & (art['acquisition_year'] <= 2017)]\n",
    "    total = art.groupby('domain').count()['_id']\n",
    "    donscat = art[art['acquisition_mode_clean'].isin(cat_dons)].groupby('domain').count()['_id']\n",
    "    achcat = art[art['acquisition_mode_clean']=='Achat'].groupby('domain').count()['_id']\n",
    "    comcat = art[art['acquisition_mode_clean']=='Commande'].groupby('domain').count()['_id']\n",
    "    res = pd.concat([donscat/donscat.sum(), achcat/achcat.sum(), comcat/comcat.sum()], axis=1, sort=False).fillna(0)\n",
    "    res.columns = ['Dons', 'Achats', 'Commandes']\n",
    "    plot = res.plot.bar(figsize=PLOTDIM, cmap=my_cm, legend=None)\n",
    "    fig = plot.get_figure()\n",
    "    plt.savefig(name, bbox_inches='tight',format=\"png\", dpi=300, transparent=True)"
   ]
  },
  {
   "cell_type": "code",
   "execution_count": 28,
   "metadata": {},
   "outputs": [
    {
     "data": {
      "image/png": "[encoded data removed]",
      "text/plain": [
       "<Figure size 648x432 with 1 Axes>"
      ]
     },
     "metadata": {
      "needs_background": "light"
     },
     "output_type": "display_data"
    },
    {
     "data": {
      "image/png": "[encoded data removed]",
      "text/plain": [
       "<Figure size 648x432 with 1 Axes>"
      ]
     },
     "metadata": {
      "needs_background": "light"
     },
     "output_type": "display_data"
    },
    {
     "data": {
      "image/png": "[encoded data removed]",
      "text/plain": [
       "<Figure size 648x432 with 1 Axes>"
      ]
     },
     "metadata": {
      "needs_background": "light"
     },
     "output_type": "display_data"
    }
   ],
   "source": [
    "plot_categories_bytype(art, name=\"comparaison_domains.png\")\n",
    "plot_categories_bytype(art[art['Gender']=='masculin'], name=\"comparaison_domains_hommes.png\")\n",
    "plot_categories_bytype(art[art['Gender']=='féminin'], name=\"comparaison_domains_femmes.png\")"
   ]
  },
  {
   "cell_type": "code",
   "execution_count": 29,
   "metadata": {},
   "outputs": [
    {
     "data": {
      "text/plain": [
       "1.3481156203252425"
      ]
     },
     "execution_count": 29,
     "metadata": {},
     "output_type": "execute_result"
    }
   ],
   "source": [
    "art[(art['acquisition_mode_clean'].isin(cat_dons)) & (art['Gender']=='masculin')]['nb_expos'].mean()"
   ]
  },
  {
   "cell_type": "markdown",
   "metadata": {},
   "source": [
    "## Partie 6 : comparaison avec les achats et les commandes"
   ]
  },
  {
   "cell_type": "code",
   "execution_count": 30,
   "metadata": {},
   "outputs": [],
   "source": [
    "def domains_prop_others(art, mod):\n",
    "    art = art[(art['acquisition_year'] >= 1945) & (art['acquisition_year'] <= 2017)]\n",
    "    overall = art.groupby('acquisition_year').count()['_id'].reindex(range(1945, 2018), fill_value=0)\n",
    "    overall_d = art[art['acquisition_mode_clean'] == mod].groupby('acquisition_year').count()['_id'].reindex(range(1945, 2018), fill_value=0)\n",
    "    overall = pd.Series(overall_d/overall, name=\"Tous domaines\")\n",
    "    total = art.groupby(['domain', 'acquisition_year']).count()['_id']\n",
    "    \n",
    "    # We need the fraction of Dons in each year/domain\n",
    "    f = art[art['acquisition_mode_clean'] == mod].groupby(['domain', 'acquisition_year']).count()['_id']\n",
    "    ratio = f/total\n",
    "    if len(ratio) > 0:\n",
    "        ratio = ratio.reset_index(name='Value')\n",
    "        names = sorted(list(ratio['domain'].unique()))\n",
    "        all_names = sorted(list(art['domain'].dropna().unique()))\n",
    "        ratio = ratio.pivot_table(index='domain', columns='acquisition_year', values='Value', aggfunc='sum')\n",
    "        ratio.index = names\n",
    "        ratio = ratio.reindex(columns=range(1945, 2018)).reindex(index=all_names)\n",
    "        ratio = ratio.append(overall)\n",
    "        mratio = np.matrix(ratio)\n",
    "        \n",
    "        # Then we customize the plot\n",
    "        fig, ax = plt.subplots(figsize=PLOTDIM)\n",
    "        im = ax.matshow(mratio, cmap=my_cm, vmin=0, vmax=1)\n",
    "        #fig.set_size_inches(PLOTDIM)\n",
    "        divider = make_axes_locatable(ax)\n",
    "        truc = divider.append_axes(\"right\", size=\"2%\", pad=-4.4)\n",
    "        cbar = plt.colorbar(im, cax=truc)\n",
    "        cbar.ax.set_yticklabels(['0%', '20%', '40%', '60%', '80%','100%'], fontsize=10)\n",
    "        \n",
    "        ax.set_xticklabels(['1950', '', '1970', '', '1990', '', '2010'], fontsize=10)\n",
    "        ax.xaxis.set_ticks_position('bottom')\n",
    "        ax.set_xticks(np.arange(5, 71, 10))\n",
    "        domains = list(ratio.index)\n",
    "        domains = [d if not \"Domaine mixte\" in d else \"Domaine mixte\" for d in domains]\n",
    "        ax.set_yticks(np.arange(0, len(domains), 1))\n",
    "        ax.set_yticklabels(domains, fontsize=10)\n",
    "        ax.set_aspect(5)\n",
    "    plt.savefig(\"domains_prop_\" + mod.lower() + \".png\", bbox_inches='tight',format=\"png\", dpi=300, transparent=True)\n",
    "    plt.close()"
   ]
  },
  {
   "cell_type": "code",
   "execution_count": 31,
   "metadata": {},
   "outputs": [],
   "source": [
    "domains_prop_others(art, mod='Achat')\n",
    "domains_prop_others(art, mod='Commande')"
   ]
  },
  {
   "cell_type": "markdown",
   "metadata": {},
   "source": [
    "## Partie 7 : nombres d'expositions en fonction du mode d'acquisition"
   ]
  },
  {
   "cell_type": "code",
   "execution_count": 32,
   "metadata": {},
   "outputs": [],
   "source": [
    "def compte_expositions_dons(art):\n",
    "    art = art[(art['acquisition_year'] >= 1945) & (art['acquisition_year'] <= 2017)]\n",
    "    dons = art[art['acquisition_mode_clean'].isin(cat_dons)]\n",
    "    ndons = art[~art['acquisition_mode_clean'].isin(cat_dons)]\n",
    "    \n",
    "    agg_dons = dons.groupby('acquisition_year').mean()['nb_expos']\n",
    "    agg_ndons = ndons.groupby('acquisition_year').mean()['nb_expos']\n",
    "    \n",
    "    fig, ax = plt.subplots()\n",
    "    agg_dons.plot(figsize=PLOTDIM, color='green', marker='.', linewidth=2, ax=ax)\n",
    "    agg_ndons.plot(figsize=PLOTDIM, color='purple', marker='.', linewidth=2, ax=ax)\n",
    "    ax.set_xlim(left = 1945,right = 2017)\n",
    "    # ax.set_ylim(bottom = -0.01,top = 1.01)\n",
    "    ax.tick_params(labelsize = 15)\n",
    "    ax.xaxis.set_major_locator(ticker.MultipleLocator(FREQYEARS))\n",
    "    ax.set_xlabel('')\n",
    "    # ax.set_yticklabels(['{:,.0%}'.format(x) for x in ax.get_yticks()])\n",
    "    plt.grid()\n",
    "    plt.savefig(\"compte_expositions_dons.png\", bbox_inches='tight',format=\"png\", dpi=300, transparent=True)\n",
    "    plt.close()"
   ]
  },
  {
   "cell_type": "code",
   "execution_count": 33,
   "metadata": {},
   "outputs": [],
   "source": [
    "compte_expositions_dons(art)"
   ]
  },
  {
   "cell_type": "markdown",
   "metadata": {},
   "source": [
    "## Partie 8 : les unico-donnateurs morts"
   ]
  },
  {
   "cell_type": "code",
   "execution_count": 34,
   "metadata": {},
   "outputs": [
    {
     "data": {
      "image/png": "[encoded data removed]",
      "text/plain": [
       "<Figure size 648x432 with 1 Axes>"
      ]
     },
     "metadata": {
      "needs_background": "light"
     },
     "output_type": "display_data"
    }
   ],
   "source": [
    "plot = authors[authors['unique_mode'].isin(cat_dons)]['unique_domain'].value_counts().plot.bar(figsize=PLOTDIM, cmap=my_cm, legend=None)\n",
    "fig = plot.get_figure()\n",
    "plt.savefig(\"comparaison_domains.png\", bbox_inches='tight',format=\"png\", dpi=300, transparent=True)"
   ]
  },
  {
   "cell_type": "code",
   "execution_count": 35,
   "metadata": {
    "scrolled": false
   },
   "outputs": [
    {
     "data": {
      "text/plain": [
       "57.4078947368421"
      ]
     },
     "execution_count": 35,
     "metadata": {},
     "output_type": "execute_result"
    }
   ],
   "source": [
    "authors[authors['unique_mode'].isin(cat_dons) & (authors['Gender']=='féminin')]['unique_age'].mean()"
   ]
  },
  {
   "cell_type": "markdown",
   "metadata": {},
   "source": [
    "## Partie 6 : nombre de \"points de contacts\" par artiste"
   ]
  },
  {
   "cell_type": "code",
   "execution_count": null,
   "metadata": {},
   "outputs": [],
   "source": [
    "def get_contact_points(art, subset, subset_name, path):\n",
    "    art = art[(art['acquisition_year'] >= 1945) & (art['acquisition_year'] <= 2017)]\n",
    "    subset = subset[(subset['acquisition_year'] >= 1945) & (subset['acquisition_year'] <= 2017)]\n",
    "    art_contacts = art.groupby(['authors', 'acquisition_year']).first().reset_index()\n",
    "    sub_contacts = subset.groupby(['authors', 'acquisition_year']).first().reset_index()\n",
    "    fig, ax = plt.subplots()\n",
    "    total = sub_contacts.groupby('acquisition_year').count()['_id']\n",
    "    f1 = sub_contacts[sub_contacts['Gender']=='féminin'].groupby('acquisition_year').count()\n",
    "    f1 = f1['_id']\n",
    "    f1 = f1.reindex(range(1945, 2018), fill_value=0)\n",
    "    total = total.reindex(range(1945, 2018))\n",
    "    ratio = f1/total\n",
    "    ratio = ratio.reindex(range(1945, 2018))\n",
    "    ratio.plot(figsize=PLOTDIM, color=color_f, marker='.', linewidth=2, ax=ax)\n",
    "    ax.set_xlim(left = 1945,right = 2017)\n",
    "    ax.set_ylim(bottom = -0.01,top = 1.01)\n",
    "    ax.tick_params(labelsize = 15)\n",
    "    ax.xaxis.set_major_locator(ticker.MultipleLocator(FREQYEARS))\n",
    "    ax.set_xlabel('')\n",
    "    ax.set_yticklabels(['{:,.0%}'.format(x) for x in ax.get_yticks()])\n",
    "    plt.grid()\n",
    "    plt.savefig(path, bbox_inches='tight',format=\"png\", dpi=300, transparent=True)\n",
    "    plt.close()"
   ]
  },
  {
   "cell_type": "code",
   "execution_count": null,
   "metadata": {},
   "outputs": [],
   "source": [
    "get_contact_points(art, art, \"ensemble des collections\",\n",
    "                      \"./figures/_global/ratio_contacts.png\")\n",
    "get_contact_points(art, art[art['collection'].isin(fracs)], \"ensemble des 18 FRAC\",\n",
    "                      \"./figures/_fracs/ratio_contacts.png\")\n",
    "get_contact_points(art, art[art['collection'].isin(musées)], \"ensemble des musées\",\n",
    "                      \"./figures/_musees/ratio_contacts.png\")\n",
    "get_contact_points(art, art[art['collection'].isin(autres)], \"autres musées\",\n",
    "                      \"./figures/_autres/ratio_contacts.png\")"
   ]
  },
  {
   "cell_type": "code",
   "execution_count": null,
   "metadata": {},
   "outputs": [],
   "source": [
    "for museum in art['collection'].dropna().unique():\n",
    "    # print(\"Musée en cours:\", museum)\n",
    "    subset = art[art['collection'] == museum]\n",
    "    get_contact_points(art, subset, museum, \"./figures/\" + validname(museum) + \"/ratio_contacts.png\")\n",
    "    del subset\n",
    "print('Done')"
   ]
  },
  {
   "cell_type": "markdown",
   "metadata": {},
   "source": [
    "## Partie 7 : age de l'artiste à la première aquisition "
   ]
  },
  {
   "cell_type": "code",
   "execution_count": null,
   "metadata": {},
   "outputs": [],
   "source": [
    "# Function to plot the age at acquisition (separated between hommes and femmes)\n",
    "def get_age_firt_acqu(art, subset, subset_name, path):\n",
    "    art = art[(art['acquisition_year'] >= 1945) & (art['acquisition_year'] <= 2017)]\n",
    "    subset = subset[(subset['acquisition_year'] >= 1945) & (subset['acquisition_year'] <= 2017)]\n",
    "    subset = subset[subset['is_first'] == 1]\n",
    "    fig, ax = plt.subplots()\n",
    "    total = subset.groupby('acquisition_year').mean()['age_at_acquisition']\n",
    "    # Femmes\n",
    "    f = subset[subset['Gender']=='féminin'].groupby('acquisition_year').mean()\n",
    "    if len(f) > 0:\n",
    "        f = f['age_at_acquisition']\n",
    "        f = f.reindex(range(1945, 2018))\n",
    "        f.plot(figsize=PLOTDIM, color=color_f, marker='.', linewidth=2, ax=ax)\n",
    "    # Hommes\n",
    "    h = subset[subset['Gender']=='masculin'].groupby('acquisition_year').mean()\n",
    "    if len(h) > 0:\n",
    "        h = h['age_at_acquisition']\n",
    "        h = h.reindex(range(1945, 2018))\n",
    "        h.plot(figsize=PLOTDIM, color=color_h, marker='.', linewidth=2, ax=ax)\n",
    "    ax.set_xlim(left = 1945,right = 2017)\n",
    "    ax.set_ylim(bottom = -1,top = 141)\n",
    "    ax.tick_params(labelsize = 15)\n",
    "    ax.xaxis.set_major_locator(ticker.MultipleLocator(FREQYEARS))\n",
    "    ax.set_xlabel('')\n",
    "    plt.grid()\n",
    "    plt.savefig(path, bbox_inches='tight',format=\"png\", dpi=300, transparent=True)\n",
    "    plt.close()"
   ]
  },
  {
   "cell_type": "code",
   "execution_count": null,
   "metadata": {},
   "outputs": [],
   "source": [
    "get_age_firt_acqu(art, art, \"ensemble des collections\",\n",
    "                      \"./figures/_global/age_first_acquisition.png\")\n",
    "get_age_firt_acqu(art, art[art['collection'].isin(fracs)], \"ensemble des 18 FRAC\",\n",
    "                      \"./figures/_fracs/age_first_acquisition.png\")\n",
    "get_age_firt_acqu(art, art[art['collection'].isin(musées)], \"ensemble des musées\",\n",
    "                      \"./figures/_musees/age_first_acquisition.png\")\n",
    "get_age_firt_acqu(art, art[art['collection'].isin(autres)], \"autres musées\",\n",
    "                      \"./figures/_autres/age_first_acquisition.png\")"
   ]
  },
  {
   "cell_type": "code",
   "execution_count": null,
   "metadata": {},
   "outputs": [],
   "source": [
    "for museum in art['collection'].dropna().unique():\n",
    "    # print(\"Musée en cours:\", museum)\n",
    "    subset = art[art['collection'] == museum]\n",
    "    get_age_firt_acqu(art, subset, museum, \"./figures/\" + validname(museum) + \"/age_first_acquisition.png\")\n",
    "    del subset\n",
    "print('Done')"
   ]
  },
  {
   "cell_type": "markdown",
   "metadata": {},
   "source": [
    "## Partie 8 : nombre d'aquisitions"
   ]
  },
  {
   "cell_type": "code",
   "execution_count": null,
   "metadata": {},
   "outputs": [],
   "source": [
    "# Function to plot the proportion of femmes in any subset of Arworks\n",
    "def get_number_acqu(art, subset, subset_name, path):\n",
    "    art = art[(art['acquisition_year'] >= 1945) & (art['acquisition_year'] <= 2017)]\n",
    "    subset = subset[(subset['acquisition_year'] >= 1945) & (subset['acquisition_year'] <= 2017)]\n",
    "    fig, ax = plt.subplots()\n",
    "    total1 = subset.groupby('acquisition_year').count()['_id']\n",
    "    f1 = subset[subset['Gender']=='féminin'].groupby('acquisition_year').count()\n",
    "    f2 = subset[subset['Gender']=='masculin'].groupby('acquisition_year').count()\n",
    "    f1 = f1['_id']\n",
    "    f2 = f2['_id']\n",
    "    f1 = f1.reindex(range(1945, 2018))\n",
    "    f2 = f2.reindex(range(1945, 2018))\n",
    "    f1.plot(figsize=PLOTDIM, color=color_f, marker='.', linewidth=2, ax=ax)\n",
    "    f2.plot(figsize=PLOTDIM, color=color_h, marker='.', linewidth=2, ax=ax)\n",
    "    ax.set_xlim(left = 1945,right = 2017)\n",
    "    ax.set_ylim(bottom = -10,top = 12010)\n",
    "    ax.tick_params(labelsize = 15)\n",
    "    ax.xaxis.set_major_locator(ticker.MultipleLocator(FREQYEARS))\n",
    "    ax.set_xlabel('')\n",
    "    plt.grid()\n",
    "    plt.savefig(path, bbox_inches='tight',format=\"png\", dpi=300, transparent=True)\n",
    "    plt.close()"
   ]
  },
  {
   "cell_type": "code",
   "execution_count": null,
   "metadata": {},
   "outputs": [],
   "source": [
    "get_number_acqu(art, art, \"ensemble des collections\",\n",
    "                      \"./figures/_global/nb_acquisitions.png\")\n",
    "get_number_acqu(art, art[art['collection'].isin(fracs)], \"ensemble des 18 FRAC\",\n",
    "                      \"./figures/_fracs/nb_acquisitions.png\")\n",
    "get_number_acqu(art, art[art['collection'].isin(musées)], \"ensemble des musées\",\n",
    "                      \"./figures/_musees/nb_acquisitions.png\")\n",
    "get_number_acqu(art, art[art['collection'].isin(autres)], \"autres musées\",\n",
    "                      \"./figures/_autres/nb_acquisitions.png\")"
   ]
  },
  {
   "cell_type": "code",
   "execution_count": null,
   "metadata": {},
   "outputs": [],
   "source": [
    "art[(art['acquisition_year'] == 2004) & (art['authors'] == '9000000000066601')]"
   ]
  },
  {
   "cell_type": "code",
   "execution_count": null,
   "metadata": {},
   "outputs": [],
   "source": [
    "index = [len(set(x)) > 1 for x in authors['ID artworks'].str.split('|')]\n",
    "index1, index2, index3 = [], [], []\n",
    "for x in authors['acquisition_year'].str.split('|'):\n",
    "    if x is np.NaN: index1.append(False), index2.append(False), index3.append(False)\n",
    "    else: index1.append(min([int(y) for y in x]) > 1944), index2.append(len(set(x)) > 1), index3.append(min([int(y) for y in x]) < 2010)\n",
    "len(authors[[index[i] and index1[i] and index2[i] and index3[i] for i in range(len(index))]])"
   ]
  },
  {
   "cell_type": "code",
   "execution_count": null,
   "metadata": {},
   "outputs": [],
   "source": []
  }
 ],
 "metadata": {
  "kernelspec": {
   "display_name": "Python 3",
   "language": "python",
   "name": "python3"
  },
  "language_info": {
   "codemirror_mode": {
    "name": "ipython",
    "version": 3
   },
   "file_extension": ".py",
   "mimetype": "text/x-python",
   "name": "python",
   "nbconvert_exporter": "python",
   "pygments_lexer": "ipython3",
   "version": "3.6.6"
  }
 },
 "nbformat": 4,
 "nbformat_minor": 2
}
