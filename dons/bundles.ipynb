{
 "cells": [
  {
   "cell_type": "markdown",
   "metadata": {},
   "source": [
    "# Les bundles"
   ]
  },
  {
   "cell_type": "markdown",
   "metadata": {},
   "source": [
    "Nettoyage du champs `acquisition` de `art` pour obtenir la source du don"
   ]
  },
  {
   "cell_type": "code",
   "execution_count": 36,
   "metadata": {},
   "outputs": [
    {
     "data": {
      "text/plain": [
       "21"
      ]
     },
     "execution_count": 36,
     "metadata": {},
     "output_type": "execute_result"
    }
   ],
   "source": [
    "# Les données sont stockées dans le dossier \"data\", c'est plus clean\n",
    "authors = pd.read_csv('../data/ALL_AUTHORS (live_work + clean nat).csv', encoding='utf-8', sep=',', low_memory=False)\n",
    "raw_art = pd.read_csv('../data/ALL_ARTWORKS (for stats use ONLY).csv', encoding='utf-8', sep=',', low_memory=False)\n",
    "raw_art['groupcol'] = raw_art['related'].fillna(value='') + raw_art['acquisition'].fillna(value='')\n",
    "len(raw_art[raw_art['groupcol'] == ''])"
   ]
  },
  {
   "cell_type": "code",
   "execution_count": 37,
   "metadata": {},
   "outputs": [
    {
     "name": "stdout",
     "output_type": "stream",
     "text": [
      "(348333, 117) (120902, 117)\n"
     ]
    }
   ],
   "source": [
    "# On fusionne les \"séries\"\n",
    "art = raw_art.groupby(['groupcol', 'authors', 'acquisition_year', 'acquisition_mode_clean']).first().reset_index()\n",
    "print(raw_art.shape, art.shape)"
   ]
  },
  {
   "cell_type": "code",
   "execution_count": 38,
   "metadata": {},
   "outputs": [],
   "source": [
    "def clean_source_string(x):\n",
    "    y = re.sub(r'(Don de |Donation de |Legs de |Don |Legs |Donation |Dation )', '', x)\n",
    "    y = re.sub(r'(Achat à |Achat |Achat par commande à )', '', y)\n",
    "    z = re.sub(r\"(le |la |l' |l'|d' |d')\", '', y)\n",
    "    a = re.sub(r'(, \\d{4})', '', z)\n",
    "    b = re.sub(r'(en \\d{4})', '', a)\n",
    "    return b.strip()"
   ]
  },
  {
   "cell_type": "code",
   "execution_count": 39,
   "metadata": {},
   "outputs": [],
   "source": [
    "def unique_source(x):\n",
    "    import string\n",
    "    x.translate(str.maketrans('', '', string.punctuation))\n",
    "    return x.lower().replace(\" \", \"\")"
   ]
  },
  {
   "cell_type": "code",
   "execution_count": 40,
   "metadata": {},
   "outputs": [],
   "source": [
    "art['acquisition'] = art['acquisition'].fillna('')\n",
    "art['source'] = art['acquisition'].apply(clean_source_string)\n",
    "art['source_clean'] = art['source'].apply(unique_source)"
   ]
  },
  {
   "cell_type": "code",
   "execution_count": 41,
   "metadata": {},
   "outputs": [],
   "source": [
    "cat_achat = ['Commande', 'Achat']\n",
    "cat_dons = ['Don', 'Donation', 'Legs']"
   ]
  },
  {
   "cell_type": "code",
   "execution_count": 42,
   "metadata": {},
   "outputs": [],
   "source": [
    "def clean_source(source):\n",
    "    if source == \"\" or source is None:\n",
    "        return \"NA\"\n",
    "    elif re.compile(r'galler|galer').search(source.lower()):\n",
    "        return \"GALLERY\"\n",
    "    elif re.compile(r'artist').search(source.lower()):\n",
    "        return \"ARTIST\"\n",
    "    else:\n",
    "        return \"OTHER\""
   ]
  },
  {
   "cell_type": "code",
   "execution_count": 43,
   "metadata": {},
   "outputs": [],
   "source": [
    "art['source_category'] = art['source'].apply(clean_source)"
   ]
  },
  {
   "cell_type": "code",
   "execution_count": 44,
   "metadata": {},
   "outputs": [
    {
     "data": {
      "text/plain": [
       "ARTIST     49997\n",
       "OTHER      32087\n",
       "NA         25466\n",
       "GALLERY    13352\n",
       "Name: source_category, dtype: int64"
      ]
     },
     "execution_count": 44,
     "metadata": {},
     "output_type": "execute_result"
    }
   ],
   "source": [
    "art['source_category'].value_counts()"
   ]
  },
  {
   "cell_type": "code",
   "execution_count": 45,
   "metadata": {},
   "outputs": [],
   "source": [
    "art['source'] = art.apply(lambda row: row['authors'] if 'ARTIST' in row['source_category']\n",
    "                          else row['source'], axis=1)"
   ]
  },
  {
   "cell_type": "code",
   "execution_count": 46,
   "metadata": {},
   "outputs": [
    {
     "data": {
      "text/plain": [
       "24671"
      ]
     },
     "execution_count": 46,
     "metadata": {},
     "output_type": "execute_result"
    }
   ],
   "source": [
    "datadons = art[art['acquisition_mode_clean'].isin(cat_dons)].copy()\n",
    "len(datadons)"
   ]
  },
  {
   "cell_type": "code",
   "execution_count": 47,
   "metadata": {
    "scrolled": true
   },
   "outputs": [
    {
     "data": {
      "text/plain": [
       "OTHER      15372\n",
       "ARTIST      5793\n",
       "NA          2907\n",
       "GALLERY      599\n",
       "Name: source_category, dtype: int64"
      ]
     },
     "execution_count": 47,
     "metadata": {},
     "output_type": "execute_result"
    }
   ],
   "source": [
    "datadons['source_category'].value_counts()"
   ]
  },
  {
   "cell_type": "code",
   "execution_count": 48,
   "metadata": {},
   "outputs": [],
   "source": [
    "datadons = datadons[datadons['source_category'] != 'NA'].copy().reset_index()\n",
    "art = art[art['source_category'] != 'NA'].copy().reset_index()"
   ]
  },
  {
   "cell_type": "code",
   "execution_count": 49,
   "metadata": {},
   "outputs": [],
   "source": [
    "def compute_profile(row):\n",
    "    year = row['acquisition_year']\n",
    "    source_category = row['source_category']\n",
    "    source = row['source_clean']\n",
    "    authors = row['authors']\n",
    "    collection = row['collection']\n",
    "    \n",
    "    # Cas où le don vient de l'artiste : l’artiste A fait don d’une de ses œuvres et...\n",
    "    if \"ARTIST\" in source_category:\n",
    "        \n",
    "        # Même collection, année, source affiliée, et achat \n",
    "        # affiliated_source = art[(art['collection'] == collection)\n",
    "        #                & (art['source_clean'].isin(list_of_affiliated_galleries))\n",
    "        #                & (art['acquisition_year'] == year)\n",
    "        #                & (art['acquisition_mode_clean'].isin(cat_achat))]\n",
    "\n",
    "        # Même collection, année, artiste, et achat de la part d'un artiste\n",
    "        same_artist = art[(art['collection'] == collection)\n",
    "                        & (art['source_category'] == 'ARTIST')\n",
    "                        & (art['authors'] == authors)\n",
    "                        & (art['acquisition_year'] == year)\n",
    "                        & (art['acquisition_mode_clean'].isin(cat_achat))]\n",
    "\n",
    "        # Même collection, année, artiste, n'importe quelle source non artiste, et achat \n",
    "        any_source_same_artist = art[(art['collection'] == collection)\n",
    "                        & (art['source_category'] != 'ARTIST')\n",
    "                        & (art['authors'] == authors)\n",
    "                        & (art['acquisition_year'] == year)\n",
    "                        & (art['acquisition_mode_clean'].isin(cat_achat))]\n",
    "        \n",
    "        # ... personne ne vend rien\n",
    "        if len(same_artist) == 0 and len(any_source_same_artist) == 0:\n",
    "            return '1B'\n",
    "        # ... l'artiste vend au moins une œuvre\n",
    "        elif len(same_artist) > 0 and len(any_source_same_artist) == 0:\n",
    "            return '2D'\n",
    "        # .. une galerie quelconque vend au moins un oeuvre de A\n",
    "        elif len(same_artist) == 0 and len(any_source_same_artist) > 0:\n",
    "            return \"2E\"\n",
    "        # ... une galerie et l'artiste vendent du A\n",
    "        elif len(same_artist) > 0 and len(any_source_same_artist) > 0:\n",
    "            return \"2F\"\n",
    "        # ... une galerie affiliée vend un autre artiste que A\n",
    "        # elif len(affiliated_source) > 0:\n",
    "        #    return \"3B\"\n",
    "        # ... un autre cas de figure se passe\n",
    "        else:\n",
    "            return \"AUTRE_A\"\n",
    "    \n",
    "    # Cas où le don vient de la galerie : attention TOUT CE QUI N'EST PAS ARTISTE EST GALERIE\n",
    "    # la galerie G fait don de l'artiste A et...\n",
    "    else:\n",
    "        \n",
    "        # Même collection, année, source, et achat mais autre artiste\n",
    "        same_source = art[(art['collection'] == collection)\n",
    "                        & (art['authors'] != authors)\n",
    "                        & (art['source_clean'] == source)\n",
    "                        & (art['acquisition_year'] == year)\n",
    "                        & (art['acquisition_mode_clean'].isin(cat_achat))]\n",
    "\n",
    "        # Même collection, année, artiste, et achat d'un artiste\n",
    "        same_artist = art[(art['collection'] == collection)\n",
    "                        & (art['authors'] == authors)\n",
    "                        & (art['source_category'] == 'ARTIST')\n",
    "                        & (art['acquisition_year'] == year)\n",
    "                        & (art['acquisition_mode_clean'].isin(cat_achat))]\n",
    "\n",
    "        # Même collection, année, source, artiste, et achat \n",
    "        same_source_same_artist = art[(art['collection'] == collection)\n",
    "                        & (art['source_clean'] == source)\n",
    "                        & (art['authors'] == authors)\n",
    "                        & (art['acquisition_year'] == year)\n",
    "                        & (art['acquisition_mode_clean'].isin(cat_achat))]\n",
    "        \n",
    "        # ... personne ne vend rien\n",
    "        if len(same_artist) == 0 and len(same_source) == 0 and len(same_source_same_artist) == 0:\n",
    "            return '1A'\n",
    "        # ... l'artiste vend au moins une œuvre\n",
    "        elif len(same_artist) > 0 and len(same_source) == 0 and len(same_source_same_artist) == 0:\n",
    "            return '2A'\n",
    "        # .. la galerie vend au moins un oeuvre de A\n",
    "        elif len(same_artist) == 0 and len(same_source_same_artist) > 0:\n",
    "            return \"2B\"\n",
    "        # ... les deux vendent du A\n",
    "        elif len(same_artist) > 0 and len(same_source_same_artist) > 0:\n",
    "            return \"2C\"\n",
    "        # ... la galerie vend un autre artiste que A\n",
    "        elif len(same_source) > 0:\n",
    "            return \"3A\"\n",
    "        # ... un autre cas de figure se passe\n",
    "        else:\n",
    "            return \"AUTRE_G\""
   ]
  },
  {
   "cell_type": "code",
   "execution_count": 50,
   "metadata": {},
   "outputs": [],
   "source": [
    "datadons['profiles'] = datadons.apply(compute_profile, axis=1)"
   ]
  },
  {
   "cell_type": "code",
   "execution_count": 60,
   "metadata": {},
   "outputs": [
    {
     "data": {
      "text/html": [
       "<div>\n",
       "<style scoped>\n",
       "    .dataframe tbody tr th:only-of-type {\n",
       "        vertical-align: middle;\n",
       "    }\n",
       "\n",
       "    .dataframe tbody tr th {\n",
       "        vertical-align: top;\n",
       "    }\n",
       "\n",
       "    .dataframe thead th {\n",
       "        text-align: right;\n",
       "    }\n",
       "</style>\n",
       "<table border=\"1\" class=\"dataframe\">\n",
       "  <thead>\n",
       "    <tr style=\"text-align: right;\">\n",
       "      <th></th>\n",
       "      <th>Tous</th>\n",
       "      <th>Hommes</th>\n",
       "      <th>Femmes</th>\n",
       "    </tr>\n",
       "  </thead>\n",
       "  <tbody>\n",
       "    <tr>\n",
       "      <th>1A</th>\n",
       "      <td>15102</td>\n",
       "      <td>11903</td>\n",
       "      <td>1619</td>\n",
       "    </tr>\n",
       "    <tr>\n",
       "      <th>1B</th>\n",
       "      <td>4643</td>\n",
       "      <td>3776</td>\n",
       "      <td>656</td>\n",
       "    </tr>\n",
       "    <tr>\n",
       "      <th>2A</th>\n",
       "      <td>118</td>\n",
       "      <td>102</td>\n",
       "      <td>12</td>\n",
       "    </tr>\n",
       "    <tr>\n",
       "      <th>2B</th>\n",
       "      <td>354</td>\n",
       "      <td>293</td>\n",
       "      <td>38</td>\n",
       "    </tr>\n",
       "    <tr>\n",
       "      <th>2C</th>\n",
       "      <td>4</td>\n",
       "      <td>3</td>\n",
       "      <td>1</td>\n",
       "    </tr>\n",
       "    <tr>\n",
       "      <th>2D</th>\n",
       "      <td>755</td>\n",
       "      <td>567</td>\n",
       "      <td>111</td>\n",
       "    </tr>\n",
       "    <tr>\n",
       "      <th>2E</th>\n",
       "      <td>371</td>\n",
       "      <td>303</td>\n",
       "      <td>54</td>\n",
       "    </tr>\n",
       "    <tr>\n",
       "      <th>2F</th>\n",
       "      <td>24</td>\n",
       "      <td>22</td>\n",
       "      <td>2</td>\n",
       "    </tr>\n",
       "    <tr>\n",
       "      <th>3A</th>\n",
       "      <td>393</td>\n",
       "      <td>316</td>\n",
       "      <td>47</td>\n",
       "    </tr>\n",
       "  </tbody>\n",
       "</table>\n",
       "</div>"
      ],
      "text/plain": [
       "     Tous  Hommes  Femmes\n",
       "1A  15102   11903    1619\n",
       "1B   4643    3776     656\n",
       "2A    118     102      12\n",
       "2B    354     293      38\n",
       "2C      4       3       1\n",
       "2D    755     567     111\n",
       "2E    371     303      54\n",
       "2F     24      22       2\n",
       "3A    393     316      47"
      ]
     },
     "execution_count": 60,
     "metadata": {},
     "output_type": "execute_result"
    }
   ],
   "source": [
    "pd.concat([datadons['profiles'].value_counts().rename('Tous'),\n",
    "          datadons[datadons['Gender'] == 'masculin']['profiles'].value_counts().rename('Hommes'),\n",
    "          datadons[datadons['Gender'] == 'féminin']['profiles'].value_counts().rename('Femmes')],\n",
    "          axis=1, sort=True)"
   ]
  },
  {
   "cell_type": "code",
   "execution_count": 52,
   "metadata": {
    "scrolled": false
   },
   "outputs": [
    {
     "data": {
      "text/plain": [
       "<matplotlib.axes._subplots.AxesSubplot at 0x23fcf3b80b8>"
      ]
     },
     "execution_count": 52,
     "metadata": {},
     "output_type": "execute_result"
    },
    {
     "data": {
      "image/png": "[encoded data removed]",
      "text/plain": [
       "<Figure size 432x288 with 1 Axes>"
      ]
     },
     "metadata": {
      "needs_background": "light"
     },
     "output_type": "display_data"
    }
   ],
   "source": [
    "datadons['profiles'].value_counts().plot(kind='bar')"
   ]
  },
  {
   "cell_type": "code",
   "execution_count": 53,
   "metadata": {
    "scrolled": true
   },
   "outputs": [
    {
     "data": {
      "text/plain": [
       "<matplotlib.axes._subplots.AxesSubplot at 0x23fcf294550>"
      ]
     },
     "execution_count": 53,
     "metadata": {},
     "output_type": "execute_result"
    },
    {
     "data": {
      "image/png": "[encoded data removed]",
      "text/plain": [
       "<Figure size 432x288 with 1 Axes>"
      ]
     },
     "metadata": {
      "needs_background": "light"
     },
     "output_type": "display_data"
    }
   ],
   "source": [
    "datadons[datadons['Gender'] == 'masculin']['profiles'].value_counts().plot(kind='bar')"
   ]
  },
  {
   "cell_type": "code",
   "execution_count": 54,
   "metadata": {},
   "outputs": [
    {
     "data": {
      "text/plain": [
       "<matplotlib.axes._subplots.AxesSubplot at 0x23fcf417400>"
      ]
     },
     "execution_count": 54,
     "metadata": {},
     "output_type": "execute_result"
    },
    {
     "data": {
      "image/png": "[encoded data removed]",
      "text/plain": [
       "<Figure size 432x288 with 1 Axes>"
      ]
     },
     "metadata": {
      "needs_background": "light"
     },
     "output_type": "display_data"
    }
   ],
   "source": [
    "datadons[datadons['Gender'] == 'féminin']['profiles'].value_counts().plot(kind='bar')"
   ]
  }
 ],
 "metadata": {
  "kernelspec": {
   "display_name": "Python 3",
   "language": "python",
   "name": "python3"
  },
  "language_info": {
   "codemirror_mode": {
    "name": "ipython",
    "version": 3
   },
   "file_extension": ".py",
   "mimetype": "text/x-python",
   "name": "python",
   "nbconvert_exporter": "python",
   "pygments_lexer": "ipython3",
   "version": "3.6.6"
  }
 },
 "nbformat": 4,
 "nbformat_minor": 2
}
