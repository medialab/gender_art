{
 "cells": [
  {
   "cell_type": "code",
   "execution_count": 1,
   "metadata": {},
   "outputs": [],
   "source": [
    "import pandas as pd\n",
    "from pprint import pprint\n",
    "import matplotlib.pyplot as plt\n",
    "import os"
   ]
  },
  {
   "cell_type": "code",
   "execution_count": 9,
   "metadata": {},
   "outputs": [],
   "source": [
    "authors = pd.read_csv('authors_all.csv', encoding = 'utf-8', sep = \";\")"
   ]
  },
  {
   "cell_type": "code",
   "execution_count": 10,
   "metadata": {
    "scrolled": true
   },
   "outputs": [
    {
     "data": {
      "text/plain": [
       "(35958, 15)"
      ]
     },
     "execution_count": 10,
     "metadata": {},
     "output_type": "execute_result"
    }
   ],
   "source": [
    "authors.shape"
   ]
  },
  {
   "cell_type": "code",
   "execution_count": 11,
   "metadata": {
    "scrolled": true
   },
   "outputs": [
    {
     "data": {
      "text/html": [
       "<div>\n",
       "<style scoped>\n",
       "    .dataframe tbody tr th:only-of-type {\n",
       "        vertical-align: middle;\n",
       "    }\n",
       "\n",
       "    .dataframe tbody tr th {\n",
       "        vertical-align: top;\n",
       "    }\n",
       "\n",
       "    .dataframe thead th {\n",
       "        text-align: right;\n",
       "    }\n",
       "</style>\n",
       "<table border=\"1\" class=\"dataframe\">\n",
       "  <thead>\n",
       "    <tr style=\"text-align: right;\">\n",
       "      <th></th>\n",
       "      <th>Id artist</th>\n",
       "      <th>name</th>\n",
       "      <th>name extended</th>\n",
       "      <th>type</th>\n",
       "      <th>Birth year</th>\n",
       "      <th>Death year</th>\n",
       "      <th>Birth city</th>\n",
       "      <th>Birth state</th>\n",
       "      <th>Birth country</th>\n",
       "      <th>Death city</th>\n",
       "      <th>Death state</th>\n",
       "      <th>Death country</th>\n",
       "      <th>Gender</th>\n",
       "      <th>Nationality (original)</th>\n",
       "      <th>ID artworks</th>\n",
       "    </tr>\n",
       "  </thead>\n",
       "  <tbody>\n",
       "    <tr>\n",
       "      <th>0</th>\n",
       "      <td>380000000034856</td>\n",
       "      <td>&amp; IL TOPO</td>\n",
       "      <td>Aujourd’hui &amp; IL TOPO réunit : Armando della V...</td>\n",
       "      <td>groupe</td>\n",
       "      <td>NaN</td>\n",
       "      <td>NaN</td>\n",
       "      <td>NaN</td>\n",
       "      <td>NaN</td>\n",
       "      <td>NaN</td>\n",
       "      <td>NaN</td>\n",
       "      <td>NaN</td>\n",
       "      <td>NaN</td>\n",
       "      <td>groupe</td>\n",
       "      <td>NaN</td>\n",
       "      <td>380000000034695|380000000035465</td>\n",
       "    </tr>\n",
       "    <tr>\n",
       "      <th>1</th>\n",
       "      <td>6664664</td>\n",
       "      <td>(À L'EMBALLAGE DE CLÉMENTINE)</td>\n",
       "      <td>NaN</td>\n",
       "      <td>anonyme</td>\n",
       "      <td>NaN</td>\n",
       "      <td>NaN</td>\n",
       "      <td>NaN</td>\n",
       "      <td>NaN</td>\n",
       "      <td>NaN</td>\n",
       "      <td>NaN</td>\n",
       "      <td>NaN</td>\n",
       "      <td>NaN</td>\n",
       "      <td>NaN</td>\n",
       "      <td>NaN</td>\n",
       "      <td>280000000115916</td>\n",
       "    </tr>\n",
       "    <tr>\n",
       "      <th>2</th>\n",
       "      <td>6663648</td>\n",
       "      <td>(D'APRÈS)</td>\n",
       "      <td>NaN</td>\n",
       "      <td>anonyme</td>\n",
       "      <td>NaN</td>\n",
       "      <td>NaN</td>\n",
       "      <td>NaN</td>\n",
       "      <td>NaN</td>\n",
       "      <td>NaN</td>\n",
       "      <td>NaN</td>\n",
       "      <td>NaN</td>\n",
       "      <td>NaN</td>\n",
       "      <td>NaN</td>\n",
       "      <td>NaN</td>\n",
       "      <td>540000000000477|540000000000478|54000000000047...</td>\n",
       "    </tr>\n",
       "    <tr>\n",
       "      <th>3</th>\n",
       "      <td>6660426</td>\n",
       "      <td>(INSCRIPTIONS INTRAN STUDIO)</td>\n",
       "      <td>NaN</td>\n",
       "      <td>anonyme</td>\n",
       "      <td>NaN</td>\n",
       "      <td>NaN</td>\n",
       "      <td>NaN</td>\n",
       "      <td>NaN</td>\n",
       "      <td>NaN</td>\n",
       "      <td>NaN</td>\n",
       "      <td>NaN</td>\n",
       "      <td>NaN</td>\n",
       "      <td>NaN</td>\n",
       "      <td>NaN</td>\n",
       "      <td>480000000000233</td>\n",
       "    </tr>\n",
       "    <tr>\n",
       "      <th>4</th>\n",
       "      <td>6660563</td>\n",
       "      <td>(PABLO PICASSO (D'APRÈS))</td>\n",
       "      <td>NaN</td>\n",
       "      <td>anonyme</td>\n",
       "      <td>NaN</td>\n",
       "      <td>NaN</td>\n",
       "      <td>NaN</td>\n",
       "      <td>NaN</td>\n",
       "      <td>NaN</td>\n",
       "      <td>NaN</td>\n",
       "      <td>NaN</td>\n",
       "      <td>NaN</td>\n",
       "      <td>NaN</td>\n",
       "      <td>NaN</td>\n",
       "      <td>160000000001109|160000000105183|160000000105186</td>\n",
       "    </tr>\n",
       "    <tr>\n",
       "      <th>5</th>\n",
       "      <td>6660321</td>\n",
       "      <td>(SANS PRÉCISION)</td>\n",
       "      <td>NaN</td>\n",
       "      <td>anonyme</td>\n",
       "      <td>NaN</td>\n",
       "      <td>NaN</td>\n",
       "      <td>NaN</td>\n",
       "      <td>NaN</td>\n",
       "      <td>NaN</td>\n",
       "      <td>NaN</td>\n",
       "      <td>NaN</td>\n",
       "      <td>NaN</td>\n",
       "      <td>NaN</td>\n",
       "      <td>NaN</td>\n",
       "      <td>280000000139906|280000000139909|28000000013991...</td>\n",
       "    </tr>\n",
       "    <tr>\n",
       "      <th>6</th>\n",
       "      <td>6660552</td>\n",
       "      <td>(SIGNATURE ILLISIBLE) ?</td>\n",
       "      <td>NaN</td>\n",
       "      <td>anonyme</td>\n",
       "      <td>NaN</td>\n",
       "      <td>NaN</td>\n",
       "      <td>NaN</td>\n",
       "      <td>NaN</td>\n",
       "      <td>NaN</td>\n",
       "      <td>NaN</td>\n",
       "      <td>NaN</td>\n",
       "      <td>NaN</td>\n",
       "      <td>NaN</td>\n",
       "      <td>NaN</td>\n",
       "      <td>110000000126073|110000000126085|11000000012609...</td>\n",
       "    </tr>\n",
       "    <tr>\n",
       "      <th>7</th>\n",
       "      <td>9000000000087517</td>\n",
       "      <td>18 AOÛT</td>\n",
       "      <td>Groupe créé en 1987\\r\\n- Fabrice Berrux, né le...</td>\n",
       "      <td>groupe</td>\n",
       "      <td>NaN</td>\n",
       "      <td>NaN</td>\n",
       "      <td>NaN</td>\n",
       "      <td>NaN</td>\n",
       "      <td>NaN</td>\n",
       "      <td>NaN</td>\n",
       "      <td>NaN</td>\n",
       "      <td>NaN</td>\n",
       "      <td>groupe</td>\n",
       "      <td>NaN</td>\n",
       "      <td>140000000065966|140000000065967|14000000006596...</td>\n",
       "    </tr>\n",
       "    <tr>\n",
       "      <th>8</th>\n",
       "      <td>580000000000223</td>\n",
       "      <td>Dave 2000</td>\n",
       "      <td>NaN</td>\n",
       "      <td>artiste</td>\n",
       "      <td>NaN</td>\n",
       "      <td>NaN</td>\n",
       "      <td>NaN</td>\n",
       "      <td>NaN</td>\n",
       "      <td>NaN</td>\n",
       "      <td>NaN</td>\n",
       "      <td>NaN</td>\n",
       "      <td>NaN</td>\n",
       "      <td>masculin</td>\n",
       "      <td>NaN</td>\n",
       "      <td>580000000001409</td>\n",
       "    </tr>\n",
       "    <tr>\n",
       "      <th>9</th>\n",
       "      <td>9000000000087765</td>\n",
       "      <td>5.5 DESIGNERS</td>\n",
       "      <td>liste des membres :\\r\\nJean-Sébastien Blanc (N...</td>\n",
       "      <td>groupe</td>\n",
       "      <td>NaN</td>\n",
       "      <td>NaN</td>\n",
       "      <td>NaN</td>\n",
       "      <td>NaN</td>\n",
       "      <td>NaN</td>\n",
       "      <td>NaN</td>\n",
       "      <td>NaN</td>\n",
       "      <td>NaN</td>\n",
       "      <td>groupe</td>\n",
       "      <td>NaN</td>\n",
       "      <td>150000000369068|140000000108222|14000000010822...</td>\n",
       "    </tr>\n",
       "  </tbody>\n",
       "</table>\n",
       "</div>"
      ],
      "text/plain": [
       "          Id artist                           name  \\\n",
       "0   380000000034856                      & IL TOPO   \n",
       "1           6664664  (À L'EMBALLAGE DE CLÉMENTINE)   \n",
       "2           6663648                      (D'APRÈS)   \n",
       "3           6660426   (INSCRIPTIONS INTRAN STUDIO)   \n",
       "4           6660563      (PABLO PICASSO (D'APRÈS))   \n",
       "5           6660321               (SANS PRÉCISION)   \n",
       "6           6660552        (SIGNATURE ILLISIBLE) ?   \n",
       "7  9000000000087517                        18 AOÛT   \n",
       "8   580000000000223                      Dave 2000   \n",
       "9  9000000000087765                  5.5 DESIGNERS   \n",
       "\n",
       "                                       name extended     type  Birth year  \\\n",
       "0  Aujourd’hui & IL TOPO réunit : Armando della V...   groupe         NaN   \n",
       "1                                                NaN  anonyme         NaN   \n",
       "2                                                NaN  anonyme         NaN   \n",
       "3                                                NaN  anonyme         NaN   \n",
       "4                                                NaN  anonyme         NaN   \n",
       "5                                                NaN  anonyme         NaN   \n",
       "6                                                NaN  anonyme         NaN   \n",
       "7  Groupe créé en 1987\\r\\n- Fabrice Berrux, né le...   groupe         NaN   \n",
       "8                                                NaN  artiste         NaN   \n",
       "9  liste des membres :\\r\\nJean-Sébastien Blanc (N...   groupe         NaN   \n",
       "\n",
       "   Death year Birth city Birth state Birth country Death city Death state  \\\n",
       "0         NaN        NaN         NaN           NaN        NaN         NaN   \n",
       "1         NaN        NaN         NaN           NaN        NaN         NaN   \n",
       "2         NaN        NaN         NaN           NaN        NaN         NaN   \n",
       "3         NaN        NaN         NaN           NaN        NaN         NaN   \n",
       "4         NaN        NaN         NaN           NaN        NaN         NaN   \n",
       "5         NaN        NaN         NaN           NaN        NaN         NaN   \n",
       "6         NaN        NaN         NaN           NaN        NaN         NaN   \n",
       "7         NaN        NaN         NaN           NaN        NaN         NaN   \n",
       "8         NaN        NaN         NaN           NaN        NaN         NaN   \n",
       "9         NaN        NaN         NaN           NaN        NaN         NaN   \n",
       "\n",
       "  Death country    Gender Nationality (original)  \\\n",
       "0           NaN    groupe                    NaN   \n",
       "1           NaN       NaN                    NaN   \n",
       "2           NaN       NaN                    NaN   \n",
       "3           NaN       NaN                    NaN   \n",
       "4           NaN       NaN                    NaN   \n",
       "5           NaN       NaN                    NaN   \n",
       "6           NaN       NaN                    NaN   \n",
       "7           NaN    groupe                    NaN   \n",
       "8           NaN  masculin                    NaN   \n",
       "9           NaN    groupe                    NaN   \n",
       "\n",
       "                                         ID artworks  \n",
       "0                    380000000034695|380000000035465  \n",
       "1                                    280000000115916  \n",
       "2  540000000000477|540000000000478|54000000000047...  \n",
       "3                                    480000000000233  \n",
       "4    160000000001109|160000000105183|160000000105186  \n",
       "5  280000000139906|280000000139909|28000000013991...  \n",
       "6  110000000126073|110000000126085|11000000012609...  \n",
       "7  140000000065966|140000000065967|14000000006596...  \n",
       "8                                    580000000001409  \n",
       "9  150000000369068|140000000108222|14000000010822...  "
      ]
     },
     "execution_count": 11,
     "metadata": {},
     "output_type": "execute_result"
    }
   ],
   "source": [
    "authors.head(10)"
   ]
  },
  {
   "cell_type": "code",
   "execution_count": 12,
   "metadata": {},
   "outputs": [
    {
     "data": {
      "text/plain": [
       "Id artist                     0\n",
       "name                          0\n",
       "name extended             35438\n",
       "type                          0\n",
       "Birth year                10366\n",
       "Death year                23648\n",
       "Birth city                13739\n",
       "Birth state               25001\n",
       "Birth country             13740\n",
       "Death city                28575\n",
       "Death state               32786\n",
       "Death country             28576\n",
       "Gender                     1570\n",
       "Nationality (original)     8494\n",
       "ID artworks                   0\n",
       "dtype: int64"
      ]
     },
     "execution_count": 12,
     "metadata": {},
     "output_type": "execute_result"
    }
   ],
   "source": [
    "authors.isnull().sum(axis=0)"
   ]
  },
  {
   "cell_type": "markdown",
   "metadata": {},
   "source": [
    "## Gender"
   ]
  },
  {
   "cell_type": "code",
   "execution_count": 9,
   "metadata": {
    "scrolled": false
   },
   "outputs": [
    {
     "data": {
      "text/plain": [
       "masculin         24914\n",
       "féminin           7170\n",
       "non renseigné     1638\n",
       "groupe             666\n",
       "Name: Gender, dtype: int64"
      ]
     },
     "execution_count": 9,
     "metadata": {},
     "output_type": "execute_result"
    }
   ],
   "source": [
    "authors['Gender'].value_counts()"
   ]
  },
  {
   "cell_type": "code",
   "execution_count": 11,
   "metadata": {},
   "outputs": [
    {
     "data": {
      "text/plain": [
       "24914"
      ]
     },
     "execution_count": 11,
     "metadata": {},
     "output_type": "execute_result"
    }
   ],
   "source": [
    "authors['Gender'].value_counts().values[0]"
   ]
  },
  {
   "cell_type": "code",
   "execution_count": 12,
   "metadata": {},
   "outputs": [
    {
     "data": {
      "text/plain": [
       "34388"
      ]
     },
     "execution_count": 12,
     "metadata": {},
     "output_type": "execute_result"
    }
   ],
   "source": [
    "authors['Gender'].value_counts().values.sum()"
   ]
  },
  {
   "cell_type": "code",
   "execution_count": 13,
   "metadata": {},
   "outputs": [
    {
     "data": {
      "text/plain": [
       "72.0"
      ]
     },
     "execution_count": 13,
     "metadata": {},
     "output_type": "execute_result"
    }
   ],
   "source": [
    "m = round(authors['Gender'].value_counts().values[0]/authors['Gender'].value_counts().values.sum()*100)\n",
    "m"
   ]
  },
  {
   "cell_type": "code",
   "execution_count": 14,
   "metadata": {},
   "outputs": [
    {
     "data": {
      "text/plain": [
       "21.0"
      ]
     },
     "execution_count": 14,
     "metadata": {},
     "output_type": "execute_result"
    }
   ],
   "source": [
    "f = round(authors['Gender'].value_counts().values[1]/authors['Gender'].value_counts().values.sum()*100)\n",
    "f"
   ]
  },
  {
   "cell_type": "code",
   "execution_count": 15,
   "metadata": {},
   "outputs": [
    {
     "data": {
      "text/plain": [
       "5.0"
      ]
     },
     "execution_count": 15,
     "metadata": {},
     "output_type": "execute_result"
    }
   ],
   "source": [
    "g = round(authors['Gender'].value_counts().values[2]/authors['Gender'].value_counts().values.sum()*100)\n",
    "g"
   ]
  },
  {
   "cell_type": "code",
   "execution_count": 16,
   "metadata": {},
   "outputs": [
    {
     "data": {
      "text/plain": [
       "2.0"
      ]
     },
     "execution_count": 16,
     "metadata": {},
     "output_type": "execute_result"
    }
   ],
   "source": [
    "u = round(authors['Gender'].value_counts().values[3]/authors['Gender'].value_counts().values.sum()*100)\n",
    "u"
   ]
  },
  {
   "cell_type": "code",
   "execution_count": 18,
   "metadata": {},
   "outputs": [
    {
     "data": {
      "image/png": "[encoded data removed]",
      "text/plain": [
       "<Figure size 432x288 with 1 Axes>"
      ]
     },
     "metadata": {
      "needs_background": "light"
     },
     "output_type": "display_data"
    }
   ],
   "source": [
    "\n",
    "\n",
    "\n",
    "index = 1\n",
    "plt.bar(index, m, color = '#AFEEEE', edgecolor = 'white', width=0.25, align='center')\n",
    "plt.bar(index, f, bottom = m, color = '#DB7093', edgecolor = 'white', width=0.25, align='center')\n",
    "plt.bar(index, u, bottom = m+f, color='#a3acff', edgecolor = 'white', width=0.25, align='center')\n",
    "plt.bar(index, g, bottom = m+f+u, color= '#f9bc86', edgecolor = 'white', width=0.25, align='center')\n",
    "plt.xlabel('Gender', fontsize=15)\n",
    "plt.ylabel('Percentage of Artworks', fontsize=15)\n",
    "plt.title('Artists Gender Ratio', fontsize=15)\n",
    "plt.gca().legend(('Male - 72%','Female - 21%', 'Unspecified - 2%', 'Group - 5%'), bbox_to_anchor=(1.04,1), loc=\"upper left\")\n",
    "plt.xticks([])\n",
    "plt.show()"
   ]
  },
  {
   "cell_type": "code",
   "execution_count": 20,
   "metadata": {},
   "outputs": [
    {
     "data": {
      "text/plain": [
       "artiste        33722\n",
       "anonyme         1446\n",
       "groupe           666\n",
       "attribution      124\n",
       "Name: type, dtype: int64"
      ]
     },
     "execution_count": 20,
     "metadata": {},
     "output_type": "execute_result"
    }
   ],
   "source": [
    "authors['type'].value_counts()"
   ]
  },
  {
   "cell_type": "markdown",
   "metadata": {},
   "source": [
    "## Nationality"
   ]
  },
  {
   "cell_type": "code",
   "execution_count": 21,
   "metadata": {},
   "outputs": [
    {
     "data": {
      "text/plain": [
       "France                                    12592\n",
       "États-Unis                                 1339\n",
       "Italie                                      721\n",
       "Empire fédéral allemand                     713\n",
       "Suisse                                      540\n",
       "Royaume-Uni                                 531\n",
       "Belgique                                    485\n",
       "Espagne                                     432\n",
       "Japon                                       332\n",
       "Empire Russe                                301\n",
       "Pays-Bas                                    299\n",
       "Pologne                                     271\n",
       "Algérie                                     203\n",
       "Autriche                                    192\n",
       "Tchécoslovaquie                             185\n",
       "URSS                                        139\n",
       "Argentine                                   133\n",
       "Canada                                      132\n",
       "Hongrie                                     121\n",
       "Suède                                       113\n",
       "Allemagne                                   109\n",
       "Brésil                                      105\n",
       "Royaume de Roumanie                         104\n",
       "Danemark                                     94\n",
       "Maroc                                        89\n",
       "Grèce                                        83\n",
       "Autriche-Hongrie                             81\n",
       "Seine                                        76\n",
       "République populaire de Chine                74\n",
       "Portugal                                     73\n",
       "                                          ...  \n",
       "entre 1917 et 1922                            1\n",
       "Haute-Corse                                   1\n",
       "Sri Lanka                                     1\n",
       "République unie de Tanzanie                   1\n",
       "Guinée                                        1\n",
       "Paraguay                                      1\n",
       "Guyane hollandaise                            1\n",
       "Guinée équatoriale                            1\n",
       "Biélorussie                                   1\n",
       "ARYM                                          1\n",
       "Népal                                         1\n",
       "Costa Rica                                    1\n",
       "Ouzbékistan                                   1\n",
       "Dominique                                     1\n",
       "Ardennes                                      1\n",
       "Rayaume-Uni                                   1\n",
       "Botswana                                      1\n",
       "Haute-Volta                                   1\n",
       "El Salvador                                   1\n",
       "Bosnie-Herzégovine                            1\n",
       "Afghanistan                                   1\n",
       "Palestine sous mandat britannique             1\n",
       "République autonome de Tchétchénie            1\n",
       "Chine                                         1\n",
       "commune rattachée à Saint-Malo en 1967        1\n",
       "Royaume-Unis                                  1\n",
       "Saint-Marin                                   1\n",
       "Rhodésie-du-Sud                               1\n",
       "Guatemala                                     1\n",
       "Guyana                                        1\n",
       "Name: Birth country, Length: 176, dtype: int64"
      ]
     },
     "execution_count": 21,
     "metadata": {},
     "output_type": "execute_result"
    }
   ],
   "source": [
    "authors['Birth country'].value_counts()"
   ]
  },
  {
   "cell_type": "code",
   "execution_count": 23,
   "metadata": {},
   "outputs": [
    {
     "data": {
      "text/plain": [
       "française                                                          17026\n",
       "américaine                                                          1536\n",
       "italienne                                                            757\n",
       "britannique                                                          611\n",
       "allemande                                                            573\n",
       "suisse                                                               498\n",
       "belge                                                                493\n",
       "espagnole                                                            418\n",
       "allemande (avant 1949)                                               370\n",
       "japonaise                                                            368\n",
       "néerlandaise                                                         321\n",
       "polonaise                                                            203\n",
       "autrichienne                                                         192\n",
       "russe (avant 1918)                                                   170\n",
       "chinoise                                                             135\n",
       "suédoise                                                             134\n",
       "canadienne                                                           124\n",
       "brésilienne                                                          120\n",
       "tchécoslovaque                                                       116\n",
       "argentine                                                            107\n",
       "danoise                                                              101\n",
       "allemande (RFA)                                                       96\n",
       "grecque                                                               90\n",
       "soviétique                                                            84\n",
       "portugaise                                                            73\n",
       "mexicaine                                                             72\n",
       "sud-coréenne                                                          68\n",
       "indienne                                                              63\n",
       "tchèque                                                               60\n",
       "russe (après 1992)                                                    59\n",
       "                                                                   ...  \n",
       "américaine et ghanéenne                                                1\n",
       "française depuis 1856 (allemande (avant 1949) à la naissance)          1\n",
       "américaine depuis 1951 (française à la naissance)                      1\n",
       "allemande (avant 1949) (suisse à la naissance)                         1\n",
       "française depuis 1937 (russe (avant 1918) à la naissance)              1\n",
       "suisse depuis 1951 (polonaise à la naissance)                          1\n",
       "laotienne                                                              1\n",
       "vénézuélienne et canadienne                                            1\n",
       "française (luxembourgeoise à la naissance)                             1\n",
       "néo-zélandaise (hongroise à la naissance)                              1\n",
       "française depuis 1975 (polonaise à la naissance)                       1\n",
       "française depuis 1958 (tchécoslovaque à la naissance)                  1\n",
       "américaine depuis 1954 (yougoslave (avant 1991) à la naissance)        1\n",
       "chilienne et allemande                                                 1\n",
       "autrichienne et américaine                                             1\n",
       "israélienne (allemande à la naissance)                                 1\n",
       "polonaise depuis 1924 (russe (avant 1918) à la naissance)              1\n",
       "française depuis 1956 (hongroise (avant 1946) à la naissance)          1\n",
       "suisse (tchécoslovaque à la naissance)                                 1\n",
       "française depuis 1974 (yougoslave (avant 1991) à la naissance)         1\n",
       "ougandaise                                                             1\n",
       "française depuis 1978 (tchécoslovaque à la naissance)                  1\n",
       "française depuis 1932 (italienne à la naissance)                       1\n",
       "britannique (française à la naissance)                                 1\n",
       "britannique depuis 1947 (autrichienne à la naissance)                  1\n",
       "française (syrienne à la naissance)                                    1\n",
       "française depuis 1913 (italienne à la naissance)                       1\n",
       "grecque et britannique                                                 1\n",
       "italienne (allemande (avant 1949) à la naissance)                      1\n",
       "française et mauricienne                                               1\n",
       "Name: Nationality (original), Length: 750, dtype: int64"
      ]
     },
     "execution_count": 23,
     "metadata": {},
     "output_type": "execute_result"
    }
   ],
   "source": [
    "authors['Nationality (original)'].value_counts()"
   ]
  },
  {
   "cell_type": "code",
   "execution_count": 24,
   "metadata": {},
   "outputs": [
    {
     "data": {
      "text/plain": [
       "12592"
      ]
     },
     "execution_count": 24,
     "metadata": {},
     "output_type": "execute_result"
    }
   ],
   "source": [
    "len(authors[authors['Birth country'] == 'France'])"
   ]
  },
  {
   "cell_type": "code",
   "execution_count": 25,
   "metadata": {},
   "outputs": [
    {
     "data": {
      "text/plain": [
       "17026"
      ]
     },
     "execution_count": 25,
     "metadata": {},
     "output_type": "execute_result"
    }
   ],
   "source": [
    "len(authors[authors['Nationality (original)'] == 'française'])"
   ]
  },
  {
   "cell_type": "code",
   "execution_count": 28,
   "metadata": {},
   "outputs": [
    {
     "data": {
      "text/plain": [
       "France                                    12208\n",
       "Algérie                                     155\n",
       "Seine                                        75\n",
       "Maroc                                        44\n",
       "Italie                                       39\n",
       "Suisse                                       34\n",
       "Tunisie                                      30\n",
       "Empire fédéral allemand                      30\n",
       "Belgique                                     28\n",
       "Vietnam                                      23\n",
       "Espagne                                      17\n",
       "Empire Russe                                 15\n",
       "Pologne                                      15\n",
       "États-Unis                                   15\n",
       "Egypte                                       14\n",
       "Royaume-Uni                                  13\n",
       "Pays-Bas                                      9\n",
       "Royaume de Roumanie                           9\n",
       "Turquie                                       7\n",
       "Principauté de Monaco                         7\n",
       "Grèce                                         7\n",
       "Israël                                        6\n",
       "Madagascar                                    6\n",
       "Alpes-de-Haute Provence                       6\n",
       "Iran                                          5\n",
       "Sénégal                                       5\n",
       "Cambodge                                      4\n",
       "Hongrie                                       4\n",
       "République arabe Syrienne                     4\n",
       "Argentine                                     4\n",
       "                                          ...  \n",
       "Chypre                                        1\n",
       "Canada                                        1\n",
       "Burundi                                       1\n",
       "République de Corée                           1\n",
       "Kenya                                         1\n",
       "Australie                                     1\n",
       "Congo                                         1\n",
       "Haute-Corse                                   1\n",
       "Guinée                                        1\n",
       "Afrique du Sud                                1\n",
       "Tchécoslovaquie                               1\n",
       "Émirats arabes unis                           1\n",
       "Singapour                                     1\n",
       "République socialiste du Vietnam              1\n",
       "Ukraine                                       1\n",
       "Indonésie                                     1\n",
       "Congo belge                                   1\n",
       "Niger                                         1\n",
       "République de Chine                           1\n",
       "commune rattachée à Saint-Malo en 1967        1\n",
       "Chili                                         1\n",
       "Empire de Chine                               1\n",
       "Arménie                                       1\n",
       "Trinité et Tobago                             1\n",
       "Afars et Issas                                1\n",
       "Sao Tomé-et-Principe                          1\n",
       "Laos                                          1\n",
       "Luxembourg                                    1\n",
       "Nord                                          1\n",
       "Japon                                         1\n",
       "Name: Birth country, Length: 86, dtype: int64"
      ]
     },
     "execution_count": 28,
     "metadata": {},
     "output_type": "execute_result"
    }
   ],
   "source": [
    "authors[authors['Nationality (original)'] == 'française' ]['Birth country'].value_counts()"
   ]
  }
 ],
 "metadata": {
  "kernelspec": {
   "display_name": "Python 3",
   "language": "python",
   "name": "python3"
  },
  "language_info": {
   "codemirror_mode": {
    "name": "ipython",
    "version": 3
   },
   "file_extension": ".py",
   "mimetype": "text/x-python",
   "name": "python",
   "nbconvert_exporter": "python",
   "pygments_lexer": "ipython3",
   "version": "3.6.6"
  }
 },
 "nbformat": 4,
 "nbformat_minor": 2
}
