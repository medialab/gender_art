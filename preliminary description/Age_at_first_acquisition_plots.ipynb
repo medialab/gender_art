{
 "cells": [
  {
   "cell_type": "code",
   "execution_count": 3,
   "metadata": {},
   "outputs": [],
   "source": [
    "import pandas as pd\n",
    "import matplotlib.pyplot as plt\n",
    "import numpy as np"
   ]
  },
  {
   "cell_type": "code",
   "execution_count": 23,
   "metadata": {},
   "outputs": [],
   "source": [
    "authors = pd.read_csv('authors_all.csv', encoding = 'utf-8', sep = \";\")"
   ]
  },
  {
   "cell_type": "code",
   "execution_count": 36,
   "metadata": {
    "scrolled": false
   },
   "outputs": [
    {
     "data": {
      "text/html": [
       "<div>\n",
       "<style scoped>\n",
       "    .dataframe tbody tr th:only-of-type {\n",
       "        vertical-align: middle;\n",
       "    }\n",
       "\n",
       "    .dataframe tbody tr th {\n",
       "        vertical-align: top;\n",
       "    }\n",
       "\n",
       "    .dataframe thead th {\n",
       "        text-align: right;\n",
       "    }\n",
       "</style>\n",
       "<table border=\"1\" class=\"dataframe\">\n",
       "  <thead>\n",
       "    <tr style=\"text-align: right;\">\n",
       "      <th></th>\n",
       "      <th>Id artist</th>\n",
       "      <th>name</th>\n",
       "      <th>name extended</th>\n",
       "      <th>type</th>\n",
       "      <th>Birth year</th>\n",
       "      <th>Death year</th>\n",
       "      <th>Birth city</th>\n",
       "      <th>Birth state</th>\n",
       "      <th>Birth country</th>\n",
       "      <th>Death city</th>\n",
       "      <th>Death state</th>\n",
       "      <th>Death country</th>\n",
       "      <th>Gender</th>\n",
       "      <th>Nationality (original)</th>\n",
       "      <th>ID artworks</th>\n",
       "      <th>average_year</th>\n",
       "      <th>artworks_creation_years</th>\n",
       "      <th>acquisition_year</th>\n",
       "      <th>Year_First_Acquisition</th>\n",
       "      <th>Age_First_Acquisition</th>\n",
       "    </tr>\n",
       "  </thead>\n",
       "  <tbody>\n",
       "    <tr>\n",
       "      <th>0</th>\n",
       "      <td>380000000034856</td>\n",
       "      <td>&amp; IL TOPO</td>\n",
       "      <td>Aujourd’hui &amp; IL TOPO réunit : Armando della V...</td>\n",
       "      <td>groupe</td>\n",
       "      <td>NaN</td>\n",
       "      <td>NaN</td>\n",
       "      <td>NaN</td>\n",
       "      <td>NaN</td>\n",
       "      <td>NaN</td>\n",
       "      <td>NaN</td>\n",
       "      <td>NaN</td>\n",
       "      <td>NaN</td>\n",
       "      <td>groupe</td>\n",
       "      <td>NaN</td>\n",
       "      <td>380000000034695|380000000035465</td>\n",
       "      <td>2015.0</td>\n",
       "      <td>2015|2015</td>\n",
       "      <td>2017|2017</td>\n",
       "      <td>2017.0</td>\n",
       "      <td>NaN</td>\n",
       "    </tr>\n",
       "    <tr>\n",
       "      <th>1</th>\n",
       "      <td>6664664</td>\n",
       "      <td>(À L'EMBALLAGE DE CLÉMENTINE)</td>\n",
       "      <td>NaN</td>\n",
       "      <td>anonyme</td>\n",
       "      <td>NaN</td>\n",
       "      <td>NaN</td>\n",
       "      <td>NaN</td>\n",
       "      <td>NaN</td>\n",
       "      <td>NaN</td>\n",
       "      <td>NaN</td>\n",
       "      <td>NaN</td>\n",
       "      <td>NaN</td>\n",
       "      <td>NaN</td>\n",
       "      <td>NaN</td>\n",
       "      <td>280000000115916</td>\n",
       "      <td>NaN</td>\n",
       "      <td>NaN</td>\n",
       "      <td>NaN</td>\n",
       "      <td>NaN</td>\n",
       "      <td>NaN</td>\n",
       "    </tr>\n",
       "    <tr>\n",
       "      <th>2</th>\n",
       "      <td>6663648</td>\n",
       "      <td>(D'APRÈS)</td>\n",
       "      <td>NaN</td>\n",
       "      <td>anonyme</td>\n",
       "      <td>NaN</td>\n",
       "      <td>NaN</td>\n",
       "      <td>NaN</td>\n",
       "      <td>NaN</td>\n",
       "      <td>NaN</td>\n",
       "      <td>NaN</td>\n",
       "      <td>NaN</td>\n",
       "      <td>NaN</td>\n",
       "      <td>NaN</td>\n",
       "      <td>NaN</td>\n",
       "      <td>540000000000477|540000000000478|54000000000047...</td>\n",
       "      <td>1959.0</td>\n",
       "      <td>1959|1959|1959|1959|1959|1959|1959|1959|1959|1...</td>\n",
       "      <td>1969|1969|1969|1969|1969|1969|1969|1969|1969|1...</td>\n",
       "      <td>1969.0</td>\n",
       "      <td>NaN</td>\n",
       "    </tr>\n",
       "    <tr>\n",
       "      <th>3</th>\n",
       "      <td>6660426</td>\n",
       "      <td>(INSCRIPTIONS INTRAN STUDIO)</td>\n",
       "      <td>NaN</td>\n",
       "      <td>anonyme</td>\n",
       "      <td>NaN</td>\n",
       "      <td>NaN</td>\n",
       "      <td>NaN</td>\n",
       "      <td>NaN</td>\n",
       "      <td>NaN</td>\n",
       "      <td>NaN</td>\n",
       "      <td>NaN</td>\n",
       "      <td>NaN</td>\n",
       "      <td>NaN</td>\n",
       "      <td>NaN</td>\n",
       "      <td>480000000000233</td>\n",
       "      <td>NaN</td>\n",
       "      <td>NaN</td>\n",
       "      <td>2005</td>\n",
       "      <td>2005.0</td>\n",
       "      <td>NaN</td>\n",
       "    </tr>\n",
       "    <tr>\n",
       "      <th>4</th>\n",
       "      <td>6660563</td>\n",
       "      <td>(PABLO PICASSO (D'APRÈS))</td>\n",
       "      <td>NaN</td>\n",
       "      <td>anonyme</td>\n",
       "      <td>NaN</td>\n",
       "      <td>NaN</td>\n",
       "      <td>NaN</td>\n",
       "      <td>NaN</td>\n",
       "      <td>NaN</td>\n",
       "      <td>NaN</td>\n",
       "      <td>NaN</td>\n",
       "      <td>NaN</td>\n",
       "      <td>NaN</td>\n",
       "      <td>NaN</td>\n",
       "      <td>160000000001109|160000000105183|160000000105186</td>\n",
       "      <td>1959.0</td>\n",
       "      <td>1948|1962|1967</td>\n",
       "      <td>1979|1991|1991</td>\n",
       "      <td>1979.0</td>\n",
       "      <td>NaN</td>\n",
       "    </tr>\n",
       "  </tbody>\n",
       "</table>\n",
       "</div>"
      ],
      "text/plain": [
       "         Id artist                           name  \\\n",
       "0  380000000034856                      & IL TOPO   \n",
       "1          6664664  (À L'EMBALLAGE DE CLÉMENTINE)   \n",
       "2          6663648                      (D'APRÈS)   \n",
       "3          6660426   (INSCRIPTIONS INTRAN STUDIO)   \n",
       "4          6660563      (PABLO PICASSO (D'APRÈS))   \n",
       "\n",
       "                                       name extended     type  Birth year  \\\n",
       "0  Aujourd’hui & IL TOPO réunit : Armando della V...   groupe         NaN   \n",
       "1                                                NaN  anonyme         NaN   \n",
       "2                                                NaN  anonyme         NaN   \n",
       "3                                                NaN  anonyme         NaN   \n",
       "4                                                NaN  anonyme         NaN   \n",
       "\n",
       "   Death year Birth city Birth state Birth country Death city Death state  \\\n",
       "0         NaN        NaN         NaN           NaN        NaN         NaN   \n",
       "1         NaN        NaN         NaN           NaN        NaN         NaN   \n",
       "2         NaN        NaN         NaN           NaN        NaN         NaN   \n",
       "3         NaN        NaN         NaN           NaN        NaN         NaN   \n",
       "4         NaN        NaN         NaN           NaN        NaN         NaN   \n",
       "\n",
       "  Death country  Gender Nationality (original)  \\\n",
       "0           NaN  groupe                    NaN   \n",
       "1           NaN     NaN                    NaN   \n",
       "2           NaN     NaN                    NaN   \n",
       "3           NaN     NaN                    NaN   \n",
       "4           NaN     NaN                    NaN   \n",
       "\n",
       "                                         ID artworks  average_year  \\\n",
       "0                    380000000034695|380000000035465        2015.0   \n",
       "1                                    280000000115916           NaN   \n",
       "2  540000000000477|540000000000478|54000000000047...        1959.0   \n",
       "3                                    480000000000233           NaN   \n",
       "4    160000000001109|160000000105183|160000000105186        1959.0   \n",
       "\n",
       "                             artworks_creation_years  \\\n",
       "0                                          2015|2015   \n",
       "1                                                NaN   \n",
       "2  1959|1959|1959|1959|1959|1959|1959|1959|1959|1...   \n",
       "3                                                NaN   \n",
       "4                                     1948|1962|1967   \n",
       "\n",
       "                                    acquisition_year  Year_First_Acquisition  \\\n",
       "0                                          2017|2017                  2017.0   \n",
       "1                                                NaN                     NaN   \n",
       "2  1969|1969|1969|1969|1969|1969|1969|1969|1969|1...                  1969.0   \n",
       "3                                               2005                  2005.0   \n",
       "4                                     1979|1991|1991                  1979.0   \n",
       "\n",
       "   Age_First_Acquisition  \n",
       "0                    NaN  \n",
       "1                    NaN  \n",
       "2                    NaN  \n",
       "3                    NaN  \n",
       "4                    NaN  "
      ]
     },
     "execution_count": 36,
     "metadata": {},
     "output_type": "execute_result"
    }
   ],
   "source": [
    "authors.head()"
   ]
  },
  {
   "cell_type": "code",
   "execution_count": 6,
   "metadata": {},
   "outputs": [],
   "source": [
    "authors['Id artist'] = authors['Id artist'].astype(str)"
   ]
  },
  {
   "cell_type": "code",
   "execution_count": 7,
   "metadata": {},
   "outputs": [
    {
     "data": {
      "text/plain": [
       "artiste        33722\n",
       "anonyme         1446\n",
       "groupe           666\n",
       "attribution      124\n",
       "Name: type, dtype: int64"
      ]
     },
     "execution_count": 7,
     "metadata": {},
     "output_type": "execute_result"
    }
   ],
   "source": [
    "authors['type'].value_counts()"
   ]
  },
  {
   "cell_type": "code",
   "execution_count": 25,
   "metadata": {},
   "outputs": [],
   "source": [
    "#create new column for later calculations\n",
    "authors.insert(loc = authors.shape[1], column ='Year_First_Acquisition', value = np.nan)"
   ]
  },
  {
   "cell_type": "code",
   "execution_count": 27,
   "metadata": {},
   "outputs": [],
   "source": [
    "#create new column for later calculations\n",
    "authors.insert(loc = authors.shape[1], column ='Age_First_Acquisition', value = np.nan)"
   ]
  },
  {
   "cell_type": "code",
   "execution_count": 32,
   "metadata": {},
   "outputs": [],
   "source": [
    "#find first acquisition\n",
    "for i in range(authors.shape[0]):\n",
    "    if (i in authors.index):\n",
    "        if(authors.loc[i].acquisition_year is not np.nan):\n",
    "            year = min(authors.loc[i].acquisition_year.split('|'))\n",
    "            authors.at[i, 'Year_First_Acquisition']= year"
   ]
  },
  {
   "cell_type": "code",
   "execution_count": 35,
   "metadata": {},
   "outputs": [],
   "source": [
    "#find age at first acquisition\n",
    "for i in range(authors.shape[0]):\n",
    "    if (i in authors.index):\n",
    "        if((authors.loc[i].Year_First_Acquisition is not np.nan) & (authors.loc[i]['Birth year'] is not np.nan)):\n",
    "            age = authors.loc[i].Year_First_Acquisition - authors.loc[i]['Birth year']\n",
    "            authors.at[i, 'Age_First_Acquisition']= age"
   ]
  },
  {
   "cell_type": "code",
   "execution_count": 40,
   "metadata": {},
   "outputs": [],
   "source": [
    "# Exclude mistakes and authors before 1900\n",
    "authors_sub = authors[(authors['Age_First_Acquisition']>17)&(authors['Age_First_Acquisition']<100)&(authors['average_year']>1900)]"
   ]
  },
  {
   "cell_type": "code",
   "execution_count": 51,
   "metadata": {},
   "outputs": [],
   "source": [
    "all = authors_sub.Age_First_Acquisition.notna().value_counts().sum()"
   ]
  },
  {
   "cell_type": "code",
   "execution_count": 52,
   "metadata": {},
   "outputs": [
    {
     "data": {
      "text/plain": [
       "[<matplotlib.lines.Line2D at 0x1b7da1f3898>]"
      ]
     },
     "execution_count": 52,
     "metadata": {},
     "output_type": "execute_result"
    },
    {
     "data": {
      "image/png": "[encoded data removed]",
      "text/plain": [
       "<Figure size 432x288 with 1 Axes>"
      ]
     },
     "metadata": {
      "needs_background": "light"
     },
     "output_type": "display_data"
    }
   ],
   "source": [
    "plt.plot(authors_sub.Age_First_Acquisition.value_counts().sort_index()/all*100)"
   ]
  },
  {
   "cell_type": "code",
   "execution_count": 55,
   "metadata": {},
   "outputs": [
    {
     "data": {
      "text/plain": [
       "32.0    173\n",
       "34.0    173\n",
       "31.0    168\n",
       "35.0    166\n",
       "33.0    164\n",
       "Name: Age_First_Acquisition, dtype: int64"
      ]
     },
     "execution_count": 55,
     "metadata": {},
     "output_type": "execute_result"
    }
   ],
   "source": [
    "authors_sub[authors_sub.Gender == 'féminin']['Age_First_Acquisition'].value_counts().head()\n"
   ]
  },
  {
   "cell_type": "code",
   "execution_count": 57,
   "metadata": {},
   "outputs": [
    {
     "data": {
      "text/plain": [
       "[<matplotlib.lines.Line2D at 0x1b7dacddf98>]"
      ]
     },
     "execution_count": 57,
     "metadata": {},
     "output_type": "execute_result"
    },
    {
     "data": {
      "image/png": "[encoded data removed]",
      "text/plain": [
       "<Figure size 432x288 with 1 Axes>"
      ]
     },
     "metadata": {
      "needs_background": "light"
     },
     "output_type": "display_data"
    }
   ],
   "source": [
    "plt.plot(authors_sub[authors_sub.Gender == 'féminin']['Age_First_Acquisition'].value_counts().sort_index()/all*100)"
   ]
  },
  {
   "cell_type": "code",
   "execution_count": 56,
   "metadata": {},
   "outputs": [
    {
     "data": {
      "text/plain": [
       "33.0    543\n",
       "34.0    527\n",
       "31.0    509\n",
       "30.0    499\n",
       "35.0    494\n",
       "Name: Age_First_Acquisition, dtype: int64"
      ]
     },
     "execution_count": 56,
     "metadata": {},
     "output_type": "execute_result"
    }
   ],
   "source": [
    "authors_sub[authors_sub.Gender == 'masculin']['Age_First_Acquisition'].value_counts().head()"
   ]
  },
  {
   "cell_type": "code",
   "execution_count": 58,
   "metadata": {},
   "outputs": [
    {
     "data": {
      "text/plain": [
       "[<matplotlib.lines.Line2D at 0x1b7dad48208>]"
      ]
     },
     "execution_count": 58,
     "metadata": {},
     "output_type": "execute_result"
    },
    {
     "data": {
      "image/png": "[encoded data removed]",
      "text/plain": [
       "<Figure size 432x288 with 1 Axes>"
      ]
     },
     "metadata": {
      "needs_background": "light"
     },
     "output_type": "display_data"
    }
   ],
   "source": [
    "plt.plot(authors_sub[authors_sub.Gender == 'masculin']['Age_First_Acquisition'].value_counts().sort_index()/all*100)"
   ]
  }
 ],
 "metadata": {
  "kernelspec": {
   "display_name": "Python 3",
   "language": "python",
   "name": "python3"
  },
  "language_info": {
   "codemirror_mode": {
    "name": "ipython",
    "version": 3
   },
   "file_extension": ".py",
   "mimetype": "text/x-python",
   "name": "python",
   "nbconvert_exporter": "python",
   "pygments_lexer": "ipython3",
   "version": "3.7.0"
  }
 },
 "nbformat": 4,
 "nbformat_minor": 2
}
