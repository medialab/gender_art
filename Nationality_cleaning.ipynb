{
 "cells": [
  {
   "cell_type": "code",
   "execution_count": 109,
   "metadata": {},
   "outputs": [],
   "source": [
    "import pandas as pd\n",
    "import numpy as np\n",
    "import matplotlib.pyplot as plt\n",
    "import re\n",
    "import regex"
   ]
  },
  {
   "cell_type": "code",
   "execution_count": 110,
   "metadata": {},
   "outputs": [],
   "source": [
    "authors = pd.read_csv('authors_all.csv', encoding = 'utf-8', sep = \";\")"
   ]
  },
  {
   "cell_type": "code",
   "execution_count": 218,
   "metadata": {
    "scrolled": true
   },
   "outputs": [
    {
     "data": {
      "text/html": [
       "<div>\n",
       "<style scoped>\n",
       "    .dataframe tbody tr th:only-of-type {\n",
       "        vertical-align: middle;\n",
       "    }\n",
       "\n",
       "    .dataframe tbody tr th {\n",
       "        vertical-align: top;\n",
       "    }\n",
       "\n",
       "    .dataframe thead th {\n",
       "        text-align: right;\n",
       "    }\n",
       "</style>\n",
       "<table border=\"1\" class=\"dataframe\">\n",
       "  <thead>\n",
       "    <tr style=\"text-align: right;\">\n",
       "      <th></th>\n",
       "      <th>Id artist</th>\n",
       "      <th>name</th>\n",
       "      <th>name extended</th>\n",
       "      <th>type</th>\n",
       "      <th>Birth year</th>\n",
       "      <th>Death year</th>\n",
       "      <th>Birth city</th>\n",
       "      <th>Birth state</th>\n",
       "      <th>Birth country</th>\n",
       "      <th>Death city</th>\n",
       "      <th>Death state</th>\n",
       "      <th>Death country</th>\n",
       "      <th>Gender</th>\n",
       "      <th>Nationality (original)</th>\n",
       "      <th>Nationality_Clean</th>\n",
       "      <th>ID artworks</th>\n",
       "      <th>average_year</th>\n",
       "      <th>artworks_creation_years</th>\n",
       "      <th>Nationality_Test</th>\n",
       "    </tr>\n",
       "  </thead>\n",
       "  <tbody>\n",
       "    <tr>\n",
       "      <th>0</th>\n",
       "      <td>380000000034856</td>\n",
       "      <td>&amp; IL TOPO</td>\n",
       "      <td>Aujourd’hui &amp; IL TOPO réunit : Armando della V...</td>\n",
       "      <td>groupe</td>\n",
       "      <td>NaN</td>\n",
       "      <td>NaN</td>\n",
       "      <td>NaN</td>\n",
       "      <td>NaN</td>\n",
       "      <td>NaN</td>\n",
       "      <td>NaN</td>\n",
       "      <td>NaN</td>\n",
       "      <td>NaN</td>\n",
       "      <td>groupe</td>\n",
       "      <td>NaN</td>\n",
       "      <td>None</td>\n",
       "      <td>380000000034695|380000000035465</td>\n",
       "      <td>2015.0</td>\n",
       "      <td>2015|2015</td>\n",
       "      <td>NaN</td>\n",
       "    </tr>\n",
       "    <tr>\n",
       "      <th>1</th>\n",
       "      <td>6664664</td>\n",
       "      <td>(À L'EMBALLAGE DE CLÉMENTINE)</td>\n",
       "      <td>NaN</td>\n",
       "      <td>anonyme</td>\n",
       "      <td>NaN</td>\n",
       "      <td>NaN</td>\n",
       "      <td>NaN</td>\n",
       "      <td>NaN</td>\n",
       "      <td>NaN</td>\n",
       "      <td>NaN</td>\n",
       "      <td>NaN</td>\n",
       "      <td>NaN</td>\n",
       "      <td>NaN</td>\n",
       "      <td>NaN</td>\n",
       "      <td>None</td>\n",
       "      <td>280000000115916</td>\n",
       "      <td>NaN</td>\n",
       "      <td>NaN</td>\n",
       "      <td>NaN</td>\n",
       "    </tr>\n",
       "    <tr>\n",
       "      <th>2</th>\n",
       "      <td>6663648</td>\n",
       "      <td>(D'APRÈS)</td>\n",
       "      <td>NaN</td>\n",
       "      <td>anonyme</td>\n",
       "      <td>NaN</td>\n",
       "      <td>NaN</td>\n",
       "      <td>NaN</td>\n",
       "      <td>NaN</td>\n",
       "      <td>NaN</td>\n",
       "      <td>NaN</td>\n",
       "      <td>NaN</td>\n",
       "      <td>NaN</td>\n",
       "      <td>NaN</td>\n",
       "      <td>NaN</td>\n",
       "      <td>None</td>\n",
       "      <td>540000000000477|540000000000478|54000000000047...</td>\n",
       "      <td>1959.0</td>\n",
       "      <td>1959|1959|1959|1959|1959|1959|1959|1959|1959|1...</td>\n",
       "      <td>NaN</td>\n",
       "    </tr>\n",
       "    <tr>\n",
       "      <th>3</th>\n",
       "      <td>6660426</td>\n",
       "      <td>(INSCRIPTIONS INTRAN STUDIO)</td>\n",
       "      <td>NaN</td>\n",
       "      <td>anonyme</td>\n",
       "      <td>NaN</td>\n",
       "      <td>NaN</td>\n",
       "      <td>NaN</td>\n",
       "      <td>NaN</td>\n",
       "      <td>NaN</td>\n",
       "      <td>NaN</td>\n",
       "      <td>NaN</td>\n",
       "      <td>NaN</td>\n",
       "      <td>NaN</td>\n",
       "      <td>NaN</td>\n",
       "      <td>None</td>\n",
       "      <td>480000000000233</td>\n",
       "      <td>NaN</td>\n",
       "      <td>NaN</td>\n",
       "      <td>NaN</td>\n",
       "    </tr>\n",
       "    <tr>\n",
       "      <th>4</th>\n",
       "      <td>6660563</td>\n",
       "      <td>(PABLO PICASSO (D'APRÈS))</td>\n",
       "      <td>NaN</td>\n",
       "      <td>anonyme</td>\n",
       "      <td>NaN</td>\n",
       "      <td>NaN</td>\n",
       "      <td>NaN</td>\n",
       "      <td>NaN</td>\n",
       "      <td>NaN</td>\n",
       "      <td>NaN</td>\n",
       "      <td>NaN</td>\n",
       "      <td>NaN</td>\n",
       "      <td>NaN</td>\n",
       "      <td>NaN</td>\n",
       "      <td>None</td>\n",
       "      <td>160000000001109|160000000105183|160000000105186</td>\n",
       "      <td>1959.0</td>\n",
       "      <td>1948|1962|1967</td>\n",
       "      <td>NaN</td>\n",
       "    </tr>\n",
       "  </tbody>\n",
       "</table>\n",
       "</div>"
      ],
      "text/plain": [
       "         Id artist                           name  \\\n",
       "0  380000000034856                      & IL TOPO   \n",
       "1          6664664  (À L'EMBALLAGE DE CLÉMENTINE)   \n",
       "2          6663648                      (D'APRÈS)   \n",
       "3          6660426   (INSCRIPTIONS INTRAN STUDIO)   \n",
       "4          6660563      (PABLO PICASSO (D'APRÈS))   \n",
       "\n",
       "                                       name extended     type  Birth year  \\\n",
       "0  Aujourd’hui & IL TOPO réunit : Armando della V...   groupe         NaN   \n",
       "1                                                NaN  anonyme         NaN   \n",
       "2                                                NaN  anonyme         NaN   \n",
       "3                                                NaN  anonyme         NaN   \n",
       "4                                                NaN  anonyme         NaN   \n",
       "\n",
       "   Death year Birth city Birth state Birth country Death city Death state  \\\n",
       "0         NaN        NaN         NaN           NaN        NaN         NaN   \n",
       "1         NaN        NaN         NaN           NaN        NaN         NaN   \n",
       "2         NaN        NaN         NaN           NaN        NaN         NaN   \n",
       "3         NaN        NaN         NaN           NaN        NaN         NaN   \n",
       "4         NaN        NaN         NaN           NaN        NaN         NaN   \n",
       "\n",
       "  Death country  Gender Nationality (original) Nationality_Clean  \\\n",
       "0           NaN  groupe                    NaN              None   \n",
       "1           NaN     NaN                    NaN              None   \n",
       "2           NaN     NaN                    NaN              None   \n",
       "3           NaN     NaN                    NaN              None   \n",
       "4           NaN     NaN                    NaN              None   \n",
       "\n",
       "                                         ID artworks  average_year  \\\n",
       "0                    380000000034695|380000000035465        2015.0   \n",
       "1                                    280000000115916           NaN   \n",
       "2  540000000000477|540000000000478|54000000000047...        1959.0   \n",
       "3                                    480000000000233           NaN   \n",
       "4    160000000001109|160000000105183|160000000105186        1959.0   \n",
       "\n",
       "                             artworks_creation_years Nationality_Test  \n",
       "0                                          2015|2015              NaN  \n",
       "1                                                NaN              NaN  \n",
       "2  1959|1959|1959|1959|1959|1959|1959|1959|1959|1...              NaN  \n",
       "3                                                NaN              NaN  \n",
       "4                                     1948|1962|1967              NaN  "
      ]
     },
     "execution_count": 218,
     "metadata": {},
     "output_type": "execute_result"
    }
   ],
   "source": [
    "authors.head()"
   ]
  },
  {
   "cell_type": "code",
   "execution_count": 112,
   "metadata": {
    "scrolled": true
   },
   "outputs": [
    {
     "data": {
      "text/plain": [
       "française      17026\n",
       "américaine      1536\n",
       "italienne        757\n",
       "britannique      611\n",
       "allemande        573\n",
       "Name: Nationality (original), dtype: int64"
      ]
     },
     "execution_count": 112,
     "metadata": {},
     "output_type": "execute_result"
    }
   ],
   "source": [
    "authors['Nationality (original)'].value_counts().head()"
   ]
  },
  {
   "cell_type": "code",
   "execution_count": 113,
   "metadata": {},
   "outputs": [],
   "source": [
    "#Make new column for current nationalities\n",
    "authors.insert(loc = 14, column ='Nationality_Clean', value = np.nan)"
   ]
  },
  {
   "cell_type": "code",
   "execution_count": 114,
   "metadata": {},
   "outputs": [],
   "source": [
    "#Make new column for testing values\n",
    "authors['Nationality_Test'] = authors['Nationality (original)']"
   ]
  },
  {
   "cell_type": "markdown",
   "metadata": {},
   "source": [
    "## Find cases with only one nationality"
   ]
  },
  {
   "cell_type": "code",
   "execution_count": 115,
   "metadata": {},
   "outputs": [],
   "source": [
    "\n",
    "def one_word(string):\n",
    "    if string is not np.nan:\n",
    "        string = str(string)\n",
    "        if len(string.split()) <= 1:\n",
    "            return str(string)\n",
    "        else:\n",
    "            return np.nan\n",
    "    "
   ]
  },
  {
   "cell_type": "code",
   "execution_count": 116,
   "metadata": {},
   "outputs": [],
   "source": [
    "authors['Nationality_Clean'] = authors['Nationality (original)'].apply(one_word)"
   ]
  },
  {
   "cell_type": "markdown",
   "metadata": {},
   "source": [
    "## Cases with 1 nationality and () eg. 'allemande (RFA)'"
   ]
  },
  {
   "cell_type": "code",
   "execution_count": 122,
   "metadata": {},
   "outputs": [],
   "source": [
    "pattern_1 = re.compile(r\"([a-zA-ZÀ-ÿ'\\-]+) (?:\\()(?:RFA)? ?(?:Gibraltar)? ?(?:(?:[Rr]épublique) ?(?:démocratique)?(?:islamique ?(?:d'Iran)?)?(?:du)? ?(?:Vietnam)?)?(?:RDA)?(?:Taïwan)?(?:entre)? ?(?:après)?(?:avant)? ?(?:\\d+)? ?(?:et)? ?(?:\\d+)?\\)$\", flags = re.U)"
   ]
  },
  {
   "cell_type": "code",
   "execution_count": 123,
   "metadata": {},
   "outputs": [
    {
     "name": "stderr",
     "output_type": "stream",
     "text": [
      "C:\\Users\\antoine.trouche\\Anaconda3\\lib\\site-packages\\ipykernel_launcher.py:1: UserWarning: This pattern has match groups. To actually get the groups, use str.extract.\n",
      "  \"\"\"Entry point for launching an IPython kernel.\n"
     ]
    }
   ],
   "source": [
    "filter_1 = authors['Nationality (original)'].str.contains(pattern_1, na = False)"
   ]
  },
  {
   "cell_type": "code",
   "execution_count": 124,
   "metadata": {},
   "outputs": [],
   "source": [
    "#Get nationalities\n",
    "result = authors['Nationality (original)'].str.extract(pattern_1, expand = False)"
   ]
  },
  {
   "cell_type": "code",
   "execution_count": 125,
   "metadata": {},
   "outputs": [],
   "source": [
    "result = result.dropna()"
   ]
  },
  {
   "cell_type": "code",
   "execution_count": 126,
   "metadata": {},
   "outputs": [],
   "source": [
    "#Insert strings with nationalities into the dataframe\n",
    "authors.loc[filter_1, 'Nationality_Clean'] = result"
   ]
  },
  {
   "cell_type": "code",
   "execution_count": 127,
   "metadata": {},
   "outputs": [],
   "source": [
    "#Insert strings with nationalities into the TEST dataframe\n",
    "authors.loc[filter_1, 'Nationality_Test'] = result"
   ]
  },
  {
   "cell_type": "code",
   "execution_count": 128,
   "metadata": {},
   "outputs": [
    {
     "data": {
      "text/plain": [
       "(907, 19)"
      ]
     },
     "execution_count": 128,
     "metadata": {},
     "output_type": "execute_result"
    }
   ],
   "source": [
    "authors[filter_1].shape"
   ]
  },
  {
   "cell_type": "code",
   "execution_count": null,
   "metadata": {},
   "outputs": [],
   "source": [
    "Examples of cases captured:\n",
    "\n",
    "allemande (RFA)\n",
    "russe (après 1992)\n",
    "russe (avant 1918)\n",
    "roumaine (avant 1948)\n",
    "roumaine (entre 1948 et 1965)\n",
    "chinoise (Taïwan)\n",
    "allemande (RDA)\n",
    "iranienne (république islamique d'Iran)\n",
    "britannique (Gibraltar)\n",
    "vietnamienne (République du Vietnam)\n",
    "vietnamienne (république démocratique)\n",
    "dominicaine (République)"
   ]
  },
  {
   "cell_type": "markdown",
   "metadata": {},
   "source": [
    "## Find cases with 'et' eg. 'croate et française'"
   ]
  },
  {
   "cell_type": "markdown",
   "metadata": {},
   "source": [
    "#No distinction between double nationality and sequence"
   ]
  },
  {
   "cell_type": "code",
   "execution_count": 130,
   "metadata": {},
   "outputs": [],
   "source": [
    "pattern_2 = re.compile(r\"([a-zA-ZÀ-ÿ'\\-]+) (?:\\((?:[\\w'\\-]+)? ?(?:\\d+)?\\))? ?(?:et) ([a-zA-ZÀ-ÿ''\\-]+)\", flags = re.U)"
   ]
  },
  {
   "cell_type": "code",
   "execution_count": 131,
   "metadata": {},
   "outputs": [
    {
     "name": "stderr",
     "output_type": "stream",
     "text": [
      "C:\\Users\\antoine.trouche\\Anaconda3\\lib\\site-packages\\ipykernel_launcher.py:1: UserWarning: This pattern has match groups. To actually get the groups, use str.extract.\n",
      "  \"\"\"Entry point for launching an IPython kernel.\n"
     ]
    }
   ],
   "source": [
    "filter_2 = authors['Nationality (original)'].str.contains(pattern_2, na = False)"
   ]
  },
  {
   "cell_type": "code",
   "execution_count": 132,
   "metadata": {},
   "outputs": [],
   "source": [
    "result = authors['Nationality (original)'].str.extract(pattern_2, expand=False)"
   ]
  },
  {
   "cell_type": "code",
   "execution_count": 133,
   "metadata": {},
   "outputs": [],
   "source": [
    "result = result.dropna()"
   ]
  },
  {
   "cell_type": "code",
   "execution_count": 134,
   "metadata": {},
   "outputs": [],
   "source": [
    "#Join nationalities into string \n",
    "result = result[result.columns[0]] + '|' + result[result.columns[1]]"
   ]
  },
  {
   "cell_type": "code",
   "execution_count": 135,
   "metadata": {},
   "outputs": [],
   "source": [
    "#Insert strings with nationalities into the dataframe\n",
    "authors.loc[filter_2, 'Nationality_Clean'] = result"
   ]
  },
  {
   "cell_type": "code",
   "execution_count": 136,
   "metadata": {},
   "outputs": [],
   "source": [
    "#Insert strings with nationalities into the TEST dataframe\n",
    "authors.loc[filter_2, 'Nationality_Test'] = result"
   ]
  },
  {
   "cell_type": "code",
   "execution_count": 137,
   "metadata": {},
   "outputs": [
    {
     "data": {
      "text/plain": [
       "(262, 19)"
      ]
     },
     "execution_count": 137,
     "metadata": {},
     "output_type": "execute_result"
    }
   ],
   "source": [
    "authors.loc[filter_2].shape"
   ]
  },
  {
   "cell_type": "code",
   "execution_count": null,
   "metadata": {},
   "outputs": [],
   "source": [
    "Examples of cases captured:\n",
    "\n",
    "russe (apres 1992) et americaine\n",
    "yougoslave (avant 1991) et slovene\n",
    "chilienne (avant 1991) et slovene\n",
    "allemande (RFA) et autrichienne \n",
    "chilienne et francaise\n",
    "russe (apres 1992) et americaine\n",
    "francaise et finlandais\n",
    "américaine et française (américaine à la naissance)\n",
    "russe (avant 1918) et française\n"
   ]
  },
  {
   "cell_type": "markdown",
   "metadata": {},
   "source": [
    "## Cases with two nationalities + 'à la naissance'"
   ]
  },
  {
   "cell_type": "code",
   "execution_count": 209,
   "metadata": {},
   "outputs": [],
   "source": [
    "pattern_3 = re.compile(r\"([\\w'\\-]+) ?(?:\\([\\w'\\-]+\\))?(?:de)? ?(?:\\d+)? ?(?:à)? (?:\\(avant \\d+\\))? ?(?:\\d+)?(?:depuis \\d+)?(?:\\(avant \\d+\\))? ?(?:\\()?([\\w'\\-]+) ?(?:\\((?:[\\w'\\-]+) (?:[\\w'\\-]+)? (?:[\\w'\\-]+)?\\))? ?\\(?(?:avant)?(?:après)?(?:entre)? ?(?:\\d+)? ?(?:et)? ?(?:\\d+)?\\)? ?(?:à la naissance)+\\)?\", flags = re.U)"
   ]
  },
  {
   "cell_type": "code",
   "execution_count": 210,
   "metadata": {},
   "outputs": [
    {
     "name": "stderr",
     "output_type": "stream",
     "text": [
      "C:\\Users\\antoine.trouche\\Anaconda3\\lib\\site-packages\\ipykernel_launcher.py:1: UserWarning: This pattern has match groups. To actually get the groups, use str.extract.\n",
      "  \"\"\"Entry point for launching an IPython kernel.\n"
     ]
    }
   ],
   "source": [
    "filter_3 = authors['Nationality (original)'].str.contains(pattern_3, na = False)"
   ]
  },
  {
   "cell_type": "code",
   "execution_count": 211,
   "metadata": {},
   "outputs": [],
   "source": [
    "#Get nationalities\n",
    "result = authors['Nationality (original)'].str.extract(pattern_3, expand = False)"
   ]
  },
  {
   "cell_type": "code",
   "execution_count": 212,
   "metadata": {},
   "outputs": [],
   "source": [
    "result = result.dropna()"
   ]
  },
  {
   "cell_type": "code",
   "execution_count": 213,
   "metadata": {},
   "outputs": [],
   "source": [
    "#Join nationalities into string in correct sequence\n",
    "result = result[result.columns[1]] + '|' + result[result.columns[0]]"
   ]
  },
  {
   "cell_type": "code",
   "execution_count": 214,
   "metadata": {},
   "outputs": [],
   "source": [
    "#Insert strings with nationalities into the dataframe\n",
    "authors.loc[filter_3, 'Nationality_Clean'] = result"
   ]
  },
  {
   "cell_type": "code",
   "execution_count": 215,
   "metadata": {},
   "outputs": [],
   "source": [
    "#Insert strings with nationalities into the TEST dataframe\n",
    "authors.loc[filter_3, 'Nationality_Test'] = result"
   ]
  },
  {
   "cell_type": "code",
   "execution_count": 217,
   "metadata": {},
   "outputs": [
    {
     "data": {
      "text/plain": [
       "(834, 19)"
      ]
     },
     "execution_count": 217,
     "metadata": {},
     "output_type": "execute_result"
    }
   ],
   "source": [
    "authors[filter_3].shape"
   ]
  },
  {
   "cell_type": "code",
   "execution_count": null,
   "metadata": {},
   "outputs": [],
   "source": [
    "Examples of cases captured:\n",
    "    \n",
    "americaine depuis 1954 (yougoslave (avant 1991) à la naissance)\n",
    "allemande (avant 1949) (suisse à la naissance)\n",
    "israelienne (allemande à la naissance)\n",
    "francaise de 1909 à 1953 (belge à la naissance)\n",
    "francaise (roumaine (entre 1948 et 1965) à la naissance)\n",
    "francaise (russe (après 1992) à la naissance)\n",
    "francaise depuis 1970 (hongroise à la naissance)\n",
    "francaise depuis 1927 (russe (avant 1918) à la naissance)\n",
    "allemande (RFA) (bulgare à la naissance)\n",
    "française (iranienne (république islamique d'Iran) à la naissance)\n",
    "allemande (avant 1949) depuis 1914 (italienne à la naissance)\n"
   ]
  },
  {
   "cell_type": "markdown",
   "metadata": {},
   "source": [
    "## Cases with two 'à la naissance' "
   ]
  },
  {
   "cell_type": "code",
   "execution_count": 146,
   "metadata": {},
   "outputs": [],
   "source": [
    "pattern_4 = re.compile(r\"([a-zA-ZÀ-ÿ'\\-]+) (?:\\(?(?:[\\w'\\ -]+)?\\)?)? ?\\(?(?:à la naissance)\\)? ?\\(([a-zA-ZÀ-ÿ'\\-]+) (?:à la naissance)\\)?\", flags = re.U)"
   ]
  },
  {
   "cell_type": "code",
   "execution_count": 147,
   "metadata": {
    "scrolled": true
   },
   "outputs": [
    {
     "name": "stderr",
     "output_type": "stream",
     "text": [
      "C:\\Users\\antoine.trouche\\Anaconda3\\lib\\site-packages\\ipykernel_launcher.py:1: UserWarning: This pattern has match groups. To actually get the groups, use str.extract.\n",
      "  \"\"\"Entry point for launching an IPython kernel.\n"
     ]
    }
   ],
   "source": [
    "filter_4 = authors['Nationality (original)'].str.contains(pattern_4, na = False)"
   ]
  },
  {
   "cell_type": "code",
   "execution_count": 148,
   "metadata": {},
   "outputs": [],
   "source": [
    "#Get nationalities\n",
    "result = authors['Nationality (original)'].str.extract(pattern_4, expand = False)"
   ]
  },
  {
   "cell_type": "code",
   "execution_count": 149,
   "metadata": {},
   "outputs": [],
   "source": [
    "result = result.dropna()"
   ]
  },
  {
   "cell_type": "code",
   "execution_count": 150,
   "metadata": {},
   "outputs": [],
   "source": [
    "#Join nationalities into string \n",
    "result = result[result.columns[0]] + '|' + result[result.columns[1]]"
   ]
  },
  {
   "cell_type": "code",
   "execution_count": 151,
   "metadata": {},
   "outputs": [],
   "source": [
    "#Insert strings with nationalities into the dataframe\n",
    "authors.loc[filter_4, 'Nationality_Clean'] = result"
   ]
  },
  {
   "cell_type": "code",
   "execution_count": 152,
   "metadata": {},
   "outputs": [],
   "source": [
    "#Insert strings with nationalities into the TEST dataframe\n",
    "authors.loc[filter_4, 'Nationality_Test'] = result"
   ]
  },
  {
   "cell_type": "code",
   "execution_count": 153,
   "metadata": {},
   "outputs": [
    {
     "data": {
      "text/plain": [
       "(7, 19)"
      ]
     },
     "execution_count": 153,
     "metadata": {},
     "output_type": "execute_result"
    }
   ],
   "source": [
    "authors[filter_4].shape"
   ]
  },
  {
   "cell_type": "code",
   "execution_count": null,
   "metadata": {},
   "outputs": [],
   "source": [
    "Examples of cases captured:\n",
    "    \n",
    "argentine à la naissance (irlandaise à la naissance)\n",
    "austro-hongroise à la naissance (espagnole à la naissance)\n",
    "russe (avant 1918) à la naissance (norvégienne à la naissance)"
   ]
  },
  {
   "cell_type": "markdown",
   "metadata": {},
   "source": [
    "## Cases with three nationalities"
   ]
  },
  {
   "cell_type": "code",
   "execution_count": 154,
   "metadata": {},
   "outputs": [],
   "source": [
    "pattern_5 = re.compile(r\"^(\\b[a-zA-ZÀ-ÿ'\\-]+\\b)\\s?(?:depuis \\d+)?\\s\\((\\b[a-zA-ZÀ-ÿ'\\-]+\\b)\\s?\\(?(?:avant|,|depuis|après|et)(?:\\s\\d+)?\\)?\\s?(?:depuis|après|et)?\\s?(?:\\d+)?\\)?,?\\s?(\\b[a-zA-ZÀ-ÿ'\\-]+\\b)\\s?\\(?(?:avant|après)?\\s?(?:\\d+)?\\)?\\s(?:à la naissance)\\)$\", flags = re.U)"
   ]
  },
  {
   "cell_type": "code",
   "execution_count": 155,
   "metadata": {},
   "outputs": [
    {
     "name": "stderr",
     "output_type": "stream",
     "text": [
      "C:\\Users\\antoine.trouche\\Anaconda3\\lib\\site-packages\\ipykernel_launcher.py:1: UserWarning: This pattern has match groups. To actually get the groups, use str.extract.\n",
      "  \"\"\"Entry point for launching an IPython kernel.\n"
     ]
    }
   ],
   "source": [
    "filter_5 = authors['Nationality (original)'].str.contains(pattern_5, na = False)"
   ]
  },
  {
   "cell_type": "code",
   "execution_count": 156,
   "metadata": {},
   "outputs": [],
   "source": [
    "#Get nationalities\n",
    "result = authors['Nationality (original)'].str.extract(pattern_5, expand = False)"
   ]
  },
  {
   "cell_type": "code",
   "execution_count": 157,
   "metadata": {},
   "outputs": [],
   "source": [
    "result = result.dropna()"
   ]
  },
  {
   "cell_type": "code",
   "execution_count": 158,
   "metadata": {},
   "outputs": [],
   "source": [
    "#Join nationalities into string in correct order\n",
    "result = result[result.columns[2]] + '|' + result[result.columns[1]] + '|' + result[result.columns[0]]"
   ]
  },
  {
   "cell_type": "code",
   "execution_count": 159,
   "metadata": {
    "scrolled": true
   },
   "outputs": [],
   "source": [
    "#Insert strings with nationalities into the dataframe\n",
    "authors.loc[filter_5, 'Nationality_Clean'] = result"
   ]
  },
  {
   "cell_type": "code",
   "execution_count": 160,
   "metadata": {},
   "outputs": [],
   "source": [
    "#Insert strings with nationalities into the TEST dataframe\n",
    "authors.loc[filter_5, 'Nationality_Test'] = result"
   ]
  },
  {
   "cell_type": "code",
   "execution_count": 161,
   "metadata": {},
   "outputs": [
    {
     "data": {
      "text/plain": [
       "(16, 19)"
      ]
     },
     "execution_count": 161,
     "metadata": {},
     "output_type": "execute_result"
    }
   ],
   "source": [
    "authors[filter_5].shape"
   ]
  },
  {
   "cell_type": "code",
   "execution_count": null,
   "metadata": {},
   "outputs": [],
   "source": [
    "Examples of cases captured:\n",
    "    \n",
    "australienne depuis 1939 (chinoise et soviétique à la naissance)\n",
    "francaise (israelienne, russe (après 1992) à la naissance)\n",
    "mauricienne (francaise, britannique à la naissance)\n",
    "francaise depuis 1960 (argentine depuis 1950, hongroise (avant 1946) à la naissance)\n",
    "francaise depuis 1939 (allemande (avant 1949) depuis 1928, russe (avant 1918) à la naissance)\n",
    "américaine depuis 1978 (mexicaine depuis 1941, espagnole à la naissance)\n",
    "américaine (russe (avant 1918) et canadienne à la naissance)\n",
    "française depuis 1960 (argentine depuis 1950, hongroise (avant 1946) à la naissance)\n",
    "américaine (française, tchèque à la naissance) \t\n",
    "    \n"
   ]
  },
  {
   "cell_type": "markdown",
   "metadata": {},
   "source": [
    "## Check Test_Nationalities for not captured cases or mistakes"
   ]
  },
  {
   "cell_type": "code",
   "execution_count": 164,
   "metadata": {},
   "outputs": [],
   "source": [
    "nv = authors.Nationality_Test.value_counts().rename_axis('Nationality').reset_index(name='frequency')"
   ]
  },
  {
   "cell_type": "code",
   "execution_count": 165,
   "metadata": {},
   "outputs": [],
   "source": [
    "nv.to_csv('nationalities_new.csv', sep=',', encoding = 'utf-8-sig')"
   ]
  },
  {
   "cell_type": "code",
   "execution_count": null,
   "metadata": {},
   "outputs": [],
   "source": [
    "Unique cases:\n",
    "    \n",
    "britannique de Hong Kong\n",
    "(allemande à la naissance)\n",
    "RFA|allemande\n",
    "avant|russe\n",
    "hongroise (entre 1946 et 1989) et néerlandaise\n",
    "française de 1945 à 1949 (roumaine (avant 1948) jusqu'en 1945)\n",
    "Kong|américaine\n",
    "française de 1927 à 1970 (grecque de 1889 à 1927)\n",
    "roumaine (entre 1948 et 1965) (allemande)\n",
    "(sud-coréenne à la naissance)\n",
    "                          \n",
    "                          \n"
   ]
  },
  {
   "cell_type": "markdown",
   "metadata": {},
   "source": [
    "## Handle unique cases and mistakes"
   ]
  },
  {
   "cell_type": "code",
   "execution_count": 166,
   "metadata": {},
   "outputs": [],
   "source": [
    "authors.loc[authors.Nationality_Test == '(allemande à la naissance)', 'Nationality_Clean'] = 'allemande'"
   ]
  },
  {
   "cell_type": "code",
   "execution_count": 167,
   "metadata": {},
   "outputs": [],
   "source": [
    "authors.loc[authors.Nationality_Test == 'britannique de Hong Kong', 'Nationality_Clean'] = 'britannique de Hong Kong'"
   ]
  },
  {
   "cell_type": "code",
   "execution_count": 168,
   "metadata": {},
   "outputs": [],
   "source": [
    "authors.loc[authors.Nationality_Test == 'RFA|allemande', 'Nationality_Clean'] = 'allemande'"
   ]
  },
  {
   "cell_type": "code",
   "execution_count": 169,
   "metadata": {},
   "outputs": [],
   "source": [
    "authors.loc[authors['Nationality (original)'] == 'américaine (allemande (RFA) à la naissance)', 'Nationality_Clean'] = 'allemande|américaine'"
   ]
  },
  {
   "cell_type": "code",
   "execution_count": 170,
   "metadata": {},
   "outputs": [],
   "source": [
    "authors.loc[authors.Nationality_Test == 'avant|russe', 'Nationality_Clean'] = 'russe|allemande|française'"
   ]
  },
  {
   "cell_type": "code",
   "execution_count": 171,
   "metadata": {},
   "outputs": [],
   "source": [
    "authors.loc[authors.Nationality_Test == 'hongroise (entre 1946 et 1989) et néerlandaise', 'Nationality_Clean'] = 'hongroise|néerlandaise'"
   ]
  },
  {
   "cell_type": "code",
   "execution_count": 172,
   "metadata": {},
   "outputs": [],
   "source": [
    "authors.loc[authors.Nationality_Test == 'française de 1945 à 1949 (roumaine (avant 1948) jusqu\\'en 1945)', 'Nationality_Clean'] = 'roumaine|française'"
   ]
  },
  {
   "cell_type": "code",
   "execution_count": 173,
   "metadata": {},
   "outputs": [],
   "source": [
    "authors.loc[authors.Nationality_Test == 'Kong|américaine', 'Nationality_Clean'] = 'britannique de Hong Kong|américaine'"
   ]
  },
  {
   "cell_type": "code",
   "execution_count": 176,
   "metadata": {},
   "outputs": [],
   "source": [
    "authors.loc[authors.Nationality_Test == 'française de 1927 à 1970 (grecque de 1889 à 1927)', 'Nationality_Clean'] = 'grecque|française'"
   ]
  },
  {
   "cell_type": "code",
   "execution_count": 179,
   "metadata": {},
   "outputs": [],
   "source": [
    "authors.loc[authors.Nationality_Test == 'roumaine (entre 1948 et 1965) (allemande)', 'Nationality_Clean'] = 'roumaine|allemande'"
   ]
  },
  {
   "cell_type": "code",
   "execution_count": 182,
   "metadata": {},
   "outputs": [],
   "source": [
    "authors.loc[authors.Nationality_Test == '(sud-coréenne à la naissance)', 'Nationality_Clean'] = 'sud-coréenne'"
   ]
  },
  {
   "cell_type": "markdown",
   "metadata": {},
   "source": [
    "## Count 'française'"
   ]
  },
  {
   "cell_type": "code",
   "execution_count": 208,
   "metadata": {
    "scrolled": true
   },
   "outputs": [
    {
     "data": {
      "text/plain": [
       "17779"
      ]
     },
     "execution_count": 208,
     "metadata": {},
     "output_type": "execute_result"
    }
   ],
   "source": [
    "# Total number of artist having French nationality (including double)\n",
    "authors[authors['Nationality_Clean'].str.contains(r'[|]?\\bfrançaise\\b[|]?', na = False)].shape[0]"
   ]
  },
  {
   "cell_type": "code",
   "execution_count": 197,
   "metadata": {},
   "outputs": [
    {
     "data": {
      "text/plain": [
       "française      17026\n",
       "américaine      1536\n",
       "allemande       1051\n",
       "italienne        757\n",
       "britannique      612\n",
       "Name: Nationality_Clean, dtype: int64"
      ]
     },
     "execution_count": 197,
     "metadata": {},
     "output_type": "execute_result"
    }
   ],
   "source": [
    "# Artists having only French nationality\n",
    "authors['Nationality_Clean'].value_counts().head()"
   ]
  },
  {
   "cell_type": "code",
   "execution_count": 184,
   "metadata": {},
   "outputs": [
    {
     "data": {
      "text/plain": [
       "8494"
      ]
     },
     "execution_count": 184,
     "metadata": {},
     "output_type": "execute_result"
    }
   ],
   "source": [
    "authors['Nationality (original)'].isnull().sum()"
   ]
  },
  {
   "cell_type": "code",
   "execution_count": 185,
   "metadata": {},
   "outputs": [
    {
     "data": {
      "text/plain": [
       "8494"
      ]
     },
     "execution_count": 185,
     "metadata": {},
     "output_type": "execute_result"
    }
   ],
   "source": [
    "authors.Nationality_Clean.isnull().sum()"
   ]
  },
  {
   "cell_type": "code",
   "execution_count": 205,
   "metadata": {},
   "outputs": [],
   "source": [
    "nationalities_clean = authors.Nationality_Clean.value_counts().rename_axis('Nationality').reset_index(name='frequency')"
   ]
  },
  {
   "cell_type": "code",
   "execution_count": 206,
   "metadata": {},
   "outputs": [],
   "source": [
    "nationalities_clean.to_csv('nationalities_clean.csv', sep=',', encoding = 'utf-8-sig', index=False)"
   ]
  },
  {
   "cell_type": "code",
   "execution_count": null,
   "metadata": {},
   "outputs": [],
   "source": []
  }
 ],
 "metadata": {
  "kernelspec": {
   "display_name": "Python 3",
   "language": "python",
   "name": "python3"
  },
  "language_info": {
   "codemirror_mode": {
    "name": "ipython",
    "version": 3
   },
   "file_extension": ".py",
   "mimetype": "text/x-python",
   "name": "python",
   "nbconvert_exporter": "python",
   "pygments_lexer": "ipython3",
   "version": "3.7.0"
  }
 },
 "nbformat": 4,
 "nbformat_minor": 2
}
