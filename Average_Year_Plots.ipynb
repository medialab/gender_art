{
 "cells": [
  {
   "cell_type": "code",
   "execution_count": 1,
   "metadata": {},
   "outputs": [],
   "source": [
    "import pandas as pd\n",
    "import matplotlib.pyplot as plt\n"
   ]
  },
  {
   "cell_type": "code",
   "execution_count": 2,
   "metadata": {},
   "outputs": [],
   "source": [
    "authors = pd.read_csv('authors_all.csv', encoding = 'utf-8', sep = \";\")"
   ]
  },
  {
   "cell_type": "code",
   "execution_count": 4,
   "metadata": {},
   "outputs": [
    {
     "data": {
      "text/html": [
       "<div>\n",
       "<style scoped>\n",
       "    .dataframe tbody tr th:only-of-type {\n",
       "        vertical-align: middle;\n",
       "    }\n",
       "\n",
       "    .dataframe tbody tr th {\n",
       "        vertical-align: top;\n",
       "    }\n",
       "\n",
       "    .dataframe thead th {\n",
       "        text-align: right;\n",
       "    }\n",
       "</style>\n",
       "<table border=\"1\" class=\"dataframe\">\n",
       "  <thead>\n",
       "    <tr style=\"text-align: right;\">\n",
       "      <th></th>\n",
       "      <th>Id artist</th>\n",
       "      <th>name</th>\n",
       "      <th>name extended</th>\n",
       "      <th>type</th>\n",
       "      <th>Birth year</th>\n",
       "      <th>Death year</th>\n",
       "      <th>Birth city</th>\n",
       "      <th>Birth state</th>\n",
       "      <th>Birth country</th>\n",
       "      <th>Death city</th>\n",
       "      <th>Death state</th>\n",
       "      <th>Death country</th>\n",
       "      <th>Gender</th>\n",
       "      <th>Nationality (original)</th>\n",
       "      <th>ID artworks</th>\n",
       "      <th>average_year</th>\n",
       "      <th>artworks_creation_years</th>\n",
       "    </tr>\n",
       "  </thead>\n",
       "  <tbody>\n",
       "    <tr>\n",
       "      <th>0</th>\n",
       "      <td>380000000034856</td>\n",
       "      <td>&amp; IL TOPO</td>\n",
       "      <td>Aujourd’hui &amp; IL TOPO réunit : Armando della V...</td>\n",
       "      <td>groupe</td>\n",
       "      <td>NaN</td>\n",
       "      <td>NaN</td>\n",
       "      <td>NaN</td>\n",
       "      <td>NaN</td>\n",
       "      <td>NaN</td>\n",
       "      <td>NaN</td>\n",
       "      <td>NaN</td>\n",
       "      <td>NaN</td>\n",
       "      <td>groupe</td>\n",
       "      <td>NaN</td>\n",
       "      <td>380000000034695|380000000035465</td>\n",
       "      <td>2015.0</td>\n",
       "      <td>2015|2015</td>\n",
       "    </tr>\n",
       "    <tr>\n",
       "      <th>1</th>\n",
       "      <td>6664664</td>\n",
       "      <td>(À L'EMBALLAGE DE CLÉMENTINE)</td>\n",
       "      <td>NaN</td>\n",
       "      <td>anonyme</td>\n",
       "      <td>NaN</td>\n",
       "      <td>NaN</td>\n",
       "      <td>NaN</td>\n",
       "      <td>NaN</td>\n",
       "      <td>NaN</td>\n",
       "      <td>NaN</td>\n",
       "      <td>NaN</td>\n",
       "      <td>NaN</td>\n",
       "      <td>NaN</td>\n",
       "      <td>NaN</td>\n",
       "      <td>280000000115916</td>\n",
       "      <td>NaN</td>\n",
       "      <td>NaN</td>\n",
       "    </tr>\n",
       "    <tr>\n",
       "      <th>2</th>\n",
       "      <td>6663648</td>\n",
       "      <td>(D'APRÈS)</td>\n",
       "      <td>NaN</td>\n",
       "      <td>anonyme</td>\n",
       "      <td>NaN</td>\n",
       "      <td>NaN</td>\n",
       "      <td>NaN</td>\n",
       "      <td>NaN</td>\n",
       "      <td>NaN</td>\n",
       "      <td>NaN</td>\n",
       "      <td>NaN</td>\n",
       "      <td>NaN</td>\n",
       "      <td>NaN</td>\n",
       "      <td>NaN</td>\n",
       "      <td>540000000000477|540000000000478|54000000000047...</td>\n",
       "      <td>1959.0</td>\n",
       "      <td>1959|1959|1959|1959|1959|1959|1959|1959|1959|1...</td>\n",
       "    </tr>\n",
       "    <tr>\n",
       "      <th>3</th>\n",
       "      <td>6660426</td>\n",
       "      <td>(INSCRIPTIONS INTRAN STUDIO)</td>\n",
       "      <td>NaN</td>\n",
       "      <td>anonyme</td>\n",
       "      <td>NaN</td>\n",
       "      <td>NaN</td>\n",
       "      <td>NaN</td>\n",
       "      <td>NaN</td>\n",
       "      <td>NaN</td>\n",
       "      <td>NaN</td>\n",
       "      <td>NaN</td>\n",
       "      <td>NaN</td>\n",
       "      <td>NaN</td>\n",
       "      <td>NaN</td>\n",
       "      <td>480000000000233</td>\n",
       "      <td>NaN</td>\n",
       "      <td>NaN</td>\n",
       "    </tr>\n",
       "    <tr>\n",
       "      <th>4</th>\n",
       "      <td>6660563</td>\n",
       "      <td>(PABLO PICASSO (D'APRÈS))</td>\n",
       "      <td>NaN</td>\n",
       "      <td>anonyme</td>\n",
       "      <td>NaN</td>\n",
       "      <td>NaN</td>\n",
       "      <td>NaN</td>\n",
       "      <td>NaN</td>\n",
       "      <td>NaN</td>\n",
       "      <td>NaN</td>\n",
       "      <td>NaN</td>\n",
       "      <td>NaN</td>\n",
       "      <td>NaN</td>\n",
       "      <td>NaN</td>\n",
       "      <td>160000000001109|160000000105183|160000000105186</td>\n",
       "      <td>1959.0</td>\n",
       "      <td>1948|1962|1967</td>\n",
       "    </tr>\n",
       "  </tbody>\n",
       "</table>\n",
       "</div>"
      ],
      "text/plain": [
       "         Id artist                           name  \\\n",
       "0  380000000034856                      & IL TOPO   \n",
       "1          6664664  (À L'EMBALLAGE DE CLÉMENTINE)   \n",
       "2          6663648                      (D'APRÈS)   \n",
       "3          6660426   (INSCRIPTIONS INTRAN STUDIO)   \n",
       "4          6660563      (PABLO PICASSO (D'APRÈS))   \n",
       "\n",
       "                                       name extended     type  Birth year  \\\n",
       "0  Aujourd’hui & IL TOPO réunit : Armando della V...   groupe         NaN   \n",
       "1                                                NaN  anonyme         NaN   \n",
       "2                                                NaN  anonyme         NaN   \n",
       "3                                                NaN  anonyme         NaN   \n",
       "4                                                NaN  anonyme         NaN   \n",
       "\n",
       "   Death year Birth city Birth state Birth country Death city Death state  \\\n",
       "0         NaN        NaN         NaN           NaN        NaN         NaN   \n",
       "1         NaN        NaN         NaN           NaN        NaN         NaN   \n",
       "2         NaN        NaN         NaN           NaN        NaN         NaN   \n",
       "3         NaN        NaN         NaN           NaN        NaN         NaN   \n",
       "4         NaN        NaN         NaN           NaN        NaN         NaN   \n",
       "\n",
       "  Death country  Gender Nationality (original)  \\\n",
       "0           NaN  groupe                    NaN   \n",
       "1           NaN     NaN                    NaN   \n",
       "2           NaN     NaN                    NaN   \n",
       "3           NaN     NaN                    NaN   \n",
       "4           NaN     NaN                    NaN   \n",
       "\n",
       "                                         ID artworks  average_year  \\\n",
       "0                    380000000034695|380000000035465        2015.0   \n",
       "1                                    280000000115916           NaN   \n",
       "2  540000000000477|540000000000478|54000000000047...        1959.0   \n",
       "3                                    480000000000233           NaN   \n",
       "4    160000000001109|160000000105183|160000000105186        1959.0   \n",
       "\n",
       "                             artworks_creation_years  \n",
       "0                                          2015|2015  \n",
       "1                                                NaN  \n",
       "2  1959|1959|1959|1959|1959|1959|1959|1959|1959|1...  \n",
       "3                                                NaN  \n",
       "4                                     1948|1962|1967  "
      ]
     },
     "execution_count": 4,
     "metadata": {},
     "output_type": "execute_result"
    }
   ],
   "source": [
    "authors.head()\n"
   ]
  },
  {
   "cell_type": "code",
   "execution_count": 22,
   "metadata": {},
   "outputs": [
    {
     "data": {
      "text/plain": [
       "1968.0    372\n",
       "1970.0    342\n",
       "1975.0    341\n",
       "1966.0    341\n",
       "1965.0    338\n",
       "Name: average_year, dtype: int64"
      ]
     },
     "execution_count": 22,
     "metadata": {},
     "output_type": "execute_result"
    }
   ],
   "source": [
    "authors.average_year.value_counts().head()\n"
   ]
  },
  {
   "cell_type": "code",
   "execution_count": 7,
   "metadata": {},
   "outputs": [
    {
     "data": {
      "text/plain": [
       "[<matplotlib.lines.Line2D at 0x1254a49f0b8>]"
      ]
     },
     "execution_count": 7,
     "metadata": {},
     "output_type": "execute_result"
    },
    {
     "data": {
      "image/png": "[encoded data removed]",
      "text/plain": [
       "<Figure size 432x288 with 1 Axes>"
      ]
     },
     "metadata": {
      "needs_background": "light"
     },
     "output_type": "display_data"
    }
   ],
   "source": [
    "plt.plot(authors.average_year.value_counts().sort_index()\n",
    ")"
   ]
  },
  {
   "cell_type": "code",
   "execution_count": 21,
   "metadata": {},
   "outputs": [
    {
     "data": {
      "text/plain": [
       "[<matplotlib.lines.Line2D at 0x1254ae7e6a0>]"
      ]
     },
     "execution_count": 21,
     "metadata": {},
     "output_type": "execute_result"
    },
    {
     "data": {
      "image/png": "[encoded data removed]",
      "text/plain": [
       "<Figure size 432x288 with 1 Axes>"
      ]
     },
     "metadata": {
      "needs_background": "light"
     },
     "output_type": "display_data"
    }
   ],
   "source": [
    "#average years for authors whose birth year is missing\n",
    "birth_year = authors[authors['Birth year'].isna()]['average_year'].value_counts().sort_index()\n",
    "plt.plot(birth_year)"
   ]
  },
  {
   "cell_type": "code",
   "execution_count": 17,
   "metadata": {},
   "outputs": [
    {
     "data": {
      "text/plain": [
       "10366"
      ]
     },
     "execution_count": 17,
     "metadata": {},
     "output_type": "execute_result"
    }
   ],
   "source": [
    "authors['Birth year'].isna().sum()"
   ]
  },
  {
   "cell_type": "code",
   "execution_count": 23,
   "metadata": {},
   "outputs": [
    {
     "data": {
      "text/plain": [
       "[<matplotlib.lines.Line2D at 0x1254aed5f28>]"
      ]
     },
     "execution_count": 23,
     "metadata": {},
     "output_type": "execute_result"
    },
    {
     "data": {
      "image/png": "[encoded data removed]",
      "text/plain": [
       "<Figure size 432x288 with 1 Axes>"
      ]
     },
     "metadata": {
      "needs_background": "light"
     },
     "output_type": "display_data"
    }
   ],
   "source": [
    "#average years for authors whose death year is missing\n",
    "birth_year = authors[authors['Death year'].isna()]['average_year'].value_counts().sort_index()\n",
    "plt.plot(birth_year)"
   ]
  }
 ],
 "metadata": {
  "kernelspec": {
   "display_name": "Python 3",
   "language": "python",
   "name": "python3"
  },
  "language_info": {
   "codemirror_mode": {
    "name": "ipython",
    "version": 3
   },
   "file_extension": ".py",
   "mimetype": "text/x-python",
   "name": "python",
   "nbconvert_exporter": "python",
   "pygments_lexer": "ipython3",
   "version": "3.7.0"
  }
 },
 "nbformat": 4,
 "nbformat_minor": 2
}
