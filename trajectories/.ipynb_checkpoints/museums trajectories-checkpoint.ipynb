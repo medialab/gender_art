{
 "cells": [
  {
   "cell_type": "markdown",
   "metadata": {},
   "source": [
    "# Studying artists' career to understand the patterns and their determinants"
   ]
  },
  {
   "cell_type": "code",
   "execution_count": 1,
   "metadata": {},
   "outputs": [],
   "source": [
    "import os\n",
    "import pandas as pd\n",
    "import numpy as np\n",
    "import matplotlib\n",
    "import matplotlib.pyplot as plt\n",
    "import re\n",
    "import unicodedata\n",
    "import sklearn.cluster as cluster\n",
    "from sklearn.decomposition import PCA\n",
    "from collections import defaultdict\n",
    "from matplotlib.colors import LinearSegmentedColormap\n",
    "import matplotlib.patheffects as pe\n",
    "# %matplotlib inline"
   ]
  },
  {
   "cell_type": "code",
   "execution_count": 2,
   "metadata": {},
   "outputs": [],
   "source": [
    "pd.set_option('display.max_columns',200)\n",
    "pd.set_option('display.max_rows',200)\n",
    "global color_h, color_f, color_b, PLOTDIM, FREQYEARS\n",
    "color_h = \"gold\"\n",
    "color_f = \"royalblue\"\n",
    "color_b = \"lightgray\"\n",
    "PLOTDIM = (9,6)\n",
    "FREQYEARS = 10\n",
    "my_cm = LinearSegmentedColormap.from_list(\"colormap\", [color_h, color_f], N=100)"
   ]
  },
  {
   "cell_type": "code",
   "execution_count": 3,
   "metadata": {},
   "outputs": [],
   "source": [
    "matplotlib.font_manager._rebuild()\n",
    "plt.rcParams['font.family'] = 'Roboto'\n",
    "plt.rcParams['font.sans-serif'] = 'Roboto'\n",
    "plt.rcParams['font.weight'] = 500\n",
    "# matplotlib.font_manager.findSystemFonts(fontpaths=None, fontext='ttf')"
   ]
  },
  {
   "cell_type": "code",
   "execution_count": 4,
   "metadata": {},
   "outputs": [],
   "source": [
    "def linearize(str1):\n",
    "    d = [str1[0]] + [str1[i] for i in range(1,len(str1)) if str1[i-1] != str1[i]]\n",
    "    return ''.join(d)"
   ]
  },
  {
   "cell_type": "markdown",
   "metadata": {},
   "source": [
    "#### Import data"
   ]
  },
  {
   "cell_type": "code",
   "execution_count": 5,
   "metadata": {},
   "outputs": [],
   "source": [
    "raw_authors = pd.read_csv('../data/ALL_AUTHORS (live_work + clean nat).csv', encoding='utf-8', sep=',', low_memory=False)\n",
    "raw_art = pd.read_csv('../data/ALL_ARTWORKS (for stats use ONLY).csv', encoding='utf-8', sep=',', low_memory=False)\n",
    "raw_art['groupcol'] = raw_art['related'].fillna(value='') + raw_art['acquisition'].fillna(value='')"
   ]
  },
  {
   "cell_type": "code",
   "execution_count": 6,
   "metadata": {},
   "outputs": [
    {
     "name": "stdout",
     "output_type": "stream",
     "text": [
      "(71660, 117) (35958, 23)\n"
     ]
    }
   ],
   "source": [
    "# On travaille en points de contact\n",
    "art = raw_art.groupby(['authors', 'collection', 'acquisition_year']).first().reset_index()\n",
    "art = art[art['acquisition_year'] > 1945]\n",
    "raw_authors['live_and_work'] = raw_authors['live_and_work'].replace({'0': None})\n",
    "print(art.shape, raw_authors.shape)"
   ]
  },
  {
   "cell_type": "code",
   "execution_count": null,
   "metadata": {},
   "outputs": [],
   "source": [
    "museums = pd.read_csv('../data/ALL_AUTHORS (live_work + clean nat).csv', encoding='utf-8', sep=',', low_memory=False)\n"
   ]
  },
  {
   "cell_type": "markdown",
   "metadata": {},
   "source": [
    "#### Encode collections into broader categories"
   ]
  },
  {
   "cell_type": "code",
   "execution_count": 8,
   "metadata": {},
   "outputs": [],
   "source": [
    "art = art[pd.notnull(art['collection'])]\n",
    "art['collection_category'] = None\n",
    "for i, row in art.iterrows():\n",
    "    museum = row['collection']\n",
    "    if \"frac\" in museum.lower():\n",
    "        cat = 'F'\n",
    "    elif \"musée national d'art moderne\" in museum.lower():\n",
    "        cat = 'P'\n",
    "    elif \"centre national des arts plastiques\" in museum.lower():\n",
    "        cat = 'C'\n",
    "    elif \"musée\" in museum.lower():\n",
    "        cat = 'M'\n",
    "    else:\n",
    "        cat = 'A'\n",
    "    art.at[i, 'collection_category'] = cat"
   ]
  },
  {
   "cell_type": "code",
   "execution_count": 9,
   "metadata": {},
   "outputs": [
    {
     "data": {
      "text/plain": [
       "C    21387\n",
       "M    17243\n",
       "A    11324\n",
       "P    10983\n",
       "F    10723\n",
       "Name: collection_category, dtype: int64"
      ]
     },
     "execution_count": 9,
     "metadata": {},
     "output_type": "execute_result"
    }
   ],
   "source": [
    "art['collection_category'].value_counts()"
   ]
  },
  {
   "cell_type": "code",
   "execution_count": 10,
   "metadata": {},
   "outputs": [
    {
     "name": "stdout",
     "output_type": "stream",
     "text": [
      "0 %\n",
      "14 %\n",
      "28 %\n",
      "42 %\n",
      "56 %\n",
      "70 %\n",
      "83 %\n",
      "97 %\n"
     ]
    }
   ],
   "source": [
    "count = -1\n",
    "for i, row in raw_authors.iterrows():\n",
    "    count += 1\n",
    "    if count % 5000 == 0:\n",
    "        print(round(100*count/len(raw_authors)), '%')\n",
    "    ind = row['Id artist']\n",
    "    a = art[art['authors'].str.contains(str(ind))].sort_values('acquisition_year')\n",
    "    raw_authors.at[i, 'acquisition_year'] = '|'.join([str(int(x)) for x in a['acquisition_year'].values])\n",
    "    raw_authors.at[i, 'sequence'] = ''.join([x for x in a['collection_category'].values])"
   ]
  },
  {
   "cell_type": "code",
   "execution_count": 11,
   "metadata": {},
   "outputs": [],
   "source": [
    "raw_authors['acquisition_year'] = raw_authors['acquisition_year'].replace({'': None})"
   ]
  },
  {
   "cell_type": "code",
   "execution_count": 12,
   "metadata": {},
   "outputs": [],
   "source": [
    "raw_authors['first_aquisition'], raw_authors['last_aquisition_alive'] = None, None\n",
    "for i, row in raw_authors.iterrows():\n",
    "    dates = row['acquisition_year']\n",
    "    if not pd.isnull(dates):\n",
    "        dates = [int(d) for d in re.split('\\|', dates)]\n",
    "        raw_authors.at[i, 'art_count'] = len(dates)\n",
    "        raw_authors.at[i, 'first_aquisition'] = min(dates)\n",
    "        if not pd.isnull(row['Death year']):\n",
    "            dates = [d for d in dates if d <= row['Death year']]\n",
    "        if len(dates) > 0:\n",
    "            raw_authors.at[i, 'last_aquisition_alive'] = max(dates)"
   ]
  },
  {
   "cell_type": "code",
   "execution_count": 13,
   "metadata": {},
   "outputs": [],
   "source": [
    "# raw_authors['art_count'].value_counts()"
   ]
  },
  {
   "cell_type": "code",
   "execution_count": 85,
   "metadata": {},
   "outputs": [],
   "source": [
    "authors = raw_authors[raw_authors['art_count'] >= 4]\n",
    "authors = authors[authors['first_aquisition'] >= 1945]"
   ]
  },
  {
   "cell_type": "code",
   "execution_count": 86,
   "metadata": {},
   "outputs": [],
   "source": [
    "for i, row in authors.iterrows():\n",
    "    if pd.isnull(row['last_aquisition_alive']):\n",
    "        authors.at[i, 'dead_career'] = 0\n",
    "    elif (2018 - row['Birth year'] > 65) and (row['last_aquisition_alive'] < 2000):\n",
    "        authors.at[i, 'dead_career'] = 1\n",
    "    else:\n",
    "        authors.at[i, 'dead_career'] = 2"
   ]
  },
  {
   "cell_type": "code",
   "execution_count": 87,
   "metadata": {},
   "outputs": [
    {
     "data": {
      "text/plain": [
       "635"
      ]
     },
     "execution_count": 87,
     "metadata": {},
     "output_type": "execute_result"
    }
   ],
   "source": [
    "# Count of alive but dead career artists\n",
    "((authors['dead_career'] == 1) & pd.isnull(authors['Death year'])).sum()"
   ]
  },
  {
   "cell_type": "code",
   "execution_count": 88,
   "metadata": {},
   "outputs": [],
   "source": [
    "authors = authors[pd.notnull(authors['Death year']) | (authors['dead_career'] == 1)]"
   ]
  },
  {
   "cell_type": "code",
   "execution_count": 89,
   "metadata": {},
   "outputs": [
    {
     "data": {
      "text/plain": [
       "2870"
      ]
     },
     "execution_count": 89,
     "metadata": {},
     "output_type": "execute_result"
    }
   ],
   "source": [
    "# Dead or deed-career artists\n",
    "len(authors)"
   ]
  },
  {
   "cell_type": "code",
   "execution_count": 90,
   "metadata": {},
   "outputs": [
    {
     "data": {
      "text/plain": [
       "76.65190156599553"
      ]
     },
     "execution_count": 90,
     "metadata": {},
     "output_type": "execute_result"
    }
   ],
   "source": [
    "(authors['Death year'] - authors['Birth year']).mean()"
   ]
  },
  {
   "cell_type": "code",
   "execution_count": 20,
   "metadata": {},
   "outputs": [],
   "source": [
    "# authors.to_csv(\"../data/DEAD AUTHORS (broadly).csv\", encoding='utf-8', sep=',')\n",
    "# authors = pd.read_csv(\"../data/DEAD AUTHORS (broadly).csv\", encoding='utf-8', sep=',')"
   ]
  },
  {
   "cell_type": "code",
   "execution_count": 91,
   "metadata": {},
   "outputs": [],
   "source": [
    "authors['linlength'] = authors['sequence'].apply(linearize).apply(len)"
   ]
  },
  {
   "cell_type": "code",
   "execution_count": 22,
   "metadata": {},
   "outputs": [],
   "source": [
    "# authors = authors[authors['linlength'] < 50]"
   ]
  },
  {
   "cell_type": "markdown",
   "metadata": {},
   "source": [
    "## Acquisition paths distance and clustering"
   ]
  },
  {
   "cell_type": "code",
   "execution_count": 92,
   "metadata": {},
   "outputs": [],
   "source": [
    "ARTISTS_SEQUENCES = dict()\n",
    "nmod = 5\n",
    "for i, row in authors.iterrows():\n",
    "    ARTISTS_SEQUENCES[row['Id artist']] = row['sequence']\n",
    "ARTISTS = list(ARTISTS_SEQUENCES.keys())\n",
    "convert = {'C': 0, 'P': 1, 'F': 2, 'M': 3, 'A': 4}\n",
    "ranking = {'C': 1, 'P': 1, 'F': 0.5, 'M': 0.1, 'A': 0.1}"
   ]
  },
  {
   "cell_type": "markdown",
   "metadata": {},
   "source": [
    "#### Compute Markov Matrix"
   ]
  },
  {
   "cell_type": "code",
   "execution_count": 130,
   "metadata": {},
   "outputs": [],
   "source": [
    "def compute_markov(art_sequences):\n",
    "    markov = np.zeros((nmod, nmod))\n",
    "    count = np.zeros(nmod)\n",
    "    for artist in list(art_sequences.keys()):\n",
    "        path = art_sequences[artist]\n",
    "        for i in range(1, len(path)):\n",
    "            markov[convert[path[i-1]], convert[path[i]]] += 1\n",
    "            count[convert[path[i-1]]] += 1\n",
    "    for i in range(nmod):\n",
    "        if count[i] == 0:\n",
    "            markov[i,i] = 1\n",
    "            count[i] = 1\n",
    "    markov = markov / count[:,None]\n",
    "    return markov"
   ]
  },
  {
   "cell_type": "code",
   "execution_count": 131,
   "metadata": {},
   "outputs": [
    {
     "name": "stdout",
     "output_type": "stream",
     "text": [
      "[[0.4122273  0.09791984 0.04870624 0.18696093 0.25418569]\n",
      " [0.17227488 0.41658768 0.05308057 0.32582938 0.03222749]\n",
      " [0.21765146 0.15332835 0.34405385 0.25804039 0.02692595]\n",
      " [0.18356742 0.19676966 0.04101124 0.51783708 0.06081461]\n",
      " [0.36442024 0.0329022  0.00930338 0.13455866 0.45881552]]\n"
     ]
    }
   ],
   "source": [
    "markov = compute_markov(ARTISTS_SEQUENCES)\n",
    "penalty = markov.mean()\n",
    "print(markov)"
   ]
  },
  {
   "cell_type": "markdown",
   "metadata": {},
   "source": [
    "#### Defining costs for edit distance"
   ]
  },
  {
   "cell_type": "code",
   "execution_count": 26,
   "metadata": {},
   "outputs": [],
   "source": [
    "SUB_COST = 2\n",
    "DEL_COST = 1\n",
    "INS_COST = 1"
   ]
  },
  {
   "cell_type": "code",
   "execution_count": 27,
   "metadata": {},
   "outputs": [],
   "source": [
    "def insertion_cost(i, j, str1, str2):\n",
    "    if i == 1:\n",
    "        return 1\n",
    "    elif i-2 <= 0:\n",
    "        return 1\n",
    "    elif str2[j-1] == str1[i-2]:\n",
    "        return 0.5\n",
    "    else:\n",
    "        return 1"
   ]
  },
  {
   "cell_type": "code",
   "execution_count": 28,
   "metadata": {},
   "outputs": [],
   "source": [
    "def deletion_cost(i, j, str1, str2):\n",
    "    if i == 1:\n",
    "        return 1\n",
    "    elif i-2 <= 0:\n",
    "        return 1\n",
    "    elif str2[j-1] == str1[i-2]:\n",
    "        return 0.5\n",
    "    else:\n",
    "        return 1"
   ]
  },
  {
   "cell_type": "code",
   "execution_count": 29,
   "metadata": {},
   "outputs": [],
   "source": [
    "def substitution_cost(i, j, str1, str2):\n",
    "    if str1[i-1] == str2[j-1]:\n",
    "        return 0\n",
    "    elif i == 1:\n",
    "        return 2\n",
    "    elif str2[j-1] == str1[i-2]:\n",
    "        return 0.5\n",
    "    elif i >= len(str1):\n",
    "        return 2\n",
    "    elif str2[j-1] == str1[i]:\n",
    "        return 0.5\n",
    "    else:\n",
    "        return 2"
   ]
  },
  {
   "cell_type": "markdown",
   "metadata": {},
   "source": [
    "#### Lenvenshtein edit distance"
   ]
  },
  {
   "cell_type": "code",
   "execution_count": 30,
   "metadata": {},
   "outputs": [],
   "source": [
    "def levenshtein(str1, str2):\n",
    "    # en fait, Wagner–Fischer algorithm\n",
    "    # http://www.inrg.csie.ntu.edu.tw/algorithm2014/homework/Wagner-74.pdf\n",
    "    # str1 = linearize(str1)\n",
    "    # str2 = linearize(str2)\n",
    "    n = len(str1)\n",
    "    m = len(str2)\n",
    "    d = np.zeros((n+1, m+1))\n",
    "    for i in range(n+1):\n",
    "        d[i,0] = i\n",
    "    for j in range(m+1):\n",
    "        d[0,j] = j\n",
    "    for i in range(1,n+1):\n",
    "        for j in range(1,m+1):\n",
    "            d[i,j] = min(\n",
    "                d[i  ,j-1] + insertion_cost(i, j, str1, str2),    # Deletion cost\n",
    "                d[i-1,j  ] + deletion_cost(i, j, str1, str2),     # Insertion cost\n",
    "                d[i-1,j-1] + substitution_cost(i, j, str1, str2)) # Substition cost\n",
    "    ldist = d[n,m] / max(n, m)\n",
    "    return ldist"
   ]
  },
  {
   "cell_type": "markdown",
   "metadata": {},
   "source": [
    "#### Needleman–Wunsch optimal matching"
   ]
  },
  {
   "cell_type": "code",
   "execution_count": 31,
   "metadata": {},
   "outputs": [],
   "source": [
    "def needlemanwunsch(str1, str2):\n",
    "    # https://en.wikipedia.org/wiki/Needleman%E2%80%93Wunsch_algorithm\n",
    "    n = len(str1)\n",
    "    m = len(str2)\n",
    "    d = np.zeros((n+1, m+1))\n",
    "    for i in range(n+1):\n",
    "        d[i,0] = -i\n",
    "    for j in range(m+1):\n",
    "        d[0,j] = -j\n",
    "    for i in range(1,n+1):\n",
    "        for j in range(1,m+1):\n",
    "            d[i,j] = max(\n",
    "                d[i  ,j-1] + penalty,     # Deletion cost\n",
    "                d[i-1,j  ] + penalty,     # Insertion cost\n",
    "                d[i-1,j-1] + markov[convert[str1[i-1]], convert[str2[j-1]]]) # Substition cost\n",
    "    ldist = d[n,m] / max(n, m)\n",
    "    return ldist"
   ]
  },
  {
   "cell_type": "markdown",
   "metadata": {},
   "source": [
    "#### Markov distribution distance"
   ]
  },
  {
   "cell_type": "code",
   "execution_count": 72,
   "metadata": {},
   "outputs": [],
   "source": [
    "def markovdistance(mark1, mark2):\n",
    "    n = len(mark1)\n",
    "    ldist = np.zeros(n)\n",
    "    for i in range(n):\n",
    "        ldist[i] = np.linalg.norm(mark1[i]-mark2[i])\n",
    "    return np.linalg.norm(ldist)"
   ]
  },
  {
   "cell_type": "markdown",
   "metadata": {},
   "source": [
    "#### Sequence distance with various metrics"
   ]
  },
  {
   "cell_type": "code",
   "execution_count": 39,
   "metadata": {},
   "outputs": [
    {
     "name": "stdout",
     "output_type": "stream",
     "text": [
      "0 %\n",
      "28 %\n",
      "55 %\n",
      "83 %\n"
     ]
    }
   ],
   "source": [
    "distance = np.zeros((len(ARTISTS_SEQUENCES), len(ARTISTS_SEQUENCES)))\n",
    "\n",
    "for i, artist_source in enumerate(ARTISTS):\n",
    "    if i % 500 == 0:\n",
    "        print(round(100*i/len(ARTISTS_SEQUENCES)), '%')\n",
    "    sequence_source = ARTISTS_SEQUENCES[artist_source]\n",
    "    for j, artist_target in enumerate(ARTISTS):\n",
    "        sequence_target = ARTISTS_SEQUENCES[artist_target]\n",
    "        distance[i, j] = levenshtein(sequence_source, sequence_target)"
   ]
  },
  {
   "cell_type": "markdown",
   "metadata": {},
   "source": [
    "#### Distance between Markov matrix of each sequence"
   ]
  },
  {
   "cell_type": "code",
   "execution_count": 73,
   "metadata": {},
   "outputs": [
    {
     "name": "stdout",
     "output_type": "stream",
     "text": [
      "0 %\n",
      "28 %\n",
      "55 %\n",
      "83 %\n"
     ]
    }
   ],
   "source": [
    "distance_m = np.zeros((len(ARTISTS_SEQUENCES), len(ARTISTS_SEQUENCES)))\n",
    "\n",
    "for i, artist_source in enumerate(ARTISTS):\n",
    "    if i % 500 == 0:\n",
    "        print(round(100*i/len(ARTISTS_SEQUENCES)), '%')\n",
    "    src = {artist_source: ARTISTS_SEQUENCES[artist_source]}\n",
    "    mrk_src = compute_markov(src)\n",
    "    for j, artist_target in enumerate(ARTISTS):\n",
    "        dst = {artist_target: ARTISTS_SEQUENCES[artist_target]}\n",
    "        mrk_dst = compute_markov(dst)\n",
    "        distance_m[i, j] = markovdistance(mrk_src, mrk_dst)"
   ]
  },
  {
   "cell_type": "markdown",
   "metadata": {},
   "source": [
    "#### Clustering"
   ]
  },
  {
   "cell_type": "code",
   "execution_count": 74,
   "metadata": {},
   "outputs": [],
   "source": [
    "NUM_CLUSTERS = 7\n",
    "kmeans = cluster.KMeans(NUM_CLUSTERS, random_state=1234).fit(distance_m)\n",
    "labels = kmeans.labels_\n",
    "centroids = kmeans.cluster_centers_"
   ]
  },
  {
   "cell_type": "markdown",
   "metadata": {},
   "source": [
    "#### Plot"
   ]
  },
  {
   "cell_type": "code",
   "execution_count": 43,
   "metadata": {},
   "outputs": [],
   "source": [
    "def plot_clusters(dataset, labels, centroids):\n",
    "    fig, ax = plt.subplots(figsize=(7,7))\n",
    "\n",
    "    pca = PCA(n_components=2, random_state=123)\n",
    "    reduced_data = pca.fit_transform(dataset)\n",
    "    reduced_centroids = pca.transform(centroids)\n",
    "    x_min, x_max = reduced_data[:, 0].min() - .1, reduced_data[:, 0].max() + .1\n",
    "    y_min, y_max = reduced_data[:, 1].min() - .1, reduced_data[:, 1].max() + .1\n",
    "\n",
    "    plt.scatter(reduced_data[:, 0], reduced_data[:, 1], c=labels)\n",
    "    # for i in range(len(reduced_data)): plt.annotate(dataset.index.tolist()[i], reduced_data[i])\n",
    "    \n",
    "    for i, c in enumerate(reduced_centroids):\n",
    "        ax.annotate(str(i), c, size=16, ha='center', path_effects=[pe.withStroke(linewidth=4, foreground=\"w\")])\n",
    "    # plt.xlim(x_min, x_max)\n",
    "    # plt.ylim(y_min, y_max)\n",
    "    plt.xticks(())\n",
    "    plt.yticks(())\n",
    "    plt.show()"
   ]
  },
  {
   "cell_type": "code",
   "execution_count": 75,
   "metadata": {},
   "outputs": [
    {
     "data": {
      "image/png": "[encoded data removed]",
      "text/plain": [
       "<Figure size 504x504 with 1 Axes>"
      ]
     },
     "metadata": {},
     "output_type": "display_data"
    }
   ],
   "source": [
    "plot_clusters(distance_m, labels, centroids)"
   ]
  },
  {
   "cell_type": "markdown",
   "metadata": {},
   "source": [
    "#### Inspect clusters"
   ]
  },
  {
   "cell_type": "code",
   "execution_count": 78,
   "metadata": {},
   "outputs": [
    {
     "name": "stdout",
     "output_type": "stream",
     "text": [
      "Cluster n°1 containing:\n",
      "  - PMCCAACCCAAC\n",
      "  - CMCMCMACCPCMMPPMCC\n",
      "  - PCMACACCCACCPCACM\n",
      "  - PPPACCMPP\n",
      "  - AMCACMMCMACCPMCMCMMMCFFFMFCFFAMFCCCMCCMMMPPM\n",
      "  - CCCACPCF\n",
      "  - CCACCPC\n",
      "  - PMMCAPMPMMMPMMPPMPPAMMPMMM\n",
      "  - APMCAMAP\n",
      "  - CCPCAMM\n",
      "  - CCAAPACAMAAMAMMM\n",
      "  - CAMCPACMCCMMCMCCM\n",
      "  - ACCMCCMMMAMMPAM\n",
      "  - ACCPMPCMMPMPMMMPMPMFFFFFFMMCMFMFCCMMMFMAFACMACAMMAPCC\n",
      "  - ACCCCPAM\n",
      "  - CPCCCMCMCMPCCMACAC\n",
      "  - MPMMAM\n",
      "  - MPPCCCMMAMPMAMPCMACMPMMMMAPMM\n",
      "  - PMACMCCACAPCCACCACMMPAMAAA\n",
      "  - MPCPPCMPPCPPMCFMPFFMFCFMPACMPPMP\n",
      "  - PPCCMMFFCFCCMFFFCPCFPCFPFMPCMFFAFMMACCMPMMCFMPMPMMMPMCP\n",
      "  - CCCCPCCCCACCCM\n",
      "  - PCCPCFCFFACCCCM\n",
      "  - AMCPCCMMMMACCMMMC\n",
      "  - CPCPCPMPMPMPMPMMMAMMMCMMMMMMMMM\n",
      "  - AMAMCMACMMAAMMAMMCFFPCFMMM\n",
      "  - CAPCAPACAAAAACAAC\n",
      "  - CPPPCPCPCMPPCMMAMPMCFFFPFMMMPFMMPMMMMPM\n",
      "  - CPCMPPPFPMMFMFFMMFMPFFFCMFMMMPCMMMMFPFPPFMFMCMFFFCPMMMMMMCPMMMPCFFAFFM\n",
      "  - CPMPMPPMMPCMMMPPAPPCMPMCPPMMPPPMMMMMPMMPMMMMMMMMMM\n",
      "  - MMAMMPCMMMMPMMMMMMMMMMMMMMMMMMMMMMMMMMMMMMMMMMMMMMMMMMM\n",
      "  - CAPCACACACAAAAC\n",
      "  - APACCACACACAA\n",
      "  - CPMCMMCPMCMMMMPMPAMMPMMCPCMCMMCMMMPPPPMMMP\n",
      "  - MPCCCCACACCCCMPCCMMCCACC\n",
      "  - CCPMMMMAMM\n",
      "  - MMMAPAMAAAAMAACM\n",
      "  - CAPCMCMMMMM\n",
      "  - CCCCAPCACM\n",
      "  - ACMMCMCPCCMCMPFFFPM\n",
      "  - MPMPAPMPP\n",
      "  - CCMACCMMPCCP\n",
      "  - CCMCMMACMPACMCMMCAAMAP\n",
      "  - PCCMCACPA\n",
      "  - CAAACAAAAACAACPCC\n",
      "  - CPCACCCC\n",
      "  - AMACCAPAAC\n",
      "  - CAPMPMMMMPP\n",
      "  - CCCCCCACCCCMACAMMPMCAACMP\n",
      "  - CPACMCCM\n",
      "  - PAMCACACMCMAACACC\n",
      "  - CACCPA\n",
      "  - CAAAAPMM\n",
      "  - AMAAPA\n",
      "  - CMPCAPCMCMCMMMCMMM\n",
      "  - CPCPMCMCMACMMCPCMPPM\n",
      "  - CMMMCPMCFFFMFCCPCPCMCAMMMPMPMM\n",
      "  - PMMMPFPFFFCMCPMFFMCFMMMFFMFPAFMMMAMCMMPMMAMM\n",
      "  - MPMPPACP\n",
      "  - CPACACAPACCAAACPM\n",
      "  - MMPMMMCCPPACMMCCCCCPMMMPMMMMMPMMMMM\n",
      "  - PCCAMMMMMP\n",
      "  - CCMCACMPMMC\n",
      "  - ACACAPCCMCMMMAMCMMCAMACCMAMM\n",
      "  - MPAMMM\n",
      "  - PCACCCCAMC\n",
      "  - CCCCCAAPMMMAM\n",
      "  - MPMMMCCMCMMCACMMMMCMMCMFFFCMMMMMMM\n",
      "  - CACPACACACAACAACAAAAPM\n",
      "  - ACCPCC\n",
      "  - PCACACCCCPCCMPCCPMM\n",
      "  - CMCAMMCMAMMPAMCMPCP\n",
      "  - CPPAPCPPMMPMM\n",
      "  - CCCPAC\n",
      "  - PCPCCCCCACACPAAM\n",
      "  - CCCMCCACCACCMCMMCCMPM\n",
      "  - AAPACCACCAMPMMM\n",
      "  - AAAPAMAA\n",
      "  - CPMCCMCCMAACAP\n",
      "  - PCCMCPCAPMPPMMMMPPPMP\n",
      "  - ACCFFFCCFFPMMMPMAPMA\n",
      "  - CPMCCMMPPAM\n",
      "  - MPMPPCCCCMMCMMMMMPMMCAPPM\n",
      "  - MCMCMMAMMPM\n",
      "  - MPMPPPMMCMMMAMMMMMMAM\n",
      "  - CCCACMMPMCPCAPM\n",
      "  - CCACMCACAPACACCACAPAC\n",
      "  - MMCMCAMPCMMMMM\n",
      "  - CMCPCMCAC\n",
      "  - CCCCCMCMMACACACMMCCAMCPMM\n",
      "  - CCCAMACMCAMCMPAM\n",
      "  - PMCPMAMPP\n",
      "  - PAPAMMMMM\n",
      "  - CACAAPCAMCCCMPA\n",
      "  - PMPPMAMMAMMMMMPMPMMPMMP\n",
      "  - CACMAPAA\n",
      "  - PMMMPMCMPMMPAMCMMPMMAPPM\n",
      "  - CAAPCMCMMMMMMMP\n",
      "  - CACMMCCCPCACAMMMACAMCAMMCCPAAM\n",
      "  - ACCCPCFPCFCPPP\n",
      "  - ACACACAPACM\n",
      "  - CPMCPMMPMMMCPAPMCPPMMMMMMPAPMM\n",
      "  - CCCPCMCMAAMACPM\n",
      "  - AACAPMM\n",
      "  - CPMMCMMCCFFPMMMMPMMMPAMPM\n",
      "  - MPPAMM\n",
      "  - CCPCCAC\n",
      "  - PFFMMPCAMA\n",
      "  - PMPCMPAMPPMMM\n",
      "  - CAMPAAAACACACA\n",
      "  - CCCCCCAAMCACMCCPAC\n",
      "  - CACFCM\n",
      "  - PPFMFFMMPFPMCPPCFAMPMMFFMMM\n",
      "  - MMMCMMMCCACMMCCCCCCPMFFMCMPMMCCMMMMMMM\n",
      "  - CACAAPC\n",
      "  - MPPMMCCMCPMPPCPFFFCFMMMCMAPMPM\n",
      "  - CCCMCCCMMMAMCMPMMM\n",
      "  - MMMPMPMMCAMCCPMMPCMMCMC\n",
      "  - CCCCAMCMPCCA\n",
      "  - CPMCCCCCCCMAC\n",
      "  - CACPMCM\n",
      "  - PACACCAMCCACCCAC\n",
      "  - FFFCFCMMFAMMMM\n",
      "  - CPCCPCCPCCPCCMCMACMMPMMCMMPMPAMPM\n",
      "  - PMCCPMPCMMCMMACCCP\n",
      "  - PMMMCPPPAPP\n",
      "  - CCCCCCFFFCACPFMPM\n",
      "  - CPACCCCCM\n",
      "  - ACFFCFC\n",
      "  - CAMPPP\n",
      "  - CPCMCCCCCAMPACC\n",
      "  - CACACMCCCCCMMMACCCACMPAMMAAMAM\n",
      "  - ACACCAPCMCMACA\n",
      "  - MPCACCCCCMM\n",
      "  - CPMCFFFMAMPPMMMMM\n",
      "  - PCCCMPCAPP\n",
      "  - CPCAMAA\n",
      "  - PCCAMAAP\n",
      "  - CCAAPCA\n",
      "  - CMMCMMFMFCCFPAACMCCMFPCCPFCFAMMM\n",
      "  - CAMPCMMCC\n",
      "  - CACCMPMM\n",
      "  - CPMACCC\n",
      "  - CCMCMACMCMMACAMACAMCAMMCMCAMCCPCM\n",
      "  - ACCPCCCAPMPM\n",
      "  - CCPCCMCACCAMCPM\n",
      "  - CPPCMCMPCMCPACCAMAMCMMMMMMMPCFFCCPMMM\n",
      "  - CPCCACAACAPM\n",
      "  - CACAPACC\n",
      "  - CMAPACCAMCAACCAA\n",
      "  - PFFFFFFFPCMCCFFCFCFPCMMMAMPC\n",
      "  - ACMCCAMMMFM\n",
      "  - PCCACACAAAAAACA\n",
      "  - PCCCCCACACPMCCCCPAPPM\n",
      "  - PPMMPACCM\n",
      "  - CCACCCCCMACACCCCPACPM\n",
      "  - MMMMMMCCCMMAFACM\n",
      "  - CCMPCACPMACCACCCC\n",
      "  - ACCAPM\n",
      "  - PCMCAPMM\n",
      "  - PACACCCCMACMCMCAPC\n",
      "  - CCCCCACAPACM\n",
      "  - MPMCMPACCP\n",
      "  - PACACCCCCCCCCAACCCCACA\n",
      "  - CCCAMCCAAPAMAM\n",
      "  - PCAACCCCAA\n",
      "  - MPCCAC\n",
      "  - CCCCCCMCCAMMMCCACMCCCPA\n",
      "  - CCPCACCC\n",
      "  - ACCAMCMCCPMMPF\n",
      "  - CAMMCAPAAAAA\n",
      "  - FACFFFPFFPPP\n",
      "  - CPCACAAPACCAA\n",
      "  - CACCACAPAAAPACCACACAC\n",
      "  - FPFFPCFMMCCAACAC\n",
      "  - CMPCCAMCMAA\n",
      "  - FFPMMMACMMFFFMMMCMPMPFFFMF\n",
      "  - PCAACCAA\n",
      "  - CCCACPCC\n",
      "  - CCACPCACAAAACAMPAMMM\n",
      "  - CAAPCCCCACACAA\n",
      "  - CCFCCFAFFCF\n",
      "  - CCCCCAACCACAMPCMAMPMCAAM\n",
      "  - CAACPCAAACAMMACMCCCA\n",
      "  - PPMPAMMPMPPMPPMM\n",
      "  - MPPMMCCAPPPCMMMMPCAPMPMPMPMMPPPPM\n",
      "  - MMPMCACCFFPMCPMMCPMMPA\n",
      "  - CMCCCMPMCMCAMACCCMC\n",
      "  - AMCMFCFF\n",
      "  - CCCAAMCPCAMC\n",
      "  - AMCMCMMAPCAP\n",
      "  - CACACACCCPCCACAMCCMCMCAM\n",
      "  - PPCAMCMACMPMMCACMPCMMPMMMMMM\n",
      "  - CCMACACMAACCCPMMMMMMA\n",
      "  - MAPMCCMMMC\n",
      "  - PCFFPMMFFPCMFMFPMFCMFCPFCFMPPAFCFCFMACMPCFFMMCCCCMMM\n",
      "  - PCPCPCMMCPPCAMMMMCCAMMMMP\n",
      "  - PCCACAACA\n",
      "  - AMCAMAPMMA\n",
      "  - CCAACACAAAPAMMMMAPMAMAM\n",
      "  - CACCFCFCFFC\n",
      "  - CCAACCPCCCCA\n",
      "  - MCACCAMMCAPMMMM\n",
      "  - CAMMMAMCMMPMMMPM\n",
      "  - PPAMPP\n",
      "  - PPPMPAMPPPPP\n",
      "  - CMPAPCMMMCMCACMCMAAMCPMP\n",
      "  - CAPACMCPCACCAMCAMCMACCAMACMAMCCCMMCAMCPAMAAPAAAMACAC\n",
      "  - PPPPPPPPCPMMFFMMMPFFAPMMF\n",
      "  - CPCACCCCC\n",
      "  - MCAMCCMMMPCMMMPPMMCPMMMMCMMM\n",
      "  - PCCPAACCCMCMC\n",
      "  - CPMCMMAMCP\n",
      "  - CMCAPCMPMMMPMPMMMM\n",
      "  - PMCAAAPAA\n",
      "  - CAPMMMMCP\n",
      "  - MMMMFFCPPAPMCMMPMMMPPPP\n",
      "  - CCCPCACAPCAMCCCAMCMCMMPMAAMAMMAAAM\n",
      "  - CAMPACACA\n",
      "  - CPCCCPCACCCCCCCPCCAMPCAC\n",
      "  - CCCCCACPA\n",
      "  - CACPMMMPMMP\n",
      "  - CACMACCCPACACAACAMCMPM\n",
      "  - ACACCCMPM\n",
      "  - CAPPPCMPCCC\n",
      "  - ACMCACCPCACA\n",
      "  - PCACAACACCAAA\n",
      "  - MCCCFFCPCACCCPMMMMPCMP\n",
      "  - CPCCCACCAACAAACAAC\n",
      "  - AMPMMMMMCCPPMM\n",
      "  - AACPCMACAAAMCACCMACACAMMAM\n",
      "  - CAPAACAPCCCC\n",
      "  - CAACACCCACAACPAMMA\n"
     ]
    }
   ],
   "source": [
    "i = 1\n",
    "print('Cluster n°%i containing:' % (i))\n",
    "for j, artist in enumerate(ARTISTS):\n",
    "    if labels[j] == i:\n",
    "        sequence = ARTISTS_SEQUENCES[artist]\n",
    "        print('  - %s' % (sequence))"
   ]
  },
  {
   "cell_type": "markdown",
   "metadata": {},
   "source": [
    "## Gender-oriented study of markov matrix"
   ]
  },
  {
   "cell_type": "code",
   "execution_count": 132,
   "metadata": {},
   "outputs": [
    {
     "name": "stdout",
     "output_type": "stream",
     "text": [
      "441 2429\n"
     ]
    }
   ],
   "source": [
    "F_SEQUENCES, H_SEQUENCES = dict(), dict()\n",
    "first_f, first_h = [], []\n",
    "for i, row in authors.iterrows():\n",
    "    if row['Gender'] == 'féminin':\n",
    "        F_SEQUENCES[row['Id artist']] = row['sequence']\n",
    "        first_f.append(row['sequence'][0])\n",
    "    elif row['Gender'] == 'masculin':\n",
    "        H_SEQUENCES[row['Id artist']] = row['sequence']\n",
    "        first_h.append(row['sequence'][0])\n",
    "F_ARTISTS = list(F_SEQUENCES.keys())\n",
    "H_ARTISTS = list(H_SEQUENCES.keys())\n",
    "first_f = pd.Series(first_f).value_counts(True).tolist()\n",
    "first_h = pd.Series(first_h).value_counts(True).tolist()\n",
    "print(len(F_ARTISTS), len(H_ARTISTS))"
   ]
  },
  {
   "cell_type": "code",
   "execution_count": 133,
   "metadata": {},
   "outputs": [
    {
     "name": "stdout",
     "output_type": "stream",
     "text": [
      "[[0.41550022 0.10313835 0.04714896 0.19080595 0.24340651]\n",
      " [0.16997389 0.41618799 0.05430809 0.32767624 0.03185379]\n",
      " [0.21278385 0.15054668 0.34735071 0.26408747 0.02523129]\n",
      " [0.17953098 0.19692499 0.04053424 0.52508153 0.05792825]\n",
      " [0.37496492 0.03480213 0.01038451 0.14229582 0.43755262]] \n",
      "\n",
      " [[0.39197812 0.06563355 0.05834093 0.16317229 0.32087511]\n",
      " [0.19487179 0.42051282 0.04102564 0.30769231 0.03589744]\n",
      " [0.25675676 0.17567568 0.31756757 0.20945946 0.04054054]\n",
      " [0.22173275 0.19530103 0.04552129 0.44933921 0.08810573]\n",
      " [0.31990521 0.02488152 0.00473934 0.10189573 0.5485782 ]]\n"
     ]
    }
   ],
   "source": [
    "markov_h = compute_markov(H_SEQUENCES)\n",
    "markov_f = compute_markov(F_SEQUENCES)\n",
    "print(markov_h, '\\n\\n', markov_f)"
   ]
  },
  {
   "cell_type": "markdown",
   "metadata": {},
   "source": [
    "## Markov simulation"
   ]
  },
  {
   "cell_type": "code",
   "execution_count": 134,
   "metadata": {},
   "outputs": [],
   "source": [
    "def simulate_path(first, matrix, length=15):\n",
    "    choices = ['C', 'P', 'F', 'M', 'A']\n",
    "    path = np.random.choice(choices, p=first)\n",
    "    for i in range(length):\n",
    "        p = matrix[convert[path[-1]]]\n",
    "        path += np.random.choice(choices, p=p)\n",
    "    return path"
   ]
  },
  {
   "cell_type": "code",
   "execution_count": 138,
   "metadata": {},
   "outputs": [
    {
     "data": {
      "text/plain": [
       "'CFCACCMMMMMAACPP'"
      ]
     },
     "execution_count": 138,
     "metadata": {},
     "output_type": "execute_result"
    }
   ],
   "source": [
    "simulate_path(first_f, markov_f, length=15)"
   ]
  }
 ],
 "metadata": {
  "kernelspec": {
   "display_name": "Python 3",
   "language": "python",
   "name": "python3"
  },
  "language_info": {
   "codemirror_mode": {
    "name": "ipython",
    "version": 3
   },
   "file_extension": ".py",
   "mimetype": "text/x-python",
   "name": "python",
   "nbconvert_exporter": "python",
   "pygments_lexer": "ipython3",
   "version": "3.6.6"
  }
 },
 "nbformat": 4,
 "nbformat_minor": 2
}
