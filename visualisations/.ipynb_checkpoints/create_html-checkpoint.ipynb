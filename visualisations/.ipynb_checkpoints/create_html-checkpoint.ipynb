{
 "cells": [
  {
   "cell_type": "code",
   "execution_count": 1,
   "metadata": {},
   "outputs": [],
   "source": [
    "import os\n",
    "import pandas as pd\n",
    "import numpy as np\n",
    "import re\n",
    "import unicodedata\n",
    "import sys"
   ]
  },
  {
   "cell_type": "code",
   "execution_count": 2,
   "metadata": {},
   "outputs": [],
   "source": [
    "def validname(value):\n",
    "    \"\"\"\n",
    "    Normalizes string, converts to lowercase, removes non-alpha characters,\n",
    "    and converts spaces to hyphens.\n",
    "    \"\"\"\n",
    "    value = re.sub('[^\\w\\s-]', '', value).strip().lower()\n",
    "    value = re.sub('[-\\s]+', '-', value)\n",
    "    return value"
   ]
  },
  {
   "cell_type": "code",
   "execution_count": 3,
   "metadata": {},
   "outputs": [],
   "source": [
    "art = pd.read_csv('../data/ALL_ARTWORKS.csv',low_memory=False)"
   ]
  },
  {
   "cell_type": "code",
   "execution_count": 4,
   "metadata": {},
   "outputs": [],
   "source": [
    "# Transform bad collections\n",
    "art.loc[art['collection'] == \"Musée national d'art moderne / Centre de cr��ation industrielle\", 'collection'] = \"Musée national d'art moderne / Centre de création industrielle\"\n",
    "art.loc[art['collection'] == \"Mus��e d'Art moderne et contemporain de la Ville de Strasbourg\", 'collection'] = \"Musée d'Art moderne et contemporain de la Ville de Strasbourg\"\n",
    "art.loc[art['collection'] == \"Mus��e national d'art moderne / Centre de création industrielle\", 'collection'] = \"Musée national d'art moderne / Centre de création industrielle\"\n",
    "art.loc[art['collection'] == \"La Piscine, Mus��e d'art et d'industrie André Diligent, Roubaix\", 'collection'] = \"La Piscine, Musée d'art et d'industrie André Diligent, Roubaix\"\n",
    "art.loc[art['collection'] == \"Mus��e d'art contemporain de Lyon\", 'collection'] = \"Musée d'art contemporain de Lyon\""
   ]
  },
  {
   "cell_type": "code",
   "execution_count": 24,
   "metadata": {
    "scrolled": true
   },
   "outputs": [
    {
     "name": "stderr",
     "output_type": "stream",
     "text": [
      "c:\\program files\\python36\\lib\\site-packages\\ipykernel_launcher.py:16: FutureWarning: by argument to sort_index is deprecated, please use .sort_values(by=...)\n",
      "  app.launch_new_instance()\n"
     ]
    },
    {
     "ename": "KeyError",
     "evalue": "'index'",
     "output_type": "error",
     "traceback": [
      "\u001b[1;31m---------------------------------------------------------------------------\u001b[0m",
      "\u001b[1;31mKeyError\u001b[0m                                  Traceback (most recent call last)",
      "\u001b[1;32m<ipython-input-24-875a28efcacf>\u001b[0m in \u001b[0;36m<module>\u001b[1;34m\u001b[0m\n\u001b[0;32m     14\u001b[0m     \u001b[1;32melse\u001b[0m\u001b[1;33m:\u001b[0m\u001b[1;33m\u001b[0m\u001b[0m\n\u001b[0;32m     15\u001b[0m         \u001b[0morder\u001b[0m\u001b[1;33m.\u001b[0m\u001b[0mappend\u001b[0m\u001b[1;33m(\u001b[0m\u001b[1;36m4\u001b[0m\u001b[1;33m)\u001b[0m\u001b[1;33m\u001b[0m\u001b[0m\n\u001b[1;32m---> 16\u001b[1;33m \u001b[0mordercol\u001b[0m \u001b[1;33m=\u001b[0m \u001b[0mpd\u001b[0m\u001b[1;33m.\u001b[0m\u001b[0mDataFrame\u001b[0m\u001b[1;33m(\u001b[0m\u001b[0mcollections\u001b[0m\u001b[1;33m,\u001b[0m \u001b[0morder\u001b[0m\u001b[1;33m)\u001b[0m\u001b[1;33m.\u001b[0m\u001b[0msort_index\u001b[0m\u001b[1;33m(\u001b[0m\u001b[0mby\u001b[0m\u001b[1;33m=\u001b[0m\u001b[1;33m[\u001b[0m\u001b[1;34m'index'\u001b[0m\u001b[1;33m,\u001b[0m \u001b[1;34m'0'\u001b[0m\u001b[1;33m]\u001b[0m\u001b[1;33m)\u001b[0m\u001b[1;33m\u001b[0m\u001b[0m\n\u001b[0m\u001b[0;32m     17\u001b[0m \u001b[0mordercol\u001b[0m\u001b[1;33m\u001b[0m\u001b[0m\n",
      "\u001b[1;32mc:\\program files\\python36\\lib\\site-packages\\pandas\\core\\frame.py\u001b[0m in \u001b[0;36msort_index\u001b[1;34m(self, axis, level, ascending, inplace, kind, na_position, sort_remaining, by)\u001b[0m\n\u001b[0;32m   4453\u001b[0m                 \u001b[1;32mraise\u001b[0m \u001b[0mValueError\u001b[0m\u001b[1;33m(\u001b[0m\u001b[1;34m\"unable to simultaneously sort by and level\"\u001b[0m\u001b[1;33m)\u001b[0m\u001b[1;33m\u001b[0m\u001b[0m\n\u001b[0;32m   4454\u001b[0m             return self.sort_values(by, axis=axis, ascending=ascending,\n\u001b[1;32m-> 4455\u001b[1;33m                                     inplace=inplace)\n\u001b[0m\u001b[0;32m   4456\u001b[0m \u001b[1;33m\u001b[0m\u001b[0m\n\u001b[0;32m   4457\u001b[0m         \u001b[0maxis\u001b[0m \u001b[1;33m=\u001b[0m \u001b[0mself\u001b[0m\u001b[1;33m.\u001b[0m\u001b[0m_get_axis_number\u001b[0m\u001b[1;33m(\u001b[0m\u001b[0maxis\u001b[0m\u001b[1;33m)\u001b[0m\u001b[1;33m\u001b[0m\u001b[0m\n",
      "\u001b[1;32mc:\\program files\\python36\\lib\\site-packages\\pandas\\core\\frame.py\u001b[0m in \u001b[0;36msort_values\u001b[1;34m(self, by, axis, ascending, inplace, kind, na_position)\u001b[0m\n\u001b[0;32m   4409\u001b[0m             \u001b[1;32mfor\u001b[0m \u001b[0mx\u001b[0m \u001b[1;32min\u001b[0m \u001b[0mby\u001b[0m\u001b[1;33m:\u001b[0m\u001b[1;33m\u001b[0m\u001b[0m\n\u001b[0;32m   4410\u001b[0m                 k = self._get_label_or_level_values(x, axis=axis,\n\u001b[1;32m-> 4411\u001b[1;33m                                                     stacklevel=stacklevel)\n\u001b[0m\u001b[0;32m   4412\u001b[0m                 \u001b[0mkeys\u001b[0m\u001b[1;33m.\u001b[0m\u001b[0mappend\u001b[0m\u001b[1;33m(\u001b[0m\u001b[0mk\u001b[0m\u001b[1;33m)\u001b[0m\u001b[1;33m\u001b[0m\u001b[0m\n\u001b[0;32m   4413\u001b[0m             indexer = lexsort_indexer(keys, orders=ascending,\n",
      "\u001b[1;32mc:\\program files\\python36\\lib\\site-packages\\pandas\\core\\generic.py\u001b[0m in \u001b[0;36m_get_label_or_level_values\u001b[1;34m(self, key, axis, stacklevel)\u001b[0m\n\u001b[0;32m   1380\u001b[0m             \u001b[0mvalues\u001b[0m \u001b[1;33m=\u001b[0m \u001b[0mself\u001b[0m\u001b[1;33m.\u001b[0m\u001b[0maxes\u001b[0m\u001b[1;33m[\u001b[0m\u001b[0maxis\u001b[0m\u001b[1;33m]\u001b[0m\u001b[1;33m.\u001b[0m\u001b[0mget_level_values\u001b[0m\u001b[1;33m(\u001b[0m\u001b[0mkey\u001b[0m\u001b[1;33m)\u001b[0m\u001b[1;33m.\u001b[0m\u001b[0m_values\u001b[0m\u001b[1;33m\u001b[0m\u001b[0m\n\u001b[0;32m   1381\u001b[0m         \u001b[1;32melse\u001b[0m\u001b[1;33m:\u001b[0m\u001b[1;33m\u001b[0m\u001b[0m\n\u001b[1;32m-> 1382\u001b[1;33m             \u001b[1;32mraise\u001b[0m \u001b[0mKeyError\u001b[0m\u001b[1;33m(\u001b[0m\u001b[0mkey\u001b[0m\u001b[1;33m)\u001b[0m\u001b[1;33m\u001b[0m\u001b[0m\n\u001b[0m\u001b[0;32m   1383\u001b[0m \u001b[1;33m\u001b[0m\u001b[0m\n\u001b[0;32m   1384\u001b[0m         \u001b[1;31m# Check for duplicates\u001b[0m\u001b[1;33m\u001b[0m\u001b[1;33m\u001b[0m\u001b[0m\n",
      "\u001b[1;31mKeyError\u001b[0m: 'index'"
     ]
    }
   ],
   "source": [
    "collections = art['collection'].dropna().unique()\n",
    "fracs = []\n",
    "order = []\n",
    "for museum in art['collection'].dropna().unique():\n",
    "    if \"musée national d'art moderne\" in museum.lower():\n",
    "        order.append(0)\n",
    "    elif \"centre national des arts plastiques\" in museum.lower():\n",
    "        order.append(1)\n",
    "    elif \" national\" in museum.lower():\n",
    "        order.append(2)\n",
    "    elif \"frac\" in museum.lower():\n",
    "        fracs.append(museum)\n",
    "        order.append(3)\n",
    "    else:\n",
    "        order.append(4)\n",
    "collections = sorted(collections)\n",
    "ordercol = pd.DataFrame(collections, order).sort_index(by=['index', '0'])\n",
    "ordercol"
   ]
  },
  {
   "cell_type": "code",
   "execution_count": 6,
   "metadata": {},
   "outputs": [],
   "source": [
    "stylefile = open(\"style.css\", \"r\")\n",
    "style = stylefile.read()"
   ]
  },
  {
   "cell_type": "code",
   "execution_count": 7,
   "metadata": {},
   "outputs": [],
   "source": [
    "begin = \"\"\"\n",
    "<!DOCTYPE html>\n",
    "<html>\n",
    "<head>\n",
    "  <title>Rapport Art & Genre</title>\n",
    "  <link href=\"https://fonts.googleapis.com/css?family=Roboto:400,700\" rel=\"stylesheet\">\n",
    "  <meta charset=\"utf-8\"/>\n",
    "  <link rel=\"stylesheet\" type=\"text/css\" href=\"style.css\">\n",
    "</head>\n",
    "\"\"\""
   ]
  },
  {
   "cell_type": "code",
   "execution_count": 8,
   "metadata": {},
   "outputs": [],
   "source": [
    "main = \"\""
   ]
  },
  {
   "cell_type": "code",
   "execution_count": 9,
   "metadata": {},
   "outputs": [],
   "source": [
    "pagestring = \"\"\"\n",
    "    <!-- begin page -->\n",
    "    <div class=\"page\">\n",
    "    <div class=\"column\">\n",
    "      <!-- top left -->\n",
    "      <div class=\"cell cartel\">\n",
    "        <div class=\"cartel-content\">\n",
    "          <h1> %s </h1>\n",
    "          <ul>\n",
    "              <li>\n",
    "                Période étudiée : 1945 – 2017\n",
    "              </li>\n",
    "              <li>\n",
    "                <span class=\"legend-item women\">\n",
    "                  <div>\n",
    "                      femmes\n",
    "                  </div>\n",
    "                </span>\n",
    "                <span class=\"legend-item men\">\n",
    "                  <div>\n",
    "                      hommes\n",
    "                  </div>\n",
    "                </span>\n",
    "              </li>\n",
    "          </ul>\n",
    "        </div>\n",
    "      </div>\n",
    "      <!-- middle left -->\n",
    "      <div class=\"cell\">\n",
    "        <div class=\"figure-container\">\n",
    "          <h3 class=\"figure-title\">Âge moyen à l'acquisition</h3>\n",
    "          <img src=\"%s\"></img>\n",
    "        </div>\n",
    "      </div>\n",
    "      <!-- bottom left -->\n",
    "      <div class=\"cell\">\n",
    "        <div class=\"figure-container\">\n",
    "          <h3 class=\"figure-title\">Modalités d'acquisition</h3>\n",
    "          <img src=\"%s\"></img>\n",
    "        </div>\n",
    "      </div>\n",
    "    </div>\n",
    "    <div class=\"column\">\n",
    "      <!-- top right -->\n",
    "      <div class=\"cell\">\n",
    "        <div class=\"figure-container\">\n",
    "          <h3 class=\"figure-title\">Acquisitions totales</h3>\n",
    "          <img src=\"%s\"></img>\n",
    "        </div>\n",
    "      </div>\n",
    "      <!-- middle right -->\n",
    "      <div class=\"cell\">\n",
    "        <div class=\"figure-container\">\n",
    "          <h3 class=\"figure-title\">Acquisition d'artistes français.e.s</h3>\n",
    "          <img src=\"%s\"></img>\n",
    "        </div>\n",
    "      </div>\n",
    "      <!-- bottom right -->\n",
    "      <div class=\"cell\">\n",
    "        <div class=\"figure-container\">\n",
    "          <h3 class=\"figure-title\">Acquisitions par domaine</h3>\n",
    "          <img src=\"%s\"></img>\n",
    "        </div>\n",
    "      </div>\n",
    "    </div>\n",
    "    </div>\n",
    "    <!-- end page -->\n",
    "    \"\"\""
   ]
  },
  {
   "cell_type": "code",
   "execution_count": 10,
   "metadata": {},
   "outputs": [],
   "source": [
    "# Global\n",
    "folder = \"_global\"\n",
    "fig_age = \"figures/\" + folder + \"/age_acquisition.png\"\n",
    "fid_mod = \"figures/\" + folder + \"/ratio_acquisitions.png\"\n",
    "fig_ove = \"figures/\" + folder + \"/ratio_overall.png\"\n",
    "fig_nat = \"figures/\" + folder + \"/ratio_nationality.png\"\n",
    "fig_dom = \"figures/\" + folder + \"/ratio_domains.png\"\n",
    "page = pagestring % (\"Ensemble des collections\", fig_age, fid_mod, fig_ove, fig_nat, fig_dom)\n",
    "main = main + page"
   ]
  },
  {
   "cell_type": "code",
   "execution_count": 11,
   "metadata": {},
   "outputs": [],
   "source": [
    "# FRACs\n",
    "folder = \"_fracs\"\n",
    "fig_age = \"figures/\" + folder + \"/age_acquisition.png\"\n",
    "fid_mod = \"figures/\" + folder + \"/ratio_acquisitions.png\"\n",
    "fig_ove = \"figures/\" + folder + \"/ratio_overall.png\"\n",
    "fig_nat = \"figures/\" + folder + \"/ratio_nationality.png\"\n",
    "fig_dom = \"figures/\" + folder + \"/ratio_domains.png\"\n",
    "page = pagestring % (\"Ensemble des FRAC\", fig_age, fid_mod, fig_ove, fig_nat, fig_dom)\n",
    "main = main + page"
   ]
  },
  {
   "cell_type": "code",
   "execution_count": 12,
   "metadata": {},
   "outputs": [],
   "source": [
    "#Autres collections\n",
    "for col in collections:\n",
    "    folder = validname(col)\n",
    "    fig_age = \"figures/\" + folder + \"/age_acquisition.png\"\n",
    "    fid_mod = \"figures/\" + folder + \"/ratio_acquisitions.png\"\n",
    "    fig_ove = \"figures/\" + folder + \"/ratio_overall.png\"\n",
    "    fig_nat = \"figures/\" + folder + \"/ratio_nationality.png\"\n",
    "    fig_dom = \"figures/\" + folder + \"/ratio_domains.png\"\n",
    "    \n",
    "    page = pagestring % (col, fig_age, fid_mod, fig_ove, fig_nat, fig_dom)\n",
    "    main = main + page"
   ]
  },
  {
   "cell_type": "code",
   "execution_count": 13,
   "metadata": {},
   "outputs": [],
   "source": [
    "body = \"\"\"\n",
    "<body>\n",
    "%s\n",
    "</body>\n",
    "\"\"\" % main"
   ]
  },
  {
   "cell_type": "code",
   "execution_count": 14,
   "metadata": {},
   "outputs": [],
   "source": [
    "content = begin + body"
   ]
  },
  {
   "cell_type": "code",
   "execution_count": 15,
   "metadata": {},
   "outputs": [],
   "source": [
    "html_file = open(\"presentation.html\", \"w\", encoding=\"utf-8\")\n",
    "html_file.write(content)\n",
    "html_file.close()"
   ]
  },
  {
   "cell_type": "code",
   "execution_count": null,
   "metadata": {},
   "outputs": [],
   "source": []
  }
 ],
 "metadata": {
  "kernelspec": {
   "display_name": "Python 3",
   "language": "python",
   "name": "python3"
  },
  "language_info": {
   "codemirror_mode": {
    "name": "ipython",
    "version": 3
   },
   "file_extension": ".py",
   "mimetype": "text/x-python",
   "name": "python",
   "nbconvert_exporter": "python",
   "pygments_lexer": "ipython3",
   "version": "3.6.6"
  }
 },
 "nbformat": 4,
 "nbformat_minor": 2
}
