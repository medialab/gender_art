{
 "cells": [
  {
   "cell_type": "markdown",
   "metadata": {},
   "source": [
    "# Préparation des figures de statistiques descriptives"
   ]
  },
  {
   "cell_type": "markdown",
   "metadata": {},
   "source": [
    "### Todo : \n",
    "Produire les figures, en global et par institution :\n",
    "1. Ratio Femme/reste pour les acquisitions par année depuis 1945 : **DONE**\n",
    "2. Age moyen à l'acquisition des hommes et des femmes (abandonné : deux bars a cote, mettre aussi le Q1 et Q3): **DONE**\n",
    "3. Ratio oeuvres d'artistes Français/reste dans les acquisitions par nationalité (une courbe pour les hommes, une pour les femmes) : **DONE**\n",
    "4. Sortir sous forme de matrice colorée le ratio H/F dans les 29 domaines en fonction du temps : **DONE**\n",
    "5. Sous forme de courbe, une par mode d'acquisition, le ratio de femme\n",
    "\n",
    "### Important pour le rapport :\n",
    "- sortir les figures en ratio 2:1\n",
    "- format .png, background transparent"
   ]
  },
  {
   "cell_type": "code",
   "execution_count": 1,
   "metadata": {},
   "outputs": [],
   "source": [
    "import os\n",
    "import pandas as pd\n",
    "import numpy as np\n",
    "import matplotlib\n",
    "import matplotlib.pyplot as plt\n",
    "import matplotlib.ticker as ticker\n",
    "from mpl_toolkits.axes_grid1 import make_axes_locatable\n",
    "from matplotlib.colors import LinearSegmentedColormap\n",
    "import re\n",
    "import unicodedata\n",
    "# %matplotlib inline"
   ]
  },
  {
   "cell_type": "code",
   "execution_count": 2,
   "metadata": {},
   "outputs": [],
   "source": [
    "pd.set_option('display.max_columns',200)\n",
    "pd.set_option('display.max_rows',200)\n",
    "global color_h, color_f, color_b, PLOTDIM, FREQYEARS\n",
    "color_h = \"gold\"\n",
    "color_f = \"royalblue\"\n",
    "color_b = \"lightgray\"\n",
    "PLOTDIM = (9,6)\n",
    "FREQYEARS = 10\n",
    "my_cm = LinearSegmentedColormap.from_list(\"colormap\", [color_h, color_f], N=100)"
   ]
  },
  {
   "cell_type": "code",
   "execution_count": 3,
   "metadata": {},
   "outputs": [],
   "source": [
    "matplotlib.font_manager._rebuild()\n",
    "plt.rcParams['font.family'] = 'Roboto'\n",
    "plt.rcParams['font.sans-serif'] = 'Roboto'\n",
    "plt.rcParams['font.weight'] = 500\n",
    "# matplotlib.font_manager.findSystemFonts(fontpaths=None, fontext='ttf')"
   ]
  },
  {
   "cell_type": "code",
   "execution_count": 4,
   "metadata": {},
   "outputs": [
    {
     "data": {
      "text/plain": [
       "121"
      ]
     },
     "execution_count": 4,
     "metadata": {},
     "output_type": "execute_result"
    }
   ],
   "source": [
    "# Les données sont stockées dans le dossier \"data\", c'est plus clean\n",
    "authors = pd.read_csv('../data/ALL_AUTHORS (live_work + clean nat).csv', encoding='utf-8', sep=',', low_memory=False)\n",
    "raw_art = pd.read_csv('../data/ALL_ARTWORKS (for stats use ONLY).csv', encoding='utf-8', sep=',', low_memory=False)\n",
    "raw_art['groupcol'] = raw_art['related'].fillna(value='') + raw_art['acquisition'].fillna(value='')\n",
    "len(raw_art[raw_art['groupcol'] == ''])"
   ]
  },
  {
   "cell_type": "code",
   "execution_count": 5,
   "metadata": {},
   "outputs": [
    {
     "name": "stdout",
     "output_type": "stream",
     "text": [
      "(374993, 116) (120902, 116)\n"
     ]
    }
   ],
   "source": [
    "# On fusionne les \"séries\"\n",
    "art = raw_art.groupby(['groupcol', 'authors', 'acquisition_year', 'acquisition_mode_clean']).first().reset_index()\n",
    "print(raw_art.shape, art.shape)"
   ]
  },
  {
   "cell_type": "code",
   "execution_count": 6,
   "metadata": {},
   "outputs": [],
   "source": [
    "def validname(value):\n",
    "    \"\"\"\n",
    "    Normalizes string, converts to lowercase, removes non-alpha characters,\n",
    "    and converts spaces to hyphens.\n",
    "    \"\"\"\n",
    "    value = re.sub('[^\\w\\s-]', '', value).strip().lower()\n",
    "    value = re.sub('[-\\s]+', '-', value)\n",
    "    return value"
   ]
  },
  {
   "cell_type": "markdown",
   "metadata": {},
   "source": [
    "### Etape préliminaire 1-a : transformer les modes d'acquisitions"
   ]
  },
  {
   "cell_type": "code",
   "execution_count": 7,
   "metadata": {},
   "outputs": [],
   "source": [
    "art.loc[art[\"acquisition_mode_clean\"].str.contains(\"Don \"), 'acquisition_mode_clean'] = \"Don\"\n",
    "art.loc[art[\"acquisition_mode_clean\"].str.contains(\"commande\"), 'acquisition_mode_clean'] = \"Commande\"\n",
    "art.loc[art[\"acquisition_mode_clean\"].str.contains(\"Commande\"), 'acquisition_mode_clean'] = \"Commande\"\n",
    "art.loc[art[\"acquisition_mode_clean\"].str.contains(\"Saisie\"), 'acquisition_mode_clean'] = \"Saisie\"\n",
    "art.loc[art[\"acquisition_mode_clean\"].str.contains(\"renseigné\"), 'acquisition_mode_clean'] = \"Non renseigné\"\n",
    "art.loc[art[\"acquisition_mode_clean\"].str.contains(\"mixte\"), 'acquisition_mode_clean'] = \"Mixte\"\n",
    "art.loc[art[\"acquisition_mode_clean\"].str.contains(\"sinistre\"), 'acquisition_mode_clean'] = \"Remplacement\""
   ]
  },
  {
   "cell_type": "markdown",
   "metadata": {},
   "source": [
    "### Etape préliminaire 1-b : transformer les domaines"
   ]
  },
  {
   "cell_type": "code",
   "execution_count": 8,
   "metadata": {},
   "outputs": [],
   "source": [
    "art.loc[art[\"domain\"] == \"Arts du spectacle\", 'domain'] = \"Spectacle, musique, littérature\"\n",
    "art.loc[art[\"domain\"] == \"Performance\", 'domain'] = \"Spectacle, musique, littérature\"\n",
    "art.loc[art[\"domain\"] == \"Musique\", 'domain'] = \"Spectacle, musique, littérature\"\n",
    "art.loc[art[\"domain\"] == \"Littérature\", 'domain'] = \"Spectacle, musique, littérature\"\n",
    "\n",
    "art.loc[art[\"domain\"] == \"Commande publique (A.D.D.)\", 'domain'] = \"Divers\"\n",
    "art.loc[art[\"domain\"] == \"Design couleur\", 'domain'] = \"Divers\"\n",
    "art.loc[art[\"domain\"] == \"Commande publique (A.P.)\", 'domain'] = \"Divers\"\n",
    "art.loc[art[\"domain\"] == \"Oeuvre olfactive\", 'domain'] = \"Divers\"\n",
    "art.loc[art[\"domain\"] == \"Domaine mixte, voir détail sur les éléments\", 'domain'] = \"Divers\"\n",
    "art.loc[art[\"domain\"] == \"Domaine non saisi\", 'domain'] = \"Divers\"\n",
    "art.loc[art[\"domain\"] == \"Sans domaine déterminé\", 'domain'] = \"Divers\"\n",
    "art.loc[art[\"domain\"] == \"Certificat\", 'domain'] = \"Divers\"\n",
    "art.loc[art[\"domain\"] == \"Architecture intérieure\", 'domain'] = \"Divers\"\n",
    "art.loc[art[\"domain\"] == \"Spectacle, musique, littérature\", 'domain'] = \"Divers\"\n",
    "\n",
    "art.loc[art[\"domain\"] == \"Objet\", 'domain'] = \"Objet/Design\"\n",
    "\n",
    "art.loc[art[\"domain\"] == \"Oeuvre en 3 dimensions\", 'domain'] = \"Œuvre en 3D\"\n",
    "art.loc[art[\"domain\"] == \"Oeuvre textile\", 'domain'] = \"Œuvre textile\"\n",
    "art.loc[art[\"domain\"] == \"Reproduction photomécanique\", 'domain'] = \"Repro. photomécanique\"\n",
    "art.loc[art[\"domain\"] == \"Publication, livre, reliure\", 'domain'] = \"Arts du livre\""
   ]
  },
  {
   "cell_type": "markdown",
   "metadata": {},
   "source": [
    "### Etape préliminaire 2 : créer les sous-dossiers s'ils n'y sont pas déjà"
   ]
  },
  {
   "cell_type": "code",
   "execution_count": 9,
   "metadata": {},
   "outputs": [],
   "source": [
    "# Create subfolders to store figures by museum:\n",
    "if not os.path.exists('./figures/_global'):\n",
    "    os.makedirs('./figures/_global')\n",
    "if not os.path.exists('./figures/_fracs'):\n",
    "    os.makedirs('./figures/_fracs')\n",
    "if not os.path.exists('./figures/_musees'):\n",
    "    os.makedirs('./figures/_musees')\n",
    "if not os.path.exists('./figures/_autres'):\n",
    "    os.makedirs('./figures/_autres')\n",
    "for museum in art['collection'].dropna().unique():\n",
    "    n = validname(museum)\n",
    "    if not os.path.exists('./figures/' + n):\n",
    "        os.makedirs('./figures/' + n)"
   ]
  },
  {
   "cell_type": "markdown",
   "metadata": {},
   "source": [
    "### Etape préliminaire 3 : \"donner un genre\" aux oeuvres"
   ]
  },
  {
   "cell_type": "code",
   "execution_count": 10,
   "metadata": {},
   "outputs": [
    {
     "data": {
      "text/plain": [
       "masculin         95888\n",
       "féminin          19282\n",
       "groupe            2728\n",
       "non renseigné     1439\n",
       "Name: Gender, dtype: int64"
      ]
     },
     "execution_count": 10,
     "metadata": {},
     "output_type": "execute_result"
    }
   ],
   "source": [
    "art['Gender'].value_counts()"
   ]
  },
  {
   "cell_type": "code",
   "execution_count": 11,
   "metadata": {},
   "outputs": [
    {
     "data": {
      "text/plain": [
       "0.9870556318340474"
      ]
     },
     "execution_count": 11,
     "metadata": {},
     "output_type": "execute_result"
    }
   ],
   "source": [
    "art['Gender'].count()/len(art) # 4,4% de NaN"
   ]
  },
  {
   "cell_type": "markdown",
   "metadata": {},
   "source": [
    "### Etape préliminaire 4 : créer les regroupements de collection"
   ]
  },
  {
   "cell_type": "code",
   "execution_count": 12,
   "metadata": {},
   "outputs": [
    {
     "data": {
      "text/plain": [
       "(18, 33, 5)"
      ]
     },
     "execution_count": 12,
     "metadata": {},
     "output_type": "execute_result"
    }
   ],
   "source": [
    "fracs, musées, autres = [], [], []\n",
    "for museum in art['collection'].dropna().unique():\n",
    "    if \"frac\" in museum.lower():\n",
    "        fracs.append(museum)\n",
    "    elif \"musée\" in museum.lower() and \"musée national d'art moderne\" not in museum.lower():\n",
    "        musées.append(museum)\n",
    "    elif (\"musée national d'art moderne\" not in museum.lower() and\n",
    "          \"centre national des arts plastiques\" not in museum.lower()):\n",
    "        autres.append(museum)\n",
    "len(fracs), len(musées), len(autres)"
   ]
  },
  {
   "cell_type": "markdown",
   "metadata": {},
   "source": [
    "## Partie 1 : Proportion du nombre de femmes dans les acquisitions"
   ]
  },
  {
   "cell_type": "code",
   "execution_count": 13,
   "metadata": {},
   "outputs": [],
   "source": [
    "# Function to plot the proportion of femmes in any subset of Arworks\n",
    "def get_ratioF(art, subset, subset_name, path):\n",
    "    art = art[(art['acquisition_year'] >= 1945) & (art['acquisition_year'] <= 2017)]\n",
    "    subset = subset[(subset['acquisition_year'] >= 1945) & (subset['acquisition_year'] <= 2017)]\n",
    "    fig, ax = plt.subplots()\n",
    "    total1 = subset.groupby('acquisition_year').count()['_id']\n",
    "    f1 = subset[subset['Gender']=='féminin'].groupby('acquisition_year').count()\n",
    "    if len(f1) == 0:\n",
    "        f1 = total1.copy()\n",
    "        f1[:] = 0\n",
    "    else:\n",
    "        f1 = f1['_id']\n",
    "    f1 = f1.reindex(range(1945, 2018), fill_value=0)\n",
    "    ratio = f1/total1\n",
    "    ratio = ratio.reindex(range(1945, 2018))\n",
    "    ratio.plot(figsize=PLOTDIM, color=color_f, marker='.', linewidth=2, ax=ax)\n",
    "    ax.set_xlim(left = 1945,right = 2017)\n",
    "    ax.set_ylim(bottom = -0.01,top = 1.01)\n",
    "    ax.tick_params(labelsize = 15)\n",
    "    ax.xaxis.set_major_locator(ticker.MultipleLocator(FREQYEARS))\n",
    "    ax.set_xlabel('')\n",
    "    ax.set_yticklabels(['{:,.0%}'.format(x) for x in ax.get_yticks()])\n",
    "    plt.grid()\n",
    "    plt.savefig(path, bbox_inches='tight',format=\"png\", dpi=300, transparent=True)\n",
    "    plt.close()"
   ]
  },
  {
   "cell_type": "code",
   "execution_count": 14,
   "metadata": {
    "scrolled": true
   },
   "outputs": [],
   "source": [
    "get_ratioF(art, art, \"ensemble des collections\",\n",
    "           \"./figures/_global/ratio_overall.png\")\n",
    "get_ratioF(art, art[art['collection'].isin(fracs)], \"ensemble des 18 FRAC\",\n",
    "           \"./figures/_fracs/ratio_overall.png\")\n",
    "get_ratioF(art, art[art['collection'].isin(musées)], \"ensemble des musées\",\n",
    "           \"./figures/_musees/ratio_overall.png\")\n",
    "get_ratioF(art, art[art['collection'].isin(autres)], \"autres musées\",\n",
    "           \"./figures/_autres/ratio_overall.png\")"
   ]
  },
  {
   "cell_type": "code",
   "execution_count": 15,
   "metadata": {},
   "outputs": [
    {
     "name": "stdout",
     "output_type": "stream",
     "text": [
      "Done\n"
     ]
    }
   ],
   "source": [
    "for museum in art['collection'].dropna().unique():\n",
    "    # print(\"Musée en cours:\", museum)\n",
    "    subset = art[art['collection'] == museum]\n",
    "    get_ratioF(art, subset, museum, \"./figures/\" + validname(museum) + \"/ratio_overall.png\")\n",
    "    del subset\n",
    "print('Done')"
   ]
  },
  {
   "cell_type": "markdown",
   "metadata": {},
   "source": [
    "### Aparté"
   ]
  },
  {
   "cell_type": "code",
   "execution_count": 16,
   "metadata": {
    "scrolled": true
   },
   "outputs": [],
   "source": [
    "# A study on \"is it a good idea to group by separable artworks\" => NO\n",
    "uniquegroups = art[art['type'] == 'separable'].groupby('related').first()\n",
    "# uniquegroups = art[art['type'] == 'separable'].groupby('related').agg(lambda x:x.value_counts().index[0])\n",
    "# matisse = art[art['related'] == '70000000007610|70000000007613|70000000007616|70000000007619|70000000007622|70000000007625|70000000007628|70000000007631|70000000007634|70000000007637|70000000007640|70000000007643|70000000007646|70000000007649|70000000007652|70000000007655|70000000007658|70000000007661|70000000007664|70000000007667|70000000007670|70000000007673|70000000007676|70000000007679|70000000007682|70000000007685|70000000007688|70000000007691|70000000007694|70000000007697|70000000007700|70000000007703|70000000007706|70000000007709|70000000007712|70000000007715|70000000007718|70000000007721|70000000007724|70000000007727|70000000007730|70000000007733|70000000007736|70000000007739|70000000007742|70000000007745|70000000007748|70000000007751|70000000007754|70000000007757|70000000007760|70000000007763|70000000007766|70000000007769|70000000007772|70000000007775|70000000007778|70000000007781|70000000007784|70000000007787|70000000007790|70000000007793|70000000007796|70000000007799|70000000007802|70000000007805|70000000007808|70000000007811|70000000007814|70000000007817|70000000007820|70000000007823|70000000007826|70000000007829|70000000007832|70000000007835|70000000007838|70000000007841|70000000007844|70000000007847|70000000007850|70000000007853|70000000007856|70000000007859|70000000007862|70000000007865|70000000007868|70000000007871|70000000007874|70000000007877|70000000007880|70000000007883|70000000007886|70000000007889|70000000007892|70000000007895|70000000007898|70000000007901|70000000007904|70000000007907|70000000007910|70000000007913|70000000007916|70000000007919|70000000007922|70000000007925|70000000007928|70000000007931|70000000007934|70000000007937|70000000007940|70000000007943|70000000007946|70000000007949|70000000007952|70000000007955|70000000007958|70000000007961|70000000007964|70000000007967|70000000007970|70000000007973|70000000007976|70000000007979|70000000007982|70000000007985|70000000007988|70000000007991|70000000007994|70000000007997|70000000008000|70000000008003|70000000008006|70000000008009|70000000008012|70000000008015|70000000008018|70000000008021|70000000008024|70000000008027|70000000008030|70000000008033|70000000008036|70000000008039|70000000008042|70000000008045|70000000008048|70000000008051|70000000008054|70000000008057|70000000008060|70000000008063|70000000008071|70000000008074|70000000008077|70000000008080|70000000008083|70000000008086|70000000008089|70000000008092|70000000008095|70000000008098|70000000008101|70000000008104|70000000008107|70000000008110|70000000008113|70000000008116|70000000008119|70000000008122|70000000008125|70000000008128|70000000008131|70000000008134|70000000008137|70000000008140|70000000008143|70000000008146|70000000008149|70000000008152|70000000008155|70000000008158|70000000008161|70000000008164|70000000008167|70000000008170|70000000008173|70000000008176|70000000008179|70000000008182|70000000008185|70000000008188|70000000008191|70000000008194|70000000008197|70000000008200|70000000008203|70000000008206|70000000008209|70000000008212|70000000008215|70000000008218|70000000008221|70000000008224|70000000008227|70000000008230|70000000008233|70000000008236|70000000008239|70000000008242|70000000008245|70000000008248|70000000008251|70000000008254|70000000008257|70000000008260|70000000008263|70000000008266|70000000008269|70000000008272|70000000008275|70000000008278|70000000008281|70000000008284|70000000008287|70000000008290|70000000008293|70000000008296|70000000008299|70000000008302|70000000008305|70000000008308|70000000008311|70000000008314|70000000008317|70000000008320|70000000008323|70000000008326|70000000008329|70000000008332|70000000008335|70000000008338|70000000008341|70000000008344|70000000008347|70000000008350|70000000008353|70000000008356|70000000008359|70000000008362|70000000008365|70000000008368|70000000008371|70000000008374|70000000008377|70000000008380|70000000008383|70000000008386|70000000008389|70000000008392|70000000008395|70000000008398|70000000008401|70000000008404|70000000008407|70000000008410|70000000008413|70000000008416|70000000008419|70000000008422|70000000008425|70000000008428|70000000008431|70000000008434|70000000008437|70000000008440|70000000008443|70000000008446|70000000008449|70000000008452|70000000008455|70000000008458|70000000008461|70000000008464|70000000008467|70000000008470|70000000008473|70000000008476|70000000008479|70000000008482|70000000008485|70000000008488|70000000008491|70000000008494|70000000008497|70000000008500|70000000008503|70000000008506|70000000008509|70000000008512|70000000008515|70000000008518|70000000008521|70000000008524|70000000008533|70000000008536|70000000008539|70000000008542|70000000008545|70000000008548|70000000008551|70000000008554|70000000008557|70000000008560|70000000008563|70000000008566|70000000008569|70000000008572|70000000008575|70000000008578|70000000008581|70000000008584|70000000008587|70000000008590|70000000008593|70000000008596|70000000008599|70000000008602|70000000008605|70000000008608|70000000008611|70000000008614|70000000008617|70000000008620|70000000008623|70000000008626|70000000008629|70000000008632|70000000008635|70000000008638|70000000008641|70000000008644|70000000008647|70000000008650|70000000008653|70000000008656|70000000008659|70000000008662|70000000008665|70000000008668|70000000008671|70000000008674|70000000008677|70000000008680|70000000008683|70000000008686|70000000008689|70000000008692|70000000008695|70000000008698|70000000008701|70000000008704|70000000008707|70000000008710|70000000008713|70000000008716|70000000008719|70000000008722|70000000008725|70000000008728|70000000008731|70000000008734|70000000008737|70000000008740|70000000008743|70000000008746|70000000008749|70000000008752|70000000008755|70000000008758|70000000008761|70000000008764|70000000008767|70000000008770|70000000008773|70000000008776|70000000008779|70000000008782|70000000008785|70000000008788|70000000008791|70000000008794|70000000008797|70000000008800|70000000024504|70000000024507|70000000024510|70000000024513|70000000024516|70000000024519|70000000024522|70000000024525|70000000024528|70000000024531|70000000024534|70000000024537|70000000024540|70000000024543|70000000024546|70000000024549|70000000024552|70000000024555|70000000024558|70000000024561|70000000024564|70000000024567|70000000024570|70000000024573|70000000024576|70000000024579|70000000024582|70000000024585|70000000024588|70000000024591|70000000024594|70000000024597|70000000024600|70000000024603|70000000024606|70000000024609']\n",
    "counterex = art[art['related'] == '10000000001440|10000000001441|10000000001442|10000000001443|10000000001444|10000000001445|10000000001439|10000000001446|10000000001447|10000000001448|10000000001449|10000000001450|10000000001451|10000000001452|10000000001453|10000000001454|10000000001481']\n",
    "#counterex"
   ]
  },
  {
   "cell_type": "markdown",
   "metadata": {},
   "source": [
    "<h2>Partie 2 : Age moyen à l'acquisition, par genre"
   ]
  },
  {
   "cell_type": "code",
   "execution_count": 17,
   "metadata": {},
   "outputs": [],
   "source": [
    "# art['age_at_acquisition'].sample(10)"
   ]
  },
  {
   "cell_type": "code",
   "execution_count": 18,
   "metadata": {},
   "outputs": [],
   "source": [
    "# Function to plot the age at acquisition (separated between hommes and femmes)\n",
    "def get_age_acquisition(art, subset, subset_name, path):\n",
    "    art = art[(art['acquisition_year'] >= 1945) & (art['acquisition_year'] <= 2017)]\n",
    "    subset = subset[(subset['acquisition_year'] >= 1945) & (subset['acquisition_year'] <= 2017)]\n",
    "    fig, ax = plt.subplots()\n",
    "    total = subset.groupby('acquisition_year').mean()['age_at_acquisition']\n",
    "    # Femmes\n",
    "    f = subset[subset['Gender']=='féminin'].groupby('acquisition_year').mean()\n",
    "    if len(f) > 0:\n",
    "        f = f['age_at_acquisition']\n",
    "        f = f.reindex(range(1945, 2018))\n",
    "        f.plot(figsize=PLOTDIM, color=color_f, marker='.', linewidth=2, ax=ax)\n",
    "    # Hommes\n",
    "    h = subset[subset['Gender']=='masculin'].groupby('acquisition_year').mean()\n",
    "    if len(h) > 0:\n",
    "        h = h['age_at_acquisition']\n",
    "        h = h.reindex(range(1945, 2018))\n",
    "        h.plot(figsize=PLOTDIM, color=color_h, marker='.', linewidth=2, ax=ax)\n",
    "    ax.set_xlim(left = 1945,right = 2017)\n",
    "    ax.set_ylim(bottom = -1,top = 141)\n",
    "    ax.tick_params(labelsize = 15)\n",
    "    ax.xaxis.set_major_locator(ticker.MultipleLocator(FREQYEARS))\n",
    "    ax.set_xlabel('')\n",
    "    plt.grid()\n",
    "    plt.savefig(path, bbox_inches='tight',format=\"png\", dpi=300, transparent=True)\n",
    "    plt.close()"
   ]
  },
  {
   "cell_type": "code",
   "execution_count": 19,
   "metadata": {},
   "outputs": [],
   "source": [
    "get_age_acquisition(art, art, \"ensemble des collections\",\n",
    "                    \"./figures/_global/age_acquisition.png\")\n",
    "get_age_acquisition(art, art[art['collection'].isin(fracs)], \"ensemble des 18 FRAC\",\n",
    "                    \"./figures/_fracs/age_acquisition.png\")\n",
    "get_age_acquisition(art, art[art['collection'].isin(musées)], \"ensemble des musées\",\n",
    "                    \"./figures/_musees/age_acquisition.png\")\n",
    "get_age_acquisition(art, art[art['collection'].isin(autres)], \"autres musées\",\n",
    "                    \"./figures/_autres/age_acquisition.png\")"
   ]
  },
  {
   "cell_type": "code",
   "execution_count": 20,
   "metadata": {
    "scrolled": false
   },
   "outputs": [
    {
     "name": "stdout",
     "output_type": "stream",
     "text": [
      "Done\n"
     ]
    }
   ],
   "source": [
    "for museum in art['collection'].dropna().unique():\n",
    "    # print(\"Musée en cours:\", museum)\n",
    "    subset = art[art['collection'] == museum]\n",
    "    get_age_acquisition(art, subset, museum, \"./figures/\" + validname(museum) + \"/age_acquisition.png\")\n",
    "    del subset\n",
    "print('Done')"
   ]
  },
  {
   "cell_type": "markdown",
   "metadata": {},
   "source": [
    "## Partie 3 : ratio d'artiste Français dans les acquisitions, par genre"
   ]
  },
  {
   "cell_type": "code",
   "execution_count": 21,
   "metadata": {
    "scrolled": true
   },
   "outputs": [],
   "source": [
    "# art['nationality'].value_counts()"
   ]
  },
  {
   "cell_type": "code",
   "execution_count": 22,
   "metadata": {},
   "outputs": [],
   "source": [
    "def get_ratioNat(art, subset, subset_name, path):\n",
    "    art = art[(art['acquisition_year'] >= 1945) & (art['acquisition_year'] <= 2017)]\n",
    "    subset = subset[(subset['acquisition_year'] >= 1945) & (subset['acquisition_year'] <= 2017)]\n",
    "    fig, ax = plt.subplots()\n",
    "    total_f = subset[(subset['Gender'] == 'féminin')].groupby('acquisition_year').count()['_id']\n",
    "    total_h = subset[(subset['Gender'] == 'masculin')].groupby('acquisition_year').count()['_id']\n",
    "    # We plot the proportion of French in the subset of men\n",
    "    h = subset[(subset['Gender'] == 'masculin') & (subset['nationality'].str.contains('français'))].groupby('acquisition_year').count()\n",
    "    if len(h) > 0:\n",
    "        h = h['_id']\n",
    "        h = h.reindex(range(1945, 2018), fill_value=0)\n",
    "        ratio2 = h/total_h\n",
    "    else:\n",
    "        ratio2 = total_h.copy()\n",
    "        ratio2[:] = 0\n",
    "    ratio2 = ratio2.reindex(range(1945, 2018))\n",
    "    ratio2.plot(figsize=PLOTDIM, color=color_h, marker='.', linewidth=2, ax=ax)\n",
    "    # Same thing for women\n",
    "    f = subset[(subset['Gender'] == 'féminin') & (subset['nationality'].str.contains('français'))].groupby('acquisition_year').count()\n",
    "    if len(f) > 0:\n",
    "        f = f['_id']\n",
    "        f = f.reindex(range(1945, 2018), fill_value=0)\n",
    "        ratio = f/total_f\n",
    "    else:\n",
    "        ratio = total_f.copy()\n",
    "        ratio[:] = 0\n",
    "    ratio = ratio.reindex(range(1945, 2018))\n",
    "    ratio.plot(figsize=PLOTDIM, color=color_f, marker='.', linewidth=2, ax=ax)\n",
    "    \n",
    "    ax.set_xlim(left = 1945,right = 2017)\n",
    "    ax.set_ylim(bottom = -0.01,top = 1.01)\n",
    "    ax.tick_params(labelsize = 15)\n",
    "    ax.xaxis.set_major_locator(ticker.MultipleLocator(FREQYEARS))\n",
    "    ax.set_xlabel('')\n",
    "    ax.set_yticklabels(['{:,.0%}'.format(x) for x in ax.get_yticks()])\n",
    "    plt.grid()\n",
    "    plt.savefig(path, bbox_inches='tight',format=\"png\", dpi=300, transparent=True)\n",
    "    plt.close()"
   ]
  },
  {
   "cell_type": "code",
   "execution_count": 23,
   "metadata": {},
   "outputs": [],
   "source": [
    "get_ratioNat(art, art, \"ensemble des collections\",\n",
    "             \"./figures/_global/ratio_nationality.png\")\n",
    "get_ratioNat(art, art[art['collection'].isin(fracs)], \"ensemble des 18 FRAC\",\n",
    "             \"./figures/_fracs/ratio_nationality.png\")\n",
    "get_ratioNat(art, art[art['collection'].isin(musées)], \"musées\",\n",
    "             \"./figures/_musees/ratio_nationality.png\")\n",
    "get_ratioNat(art, art[art['collection'].isin(autres)], \"autres musées\",\n",
    "             \"./figures/_autres/ratio_nationality.png\")"
   ]
  },
  {
   "cell_type": "code",
   "execution_count": 24,
   "metadata": {},
   "outputs": [
    {
     "name": "stdout",
     "output_type": "stream",
     "text": [
      "Done\n"
     ]
    }
   ],
   "source": [
    "for museum in art['collection'].dropna().unique():\n",
    "    # print(\"Musée en cours:\", museum)\n",
    "    subset = art[art['collection'] == museum]\n",
    "    get_ratioNat(art, subset, museum, \"./figures/\" + validname(museum) + \"/ratio_nationality.png\")\n",
    "    del subset\n",
    "print('Done')"
   ]
  },
  {
   "cell_type": "markdown",
   "metadata": {},
   "source": [
    "## Partie 4 : ratio H/F dans les domaines"
   ]
  },
  {
   "cell_type": "code",
   "execution_count": 25,
   "metadata": {},
   "outputs": [],
   "source": [
    "def get_ratio_domains(art, subset, subset_name, path):\n",
    "    art = art[(art['acquisition_year'] >= 1945) & (art['acquisition_year'] <= 2017)]\n",
    "    subset = subset[(subset['acquisition_year'] >= 1945) & (subset['acquisition_year'] <= 2017)]\n",
    "    overall = subset.groupby('acquisition_year').count()['_id']\n",
    "    overall_f = subset[subset['Gender']=='féminin'].groupby('acquisition_year').count()['_id']\n",
    "    overall_f = overall_f.reindex(range(1945, 2018), fill_value=0)\n",
    "    overall = pd.Series(overall_f/overall, name=\"Tous domaines\")\n",
    "    total = subset.groupby(['domain', 'acquisition_year']).count()['_id']\n",
    "    # We need the fraction of Femmes in each year/domain\n",
    "    f = subset[(subset['Gender'] == 'féminin')].groupby(['domain', 'acquisition_year']).count()['_id']\n",
    "    ratio = f/total\n",
    "    if len(ratio) > 0:\n",
    "        ratio = ratio.reset_index(name='Value')\n",
    "        names = sorted(list(ratio['domain'].unique()))\n",
    "        all_names = sorted(list(art['domain'].dropna().unique()))\n",
    "        ratio = ratio.pivot_table(index='domain', columns='acquisition_year', values='Value', aggfunc='sum')\n",
    "        ratio.index = names\n",
    "        ratio = ratio.reindex(columns=range(1945, 2018)).reindex(index=all_names)\n",
    "        ratio = ratio.append(overall)\n",
    "        mratio = np.matrix(ratio)\n",
    "        \n",
    "        # Then we customize the plot\n",
    "        fig, ax = plt.subplots(figsize=PLOTDIM)\n",
    "        im = ax.matshow(mratio, cmap=my_cm, vmin=0, vmax=1)\n",
    "        #fig.set_size_inches(PLOTDIM)\n",
    "        divider = make_axes_locatable(ax)\n",
    "        truc = divider.append_axes(\"right\", size=\"2%\", pad=-4.4)\n",
    "        cbar = plt.colorbar(im, cax=truc)\n",
    "        cbar.ax.set_yticklabels(['0%', '20%', '40%', '60%', '80%','100%'], fontsize=10)\n",
    "        \n",
    "        ax.set_xticklabels(['1950', '', '1970', '', '1990', '', '2010'], fontsize=10)\n",
    "        ax.xaxis.set_ticks_position('bottom')\n",
    "        ax.set_xticks(np.arange(5, 71, 10))\n",
    "        domains = list(ratio.index)\n",
    "        domains = [d if not \"Domaine mixte\" in d else \"Domaine mixte\" for d in domains]\n",
    "        ax.set_yticks(np.arange(0, len(domains), 1))\n",
    "        ax.set_yticklabels(domains, fontsize=10)\n",
    "        ax.set_aspect(5)\n",
    "    plt.savefig(path, bbox_inches='tight',format=\"png\", dpi=300, transparent=True)\n",
    "    plt.close()"
   ]
  },
  {
   "cell_type": "code",
   "execution_count": 26,
   "metadata": {
    "scrolled": false
   },
   "outputs": [],
   "source": [
    "get_ratio_domains(art, art, \"ensemble des collections\",\n",
    "                  \"./figures/_global/ratio_domains.png\")\n",
    "get_ratio_domains(art, art[art['collection'].isin(fracs)], \"ensemble des 18 FRAC\",\n",
    "                  \"./figures/_fracs/ratio_domains.png\")\n",
    "get_ratio_domains(art, art[art['collection'].isin(musées)], \"ensemble des musées\",\n",
    "                  \"./figures/_musees/ratio_domains.png\")\n",
    "get_ratio_domains(art, art[art['collection'].isin(autres)], \"autres musées\",\n",
    "                  \"./figures/_autres/ratio_domains.png\")"
   ]
  },
  {
   "cell_type": "code",
   "execution_count": 27,
   "metadata": {},
   "outputs": [
    {
     "name": "stdout",
     "output_type": "stream",
     "text": [
      "Done\n"
     ]
    }
   ],
   "source": [
    "for museum in art['collection'].dropna().unique():\n",
    "    # print(\"Musée en cours:\", museum)\n",
    "    subset = art[art['collection'] == museum]\n",
    "    get_ratio_domains(art, subset, museum, \"./figures/\" + validname(museum) + \"/ratio_domains.png\")\n",
    "    del subset\n",
    "print('Done')"
   ]
  },
  {
   "cell_type": "markdown",
   "metadata": {},
   "source": [
    "### Du bordel pour Vincent"
   ]
  },
  {
   "cell_type": "code",
   "execution_count": 28,
   "metadata": {},
   "outputs": [],
   "source": [
    "m = []\n",
    "n = []\n",
    "for x in art['collection'].dropna().unique():\n",
    "    m.append(x)\n",
    "    n.append(validname(x))\n",
    "pd.DataFrame({\"musée\": m, \"dossier\": n}).to_csv(\"./figures/musées.csv\", encoding='utf-8', index=False)"
   ]
  },
  {
   "cell_type": "code",
   "execution_count": 29,
   "metadata": {
    "scrolled": true
   },
   "outputs": [
    {
     "name": "stdout",
     "output_type": "stream",
     "text": [
      "35958 27272 22027\n"
     ]
    }
   ],
   "source": [
    "k = 0\n",
    "l = 0\n",
    "for _, j in authors.iterrows():\n",
    "    if not pd.isnull(j['acquisition_year']):\n",
    "        c = re.split(r'\\|', j['acquisition_year'])\n",
    "        if max([int(i) for i in c]) >= 1945:\n",
    "            k += 1\n",
    "        if max([int(i) for i in c]) >= 1900:\n",
    "            l += 1\n",
    "print(len(authors), l, k)"
   ]
  },
  {
   "cell_type": "markdown",
   "metadata": {},
   "source": [
    "## Partie 5 : Ratio par mode d'acquisition"
   ]
  },
  {
   "cell_type": "code",
   "execution_count": 30,
   "metadata": {},
   "outputs": [
    {
     "data": {
      "text/plain": [
       "15"
      ]
     },
     "execution_count": 30,
     "metadata": {},
     "output_type": "execute_result"
    }
   ],
   "source": [
    "len(art['acquisition_mode_clean'].dropna().unique())"
   ]
  },
  {
   "cell_type": "code",
   "execution_count": 31,
   "metadata": {},
   "outputs": [],
   "source": [
    "def get_ratio_acquisition(art, subset, subset_name, path):\n",
    "    art = art[(art['acquisition_year'] >= 1945) & (art['acquisition_year'] <= 2017)]\n",
    "    subset = subset[(subset['acquisition_year'] >= 1945) & (subset['acquisition_year'] <= 2017)]\n",
    "    overall = subset.groupby('acquisition_year').count()['_id']\n",
    "    overall_f = subset[subset['Gender']=='féminin'].groupby('acquisition_year').count()['_id']\n",
    "    overall_f = overall_f.reindex(range(1945, 2018), fill_value=0)\n",
    "    overall = pd.Series(overall_f/overall, name=\"Tous modes\")\n",
    "    total = subset.groupby(['acquisition_mode_clean', 'acquisition_year']).count()['_id']\n",
    "    # We need the fraction of Femmes in each year/mode d'acquisition\n",
    "    f = subset[(subset['Gender'] == 'féminin')].groupby(['acquisition_mode_clean', 'acquisition_year']).count()['_id']\n",
    "    ratio = f/total\n",
    "    if len(ratio) > 0:\n",
    "        ratio = ratio.reset_index(name='Value')\n",
    "        names = sorted(list(ratio['acquisition_mode_clean'].unique()))\n",
    "        all_names = sorted(list(art['acquisition_mode_clean'].dropna().unique()))\n",
    "        ratio = ratio.pivot_table(index='acquisition_mode_clean', columns='acquisition_year',\n",
    "                                  values='Value', aggfunc='sum')\n",
    "        ratio.index = names\n",
    "        ratio = ratio.reindex(columns=range(1945, 2018)).reindex(index=all_names)\n",
    "        ratio = ratio.append(overall)\n",
    "        mratio = np.matrix(ratio)\n",
    "        \n",
    "        # Then we customize the plot\n",
    "        fig, ax = plt.subplots(figsize=PLOTDIM)\n",
    "        im = ax.matshow(mratio, cmap=my_cm, vmin=0, vmax=1)\n",
    "        #fig.set_size_inches(PLOTDIM)\n",
    "        divider = make_axes_locatable(ax)\n",
    "        truc = divider.append_axes(\"right\", size=\"2%\", pad=-4.4)\n",
    "        cbar = plt.colorbar(im, cax=truc)\n",
    "        cbar.ax.set_yticklabels(['0%', '20%', '40%', '60%', '80%','100%'], fontsize=10)\n",
    "        \n",
    "        ax.set_xticklabels(['1950', '', '1970', '', '1990', '', '2010'], fontsize=10)\n",
    "        ax.xaxis.set_ticks_position('bottom')\n",
    "        ax.set_xticks(np.arange(5, 71, 10))\n",
    "        domains = list(ratio.index)\n",
    "        domains = [d if not \"mixte\" in d else \"Mode d'acquisition mixte\" for d in domains]\n",
    "        domains = [d if not \"non renseigné par commande\" in d else \"Non renseigné, par commande\" for d in domains]\n",
    "        # domains = [d if not \"non renseigné\" in d else \"Non renseigné\" for d in domains]\n",
    "        domains = [d if not \"Douanes\" in d else \"Saisie des Douanes\" for d in domains]\n",
    "        ax.set_yticks(np.arange(0, len(domains), 1))\n",
    "        ax.set_yticklabels(domains, fontsize=10)\n",
    "        ax.set_aspect(5)\n",
    "    # plt.plot()\n",
    "    plt.savefig(path, bbox_inches='tight',format=\"png\", dpi=300, transparent=True)\n",
    "    plt.close()"
   ]
  },
  {
   "cell_type": "code",
   "execution_count": 32,
   "metadata": {},
   "outputs": [],
   "source": [
    "get_ratio_acquisition(art, art, \"ensemble des collections\",\n",
    "                      \"./figures/_global/ratio_acquisitions.png\")\n",
    "get_ratio_acquisition(art, art[art['collection'].isin(fracs)], \"ensemble des 18 FRAC\",\n",
    "                      \"./figures/_fracs/ratio_acquisitions.png\")\n",
    "get_ratio_acquisition(art, art[art['collection'].isin(musées)], \"ensemble des musées\",\n",
    "                      \"./figures/_musees/ratio_acquisitions.png\")\n",
    "get_ratio_acquisition(art, art[art['collection'].isin(autres)], \"autres musées\",\n",
    "                      \"./figures/_autres/ratio_acquisitions.png\")"
   ]
  },
  {
   "cell_type": "code",
   "execution_count": 33,
   "metadata": {},
   "outputs": [
    {
     "name": "stdout",
     "output_type": "stream",
     "text": [
      "Done\n"
     ]
    }
   ],
   "source": [
    "for museum in art['collection'].dropna().unique():\n",
    "    # print(\"Musée en cours:\", museum)\n",
    "    subset = art[art['collection'] == museum]\n",
    "    get_ratio_acquisition(art, subset, museum, \"./figures/\" + validname(museum) + \"/ratio_acquisitions.png\")\n",
    "    del subset\n",
    "print('Done')"
   ]
  },
  {
   "cell_type": "code",
   "execution_count": 34,
   "metadata": {},
   "outputs": [],
   "source": [
    "subset = art[art['collection'] == \"Musée national d'art moderne / Centre de création industrielle\"]\n",
    "overall = subset.groupby('acquisition_year').count()['_id']\n",
    "overall_f = subset[subset['Gender']=='féminin'].groupby('acquisition_year').count()['_id'].reindex(range(1945, 2018), fill_value=0)\n",
    "overall = pd.Series(overall_f/overall, name=\"Tous modes\")"
   ]
  },
  {
   "cell_type": "code",
   "execution_count": 35,
   "metadata": {
    "scrolled": true
   },
   "outputs": [],
   "source": [
    "art1 = art[(art['acquisition_year'] >= 1945) & (art['acquisition_year'] <= 2017)]\n",
    "# art1[art1[\"ensemble_id\"] == 12].sample(10)"
   ]
  },
  {
   "cell_type": "markdown",
   "metadata": {},
   "source": [
    "## Partie 6 : nombre de \"points de contacts\" par artiste"
   ]
  },
  {
   "cell_type": "code",
   "execution_count": 36,
   "metadata": {},
   "outputs": [],
   "source": [
    "def get_contact_points(art, subset, subset_name, path):\n",
    "    art = art[(art['acquisition_year'] >= 1945) & (art['acquisition_year'] <= 2017)]\n",
    "    subset = subset[(subset['acquisition_year'] >= 1945) & (subset['acquisition_year'] <= 2017)]\n",
    "    art_contacts = art.groupby(['authors', 'acquisition_year']).first().reset_index()\n",
    "    sub_contacts = subset.groupby(['authors', 'acquisition_year']).first().reset_index()\n",
    "    fig, ax = plt.subplots()\n",
    "    total = sub_contacts.groupby('acquisition_year').count()['_id']\n",
    "    f1 = sub_contacts[sub_contacts['Gender']=='féminin'].groupby('acquisition_year').count()\n",
    "    f1 = f1['_id']\n",
    "    f1 = f1.reindex(range(1945, 2018), fill_value=0)\n",
    "    total = total.reindex(range(1945, 2018))\n",
    "    ratio = f1/total\n",
    "    ratio = ratio.reindex(range(1945, 2018))\n",
    "    ratio.plot(figsize=PLOTDIM, color=color_f, marker='.', linewidth=2, ax=ax)\n",
    "    ax.set_xlim(left = 1945,right = 2017)\n",
    "    ax.set_ylim(bottom = -0.01,top = 1.01)\n",
    "    ax.tick_params(labelsize = 15)\n",
    "    ax.xaxis.set_major_locator(ticker.MultipleLocator(FREQYEARS))\n",
    "    ax.set_xlabel('')\n",
    "    ax.set_yticklabels(['{:,.0%}'.format(x) for x in ax.get_yticks()])\n",
    "    plt.grid()\n",
    "    plt.savefig(path, bbox_inches='tight',format=\"png\", dpi=300, transparent=True)\n",
    "    plt.close()"
   ]
  },
  {
   "cell_type": "code",
   "execution_count": 37,
   "metadata": {},
   "outputs": [],
   "source": [
    "get_contact_points(art, art, \"ensemble des collections\",\n",
    "                      \"./figures/_global/ratio_contacts.png\")\n",
    "get_contact_points(art, art[art['collection'].isin(fracs)], \"ensemble des 18 FRAC\",\n",
    "                      \"./figures/_fracs/ratio_contacts.png\")\n",
    "get_contact_points(art, art[art['collection'].isin(musées)], \"ensemble des musées\",\n",
    "                      \"./figures/_musees/ratio_contacts.png\")\n",
    "get_contact_points(art, art[art['collection'].isin(autres)], \"autres musées\",\n",
    "                      \"./figures/_autres/ratio_contacts.png\")"
   ]
  },
  {
   "cell_type": "code",
   "execution_count": 38,
   "metadata": {},
   "outputs": [
    {
     "name": "stdout",
     "output_type": "stream",
     "text": [
      "Done\n"
     ]
    }
   ],
   "source": [
    "for museum in art['collection'].dropna().unique():\n",
    "    # print(\"Musée en cours:\", museum)\n",
    "    subset = art[art['collection'] == museum]\n",
    "    get_contact_points(art, subset, museum, \"./figures/\" + validname(museum) + \"/ratio_contacts.png\")\n",
    "    del subset\n",
    "print('Done')"
   ]
  },
  {
   "cell_type": "markdown",
   "metadata": {},
   "source": [
    "## Partie 7 : age de l'artiste à la première aquisition "
   ]
  },
  {
   "cell_type": "code",
   "execution_count": 39,
   "metadata": {},
   "outputs": [],
   "source": [
    "# Function to plot the age at acquisition (separated between hommes and femmes)\n",
    "def get_age_firt_acqu(art, subset, subset_name, path):\n",
    "    art = art[(art['acquisition_year'] >= 1945) & (art['acquisition_year'] <= 2017)]\n",
    "    subset = subset[(subset['acquisition_year'] >= 1945) & (subset['acquisition_year'] <= 2017)]\n",
    "    subset = subset[subset['is_first'] == 1]\n",
    "    fig, ax = plt.subplots()\n",
    "    total = subset.groupby('acquisition_year').mean()['age_at_acquisition']\n",
    "    # Femmes\n",
    "    f = subset[subset['Gender']=='féminin'].groupby('acquisition_year').mean()\n",
    "    if len(f) > 0:\n",
    "        f = f['age_at_acquisition']\n",
    "        f = f.reindex(range(1945, 2018))\n",
    "        f.plot(figsize=PLOTDIM, color=color_f, marker='.', linewidth=2, ax=ax)\n",
    "    # Hommes\n",
    "    h = subset[subset['Gender']=='masculin'].groupby('acquisition_year').mean()\n",
    "    if len(h) > 0:\n",
    "        h = h['age_at_acquisition']\n",
    "        h = h.reindex(range(1945, 2018))\n",
    "        h.plot(figsize=PLOTDIM, color=color_h, marker='.', linewidth=2, ax=ax)\n",
    "    ax.set_xlim(left = 1945,right = 2017)\n",
    "    ax.set_ylim(bottom = -1,top = 141)\n",
    "    ax.tick_params(labelsize = 15)\n",
    "    ax.xaxis.set_major_locator(ticker.MultipleLocator(FREQYEARS))\n",
    "    ax.set_xlabel('')\n",
    "    plt.grid()\n",
    "    plt.savefig(path, bbox_inches='tight',format=\"png\", dpi=300, transparent=True)\n",
    "    plt.close()"
   ]
  },
  {
   "cell_type": "code",
   "execution_count": 40,
   "metadata": {},
   "outputs": [
    {
     "ename": "KeyError",
     "evalue": "'is_first'",
     "output_type": "error",
     "traceback": [
      "\u001b[1;31m---------------------------------------------------------------------------\u001b[0m",
      "\u001b[1;31mKeyError\u001b[0m                                  Traceback (most recent call last)",
      "\u001b[1;32mc:\\program files\\python36\\lib\\site-packages\\pandas\\core\\indexes\\base.py\u001b[0m in \u001b[0;36mget_loc\u001b[1;34m(self, key, method, tolerance)\u001b[0m\n\u001b[0;32m   3077\u001b[0m             \u001b[1;32mtry\u001b[0m\u001b[1;33m:\u001b[0m\u001b[1;33m\u001b[0m\u001b[0m\n\u001b[1;32m-> 3078\u001b[1;33m                 \u001b[1;32mreturn\u001b[0m \u001b[0mself\u001b[0m\u001b[1;33m.\u001b[0m\u001b[0m_engine\u001b[0m\u001b[1;33m.\u001b[0m\u001b[0mget_loc\u001b[0m\u001b[1;33m(\u001b[0m\u001b[0mkey\u001b[0m\u001b[1;33m)\u001b[0m\u001b[1;33m\u001b[0m\u001b[0m\n\u001b[0m\u001b[0;32m   3079\u001b[0m             \u001b[1;32mexcept\u001b[0m \u001b[0mKeyError\u001b[0m\u001b[1;33m:\u001b[0m\u001b[1;33m\u001b[0m\u001b[0m\n",
      "\u001b[1;32mpandas\\_libs\\index.pyx\u001b[0m in \u001b[0;36mpandas._libs.index.IndexEngine.get_loc\u001b[1;34m()\u001b[0m\n",
      "\u001b[1;32mpandas\\_libs\\index.pyx\u001b[0m in \u001b[0;36mpandas._libs.index.IndexEngine.get_loc\u001b[1;34m()\u001b[0m\n",
      "\u001b[1;32mpandas\\_libs\\hashtable_class_helper.pxi\u001b[0m in \u001b[0;36mpandas._libs.hashtable.PyObjectHashTable.get_item\u001b[1;34m()\u001b[0m\n",
      "\u001b[1;32mpandas\\_libs\\hashtable_class_helper.pxi\u001b[0m in \u001b[0;36mpandas._libs.hashtable.PyObjectHashTable.get_item\u001b[1;34m()\u001b[0m\n",
      "\u001b[1;31mKeyError\u001b[0m: 'is_first'",
      "\nDuring handling of the above exception, another exception occurred:\n",
      "\u001b[1;31mKeyError\u001b[0m                                  Traceback (most recent call last)",
      "\u001b[1;32m<ipython-input-40-3d644a0fa448>\u001b[0m in \u001b[0;36m<module>\u001b[1;34m\u001b[0m\n\u001b[0;32m      1\u001b[0m get_age_firt_acqu(art, art, \"ensemble des collections\",\n\u001b[1;32m----> 2\u001b[1;33m                       \"./figures/_global/age_first_acquisition.png\")\n\u001b[0m\u001b[0;32m      3\u001b[0m get_age_firt_acqu(art, art[art['collection'].isin(fracs)], \"ensemble des 18 FRAC\",\n\u001b[0;32m      4\u001b[0m                       \"./figures/_fracs/age_first_acquisition.png\")\n\u001b[0;32m      5\u001b[0m get_age_firt_acqu(art, art[art['collection'].isin(musées)], \"ensemble des musées\",\n",
      "\u001b[1;32m<ipython-input-39-db35299dc44f>\u001b[0m in \u001b[0;36mget_age_firt_acqu\u001b[1;34m(art, subset, subset_name, path)\u001b[0m\n\u001b[0;32m      3\u001b[0m     \u001b[0mart\u001b[0m \u001b[1;33m=\u001b[0m \u001b[0mart\u001b[0m\u001b[1;33m[\u001b[0m\u001b[1;33m(\u001b[0m\u001b[0mart\u001b[0m\u001b[1;33m[\u001b[0m\u001b[1;34m'acquisition_year'\u001b[0m\u001b[1;33m]\u001b[0m \u001b[1;33m>=\u001b[0m \u001b[1;36m1945\u001b[0m\u001b[1;33m)\u001b[0m \u001b[1;33m&\u001b[0m \u001b[1;33m(\u001b[0m\u001b[0mart\u001b[0m\u001b[1;33m[\u001b[0m\u001b[1;34m'acquisition_year'\u001b[0m\u001b[1;33m]\u001b[0m \u001b[1;33m<=\u001b[0m \u001b[1;36m2017\u001b[0m\u001b[1;33m)\u001b[0m\u001b[1;33m]\u001b[0m\u001b[1;33m\u001b[0m\u001b[0m\n\u001b[0;32m      4\u001b[0m     \u001b[0msubset\u001b[0m \u001b[1;33m=\u001b[0m \u001b[0msubset\u001b[0m\u001b[1;33m[\u001b[0m\u001b[1;33m(\u001b[0m\u001b[0msubset\u001b[0m\u001b[1;33m[\u001b[0m\u001b[1;34m'acquisition_year'\u001b[0m\u001b[1;33m]\u001b[0m \u001b[1;33m>=\u001b[0m \u001b[1;36m1945\u001b[0m\u001b[1;33m)\u001b[0m \u001b[1;33m&\u001b[0m \u001b[1;33m(\u001b[0m\u001b[0msubset\u001b[0m\u001b[1;33m[\u001b[0m\u001b[1;34m'acquisition_year'\u001b[0m\u001b[1;33m]\u001b[0m \u001b[1;33m<=\u001b[0m \u001b[1;36m2017\u001b[0m\u001b[1;33m)\u001b[0m\u001b[1;33m]\u001b[0m\u001b[1;33m\u001b[0m\u001b[0m\n\u001b[1;32m----> 5\u001b[1;33m     \u001b[0msubset\u001b[0m \u001b[1;33m=\u001b[0m \u001b[0msubset\u001b[0m\u001b[1;33m[\u001b[0m\u001b[0msubset\u001b[0m\u001b[1;33m[\u001b[0m\u001b[1;34m'is_first'\u001b[0m\u001b[1;33m]\u001b[0m \u001b[1;33m==\u001b[0m \u001b[1;36m1\u001b[0m\u001b[1;33m]\u001b[0m\u001b[1;33m\u001b[0m\u001b[0m\n\u001b[0m\u001b[0;32m      6\u001b[0m     \u001b[0mfig\u001b[0m\u001b[1;33m,\u001b[0m \u001b[0max\u001b[0m \u001b[1;33m=\u001b[0m \u001b[0mplt\u001b[0m\u001b[1;33m.\u001b[0m\u001b[0msubplots\u001b[0m\u001b[1;33m(\u001b[0m\u001b[1;33m)\u001b[0m\u001b[1;33m\u001b[0m\u001b[0m\n\u001b[0;32m      7\u001b[0m     \u001b[0mtotal\u001b[0m \u001b[1;33m=\u001b[0m \u001b[0msubset\u001b[0m\u001b[1;33m.\u001b[0m\u001b[0mgroupby\u001b[0m\u001b[1;33m(\u001b[0m\u001b[1;34m'acquisition_year'\u001b[0m\u001b[1;33m)\u001b[0m\u001b[1;33m.\u001b[0m\u001b[0mmean\u001b[0m\u001b[1;33m(\u001b[0m\u001b[1;33m)\u001b[0m\u001b[1;33m[\u001b[0m\u001b[1;34m'age_at_acquisition'\u001b[0m\u001b[1;33m]\u001b[0m\u001b[1;33m\u001b[0m\u001b[0m\n",
      "\u001b[1;32mc:\\program files\\python36\\lib\\site-packages\\pandas\\core\\frame.py\u001b[0m in \u001b[0;36m__getitem__\u001b[1;34m(self, key)\u001b[0m\n\u001b[0;32m   2686\u001b[0m             \u001b[1;32mreturn\u001b[0m \u001b[0mself\u001b[0m\u001b[1;33m.\u001b[0m\u001b[0m_getitem_multilevel\u001b[0m\u001b[1;33m(\u001b[0m\u001b[0mkey\u001b[0m\u001b[1;33m)\u001b[0m\u001b[1;33m\u001b[0m\u001b[0m\n\u001b[0;32m   2687\u001b[0m         \u001b[1;32melse\u001b[0m\u001b[1;33m:\u001b[0m\u001b[1;33m\u001b[0m\u001b[0m\n\u001b[1;32m-> 2688\u001b[1;33m             \u001b[1;32mreturn\u001b[0m \u001b[0mself\u001b[0m\u001b[1;33m.\u001b[0m\u001b[0m_getitem_column\u001b[0m\u001b[1;33m(\u001b[0m\u001b[0mkey\u001b[0m\u001b[1;33m)\u001b[0m\u001b[1;33m\u001b[0m\u001b[0m\n\u001b[0m\u001b[0;32m   2689\u001b[0m \u001b[1;33m\u001b[0m\u001b[0m\n\u001b[0;32m   2690\u001b[0m     \u001b[1;32mdef\u001b[0m \u001b[0m_getitem_column\u001b[0m\u001b[1;33m(\u001b[0m\u001b[0mself\u001b[0m\u001b[1;33m,\u001b[0m \u001b[0mkey\u001b[0m\u001b[1;33m)\u001b[0m\u001b[1;33m:\u001b[0m\u001b[1;33m\u001b[0m\u001b[0m\n",
      "\u001b[1;32mc:\\program files\\python36\\lib\\site-packages\\pandas\\core\\frame.py\u001b[0m in \u001b[0;36m_getitem_column\u001b[1;34m(self, key)\u001b[0m\n\u001b[0;32m   2693\u001b[0m         \u001b[1;31m# get column\u001b[0m\u001b[1;33m\u001b[0m\u001b[1;33m\u001b[0m\u001b[0m\n\u001b[0;32m   2694\u001b[0m         \u001b[1;32mif\u001b[0m \u001b[0mself\u001b[0m\u001b[1;33m.\u001b[0m\u001b[0mcolumns\u001b[0m\u001b[1;33m.\u001b[0m\u001b[0mis_unique\u001b[0m\u001b[1;33m:\u001b[0m\u001b[1;33m\u001b[0m\u001b[0m\n\u001b[1;32m-> 2695\u001b[1;33m             \u001b[1;32mreturn\u001b[0m \u001b[0mself\u001b[0m\u001b[1;33m.\u001b[0m\u001b[0m_get_item_cache\u001b[0m\u001b[1;33m(\u001b[0m\u001b[0mkey\u001b[0m\u001b[1;33m)\u001b[0m\u001b[1;33m\u001b[0m\u001b[0m\n\u001b[0m\u001b[0;32m   2696\u001b[0m \u001b[1;33m\u001b[0m\u001b[0m\n\u001b[0;32m   2697\u001b[0m         \u001b[1;31m# duplicate columns & possible reduce dimensionality\u001b[0m\u001b[1;33m\u001b[0m\u001b[1;33m\u001b[0m\u001b[0m\n",
      "\u001b[1;32mc:\\program files\\python36\\lib\\site-packages\\pandas\\core\\generic.py\u001b[0m in \u001b[0;36m_get_item_cache\u001b[1;34m(self, item)\u001b[0m\n\u001b[0;32m   2487\u001b[0m         \u001b[0mres\u001b[0m \u001b[1;33m=\u001b[0m \u001b[0mcache\u001b[0m\u001b[1;33m.\u001b[0m\u001b[0mget\u001b[0m\u001b[1;33m(\u001b[0m\u001b[0mitem\u001b[0m\u001b[1;33m)\u001b[0m\u001b[1;33m\u001b[0m\u001b[0m\n\u001b[0;32m   2488\u001b[0m         \u001b[1;32mif\u001b[0m \u001b[0mres\u001b[0m \u001b[1;32mis\u001b[0m \u001b[1;32mNone\u001b[0m\u001b[1;33m:\u001b[0m\u001b[1;33m\u001b[0m\u001b[0m\n\u001b[1;32m-> 2489\u001b[1;33m             \u001b[0mvalues\u001b[0m \u001b[1;33m=\u001b[0m \u001b[0mself\u001b[0m\u001b[1;33m.\u001b[0m\u001b[0m_data\u001b[0m\u001b[1;33m.\u001b[0m\u001b[0mget\u001b[0m\u001b[1;33m(\u001b[0m\u001b[0mitem\u001b[0m\u001b[1;33m)\u001b[0m\u001b[1;33m\u001b[0m\u001b[0m\n\u001b[0m\u001b[0;32m   2490\u001b[0m             \u001b[0mres\u001b[0m \u001b[1;33m=\u001b[0m \u001b[0mself\u001b[0m\u001b[1;33m.\u001b[0m\u001b[0m_box_item_values\u001b[0m\u001b[1;33m(\u001b[0m\u001b[0mitem\u001b[0m\u001b[1;33m,\u001b[0m \u001b[0mvalues\u001b[0m\u001b[1;33m)\u001b[0m\u001b[1;33m\u001b[0m\u001b[0m\n\u001b[0;32m   2491\u001b[0m             \u001b[0mcache\u001b[0m\u001b[1;33m[\u001b[0m\u001b[0mitem\u001b[0m\u001b[1;33m]\u001b[0m \u001b[1;33m=\u001b[0m \u001b[0mres\u001b[0m\u001b[1;33m\u001b[0m\u001b[0m\n",
      "\u001b[1;32mc:\\program files\\python36\\lib\\site-packages\\pandas\\core\\internals.py\u001b[0m in \u001b[0;36mget\u001b[1;34m(self, item, fastpath)\u001b[0m\n\u001b[0;32m   4113\u001b[0m \u001b[1;33m\u001b[0m\u001b[0m\n\u001b[0;32m   4114\u001b[0m             \u001b[1;32mif\u001b[0m \u001b[1;32mnot\u001b[0m \u001b[0misna\u001b[0m\u001b[1;33m(\u001b[0m\u001b[0mitem\u001b[0m\u001b[1;33m)\u001b[0m\u001b[1;33m:\u001b[0m\u001b[1;33m\u001b[0m\u001b[0m\n\u001b[1;32m-> 4115\u001b[1;33m                 \u001b[0mloc\u001b[0m \u001b[1;33m=\u001b[0m \u001b[0mself\u001b[0m\u001b[1;33m.\u001b[0m\u001b[0mitems\u001b[0m\u001b[1;33m.\u001b[0m\u001b[0mget_loc\u001b[0m\u001b[1;33m(\u001b[0m\u001b[0mitem\u001b[0m\u001b[1;33m)\u001b[0m\u001b[1;33m\u001b[0m\u001b[0m\n\u001b[0m\u001b[0;32m   4116\u001b[0m             \u001b[1;32melse\u001b[0m\u001b[1;33m:\u001b[0m\u001b[1;33m\u001b[0m\u001b[0m\n\u001b[0;32m   4117\u001b[0m                 \u001b[0mindexer\u001b[0m \u001b[1;33m=\u001b[0m \u001b[0mnp\u001b[0m\u001b[1;33m.\u001b[0m\u001b[0marange\u001b[0m\u001b[1;33m(\u001b[0m\u001b[0mlen\u001b[0m\u001b[1;33m(\u001b[0m\u001b[0mself\u001b[0m\u001b[1;33m.\u001b[0m\u001b[0mitems\u001b[0m\u001b[1;33m)\u001b[0m\u001b[1;33m)\u001b[0m\u001b[1;33m[\u001b[0m\u001b[0misna\u001b[0m\u001b[1;33m(\u001b[0m\u001b[0mself\u001b[0m\u001b[1;33m.\u001b[0m\u001b[0mitems\u001b[0m\u001b[1;33m)\u001b[0m\u001b[1;33m]\u001b[0m\u001b[1;33m\u001b[0m\u001b[0m\n",
      "\u001b[1;32mc:\\program files\\python36\\lib\\site-packages\\pandas\\core\\indexes\\base.py\u001b[0m in \u001b[0;36mget_loc\u001b[1;34m(self, key, method, tolerance)\u001b[0m\n\u001b[0;32m   3078\u001b[0m                 \u001b[1;32mreturn\u001b[0m \u001b[0mself\u001b[0m\u001b[1;33m.\u001b[0m\u001b[0m_engine\u001b[0m\u001b[1;33m.\u001b[0m\u001b[0mget_loc\u001b[0m\u001b[1;33m(\u001b[0m\u001b[0mkey\u001b[0m\u001b[1;33m)\u001b[0m\u001b[1;33m\u001b[0m\u001b[0m\n\u001b[0;32m   3079\u001b[0m             \u001b[1;32mexcept\u001b[0m \u001b[0mKeyError\u001b[0m\u001b[1;33m:\u001b[0m\u001b[1;33m\u001b[0m\u001b[0m\n\u001b[1;32m-> 3080\u001b[1;33m                 \u001b[1;32mreturn\u001b[0m \u001b[0mself\u001b[0m\u001b[1;33m.\u001b[0m\u001b[0m_engine\u001b[0m\u001b[1;33m.\u001b[0m\u001b[0mget_loc\u001b[0m\u001b[1;33m(\u001b[0m\u001b[0mself\u001b[0m\u001b[1;33m.\u001b[0m\u001b[0m_maybe_cast_indexer\u001b[0m\u001b[1;33m(\u001b[0m\u001b[0mkey\u001b[0m\u001b[1;33m)\u001b[0m\u001b[1;33m)\u001b[0m\u001b[1;33m\u001b[0m\u001b[0m\n\u001b[0m\u001b[0;32m   3081\u001b[0m \u001b[1;33m\u001b[0m\u001b[0m\n\u001b[0;32m   3082\u001b[0m         \u001b[0mindexer\u001b[0m \u001b[1;33m=\u001b[0m \u001b[0mself\u001b[0m\u001b[1;33m.\u001b[0m\u001b[0mget_indexer\u001b[0m\u001b[1;33m(\u001b[0m\u001b[1;33m[\u001b[0m\u001b[0mkey\u001b[0m\u001b[1;33m]\u001b[0m\u001b[1;33m,\u001b[0m \u001b[0mmethod\u001b[0m\u001b[1;33m=\u001b[0m\u001b[0mmethod\u001b[0m\u001b[1;33m,\u001b[0m \u001b[0mtolerance\u001b[0m\u001b[1;33m=\u001b[0m\u001b[0mtolerance\u001b[0m\u001b[1;33m)\u001b[0m\u001b[1;33m\u001b[0m\u001b[0m\n",
      "\u001b[1;32mpandas\\_libs\\index.pyx\u001b[0m in \u001b[0;36mpandas._libs.index.IndexEngine.get_loc\u001b[1;34m()\u001b[0m\n",
      "\u001b[1;32mpandas\\_libs\\index.pyx\u001b[0m in \u001b[0;36mpandas._libs.index.IndexEngine.get_loc\u001b[1;34m()\u001b[0m\n",
      "\u001b[1;32mpandas\\_libs\\hashtable_class_helper.pxi\u001b[0m in \u001b[0;36mpandas._libs.hashtable.PyObjectHashTable.get_item\u001b[1;34m()\u001b[0m\n",
      "\u001b[1;32mpandas\\_libs\\hashtable_class_helper.pxi\u001b[0m in \u001b[0;36mpandas._libs.hashtable.PyObjectHashTable.get_item\u001b[1;34m()\u001b[0m\n",
      "\u001b[1;31mKeyError\u001b[0m: 'is_first'"
     ]
    }
   ],
   "source": [
    "get_age_firt_acqu(art, art, \"ensemble des collections\",\n",
    "                      \"./figures/_global/age_first_acquisition.png\")\n",
    "get_age_firt_acqu(art, art[art['collection'].isin(fracs)], \"ensemble des 18 FRAC\",\n",
    "                      \"./figures/_fracs/age_first_acquisition.png\")\n",
    "get_age_firt_acqu(art, art[art['collection'].isin(musées)], \"ensemble des musées\",\n",
    "                      \"./figures/_musees/age_first_acquisition.png\")\n",
    "get_age_firt_acqu(art, art[art['collection'].isin(autres)], \"autres musées\",\n",
    "                      \"./figures/_autres/age_first_acquisition.png\")"
   ]
  },
  {
   "cell_type": "code",
   "execution_count": null,
   "metadata": {},
   "outputs": [],
   "source": [
    "for museum in art['collection'].dropna().unique():\n",
    "    # print(\"Musée en cours:\", museum)\n",
    "    subset = art[art['collection'] == museum]\n",
    "    get_age_firt_acqu(art, subset, museum, \"./figures/\" + validname(museum) + \"/age_first_acquisition.png\")\n",
    "    del subset\n",
    "print('Done')"
   ]
  },
  {
   "cell_type": "markdown",
   "metadata": {},
   "source": [
    "## Partie 8 : nombre d'aquisitions"
   ]
  },
  {
   "cell_type": "code",
   "execution_count": null,
   "metadata": {},
   "outputs": [],
   "source": [
    "# Function to plot the proportion of femmes in any subset of Arworks\n",
    "def get_number_acqu(art, subset, subset_name, path):\n",
    "    art = art[(art['acquisition_year'] >= 1945) & (art['acquisition_year'] <= 2017)]\n",
    "    subset = subset[(subset['acquisition_year'] >= 1945) & (subset['acquisition_year'] <= 2017)]\n",
    "    fig, ax = plt.subplots()\n",
    "    total1 = subset.groupby('acquisition_year').count()['_id']\n",
    "    f1 = subset[subset['Gender']=='féminin'].groupby('acquisition_year').count()\n",
    "    f2 = subset[subset['Gender']=='masculin'].groupby('acquisition_year').count()\n",
    "    f1 = f1['_id']\n",
    "    f2 = f2['_id']\n",
    "    f1 = f1.reindex(range(1945, 2018))\n",
    "    f2 = f2.reindex(range(1945, 2018))\n",
    "    f1.plot(figsize=PLOTDIM, color=color_f, marker='.', linewidth=2, ax=ax)\n",
    "    f2.plot(figsize=PLOTDIM, color=color_h, marker='.', linewidth=2, ax=ax)\n",
    "    ax.set_xlim(left = 1945,right = 2017)\n",
    "    ax.set_ylim(bottom = -10,top = 12010)\n",
    "    ax.tick_params(labelsize = 15)\n",
    "    ax.xaxis.set_major_locator(ticker.MultipleLocator(FREQYEARS))\n",
    "    ax.set_xlabel('')\n",
    "    plt.grid()\n",
    "    plt.savefig(path, bbox_inches='tight',format=\"png\", dpi=300, transparent=True)\n",
    "    plt.close()"
   ]
  },
  {
   "cell_type": "code",
   "execution_count": null,
   "metadata": {},
   "outputs": [],
   "source": [
    "get_number_acqu(art, art, \"ensemble des collections\",\n",
    "                      \"./figures/_global/nb_acquisitions.png\")\n",
    "get_number_acqu(art, art[art['collection'].isin(fracs)], \"ensemble des 18 FRAC\",\n",
    "                      \"./figures/_fracs/nb_acquisitions.png\")\n",
    "get_number_acqu(art, art[art['collection'].isin(musées)], \"ensemble des musées\",\n",
    "                      \"./figures/_musees/nb_acquisitions.png\")\n",
    "get_number_acqu(art, art[art['collection'].isin(autres)], \"autres musées\",\n",
    "                      \"./figures/_autres/nb_acquisitions.png\")"
   ]
  },
  {
   "cell_type": "code",
   "execution_count": null,
   "metadata": {},
   "outputs": [],
   "source": [
    "art[(art['acquisition_year'] == 2004) & (art['authors'] == '9000000000066601')]"
   ]
  },
  {
   "cell_type": "code",
   "execution_count": 83,
   "metadata": {},
   "outputs": [
    {
     "data": {
      "text/plain": [
       "6838"
      ]
     },
     "execution_count": 83,
     "metadata": {},
     "output_type": "execute_result"
    }
   ],
   "source": [
    "index = [len(set(x)) > 1 for x in authors['ID artworks'].str.split('|')]\n",
    "index1, index2, index3 = [], [], []\n",
    "for x in authors['acquisition_year'].str.split('|'):\n",
    "    if x is np.NaN: index1.append(False), index2.append(False), index3.append(False)\n",
    "    else: index1.append(min([int(y) for y in x]) > 1944), index2.append(len(set(x)) > 1), index3.append(min([int(y) for y in x]) < 2010)\n",
    "len(authors[[index[i] and index1[i] and index2[i] and index3[i] for i in range(len(index))]])"
   ]
  },
  {
   "cell_type": "code",
   "execution_count": null,
   "metadata": {},
   "outputs": [],
   "source": []
  }
 ],
 "metadata": {
  "kernelspec": {
   "display_name": "Python 3",
   "language": "python",
   "name": "python3"
  },
  "language_info": {
   "codemirror_mode": {
    "name": "ipython",
    "version": 3
   },
   "file_extension": ".py",
   "mimetype": "text/x-python",
   "name": "python",
   "nbconvert_exporter": "python",
   "pygments_lexer": "ipython3",
   "version": "3.6.6"
  }
 },
 "nbformat": 4,
 "nbformat_minor": 2
}
