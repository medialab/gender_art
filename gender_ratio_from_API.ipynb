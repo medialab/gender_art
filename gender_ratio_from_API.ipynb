{
 "cells": [
  {
   "cell_type": "code",
   "execution_count": 119,
   "metadata": {},
   "outputs": [],
   "source": [
    "import requests\n",
    "import json\n",
    "import config\n",
    "import matplotlib.pyplot as plt"
   ]
  },
  {
   "cell_type": "markdown",
   "metadata": {},
   "source": [
    "### Accessing API "
   ]
  },
  {
   "cell_type": "code",
   "execution_count": 99,
   "metadata": {},
   "outputs": [],
   "source": [
    "with requests.Session() as s:\n",
    "    # logins from config file \n",
    "    SERVERROOT= config.SERVERROOT\n",
    "    VAULT= config.VAULT\n",
    "    \n",
    "    url = '%s/%s/login' % (SERVERROOT, VAULT)\n",
    "\n",
    "    # login data from config file \n",
    "    login_data = {\n",
    "    \"email\": \config.USERNAME,\n",
    "    \"password\": \config.PASSWORD\n",
    "     }\n",
    "    \n",
    "    headers = {\n",
    "    'Content-Type': 'application/json',\n",
    "    }\n",
    "    \n",
    "    response = s.post(url, headers = headers, json = login_data).json()\n",
    "    \n",
    "    token =  response['token']\n",
    "    \n",
    "    headers = {\n",
    "        'X-Token': token,\n",
    "    }\n",
    "    \n",
    "    url = '%s/%s/artworks' % (SERVERROOT, VAULT)\n",
    "    \n",
    "    response = s.get(url, headers = headers, json = login_data).json()"
   ]
  },
  {
   "cell_type": "markdown",
   "metadata": {},
   "source": [
    "### Retrieving Gender Information"
   ]
  },
  {
   "cell_type": "code",
   "execution_count": 100,
   "metadata": {
    "scrolled": false
   },
   "outputs": [
    {
     "data": {
      "text/plain": [
       "dict_keys(['collection_inv_and_deposit', 'authors', 'gender', 'nationality', 'tree_domain_all', 'year', 'year_acq', 'mode_acq', 'tree_collection_deposit_all', 'tree_deposit_to_all', 'entry_mode', 'tree_deposit_place_all', 'withimage', 'tree_exposition_all', 'artistid', 'tree_internal_localization_all', 'tree_out_of_collection_all', 'tree_gcoll_folders_type_all', 'tree_loc_ext_all', 'tree_deposit_from_all'])"
      ]
     },
     "execution_count": 100,
     "metadata": {},
     "output_type": "execute_result"
    }
   ],
   "source": [
    "response['aggregations'].keys()"
   ]
  },
  {
   "cell_type": "code",
   "execution_count": 101,
   "metadata": {
    "scrolled": false
   },
   "outputs": [
    {
     "data": {
      "text/plain": [
       "{'displayed_as': {'fr': 'Genre', 'en': 'Gender'},\n",
       " 'pos': 21,\n",
       " 'total': 4,\n",
       " 'terms': [{'key': 'masculin', 'doc_count': 298541},\n",
       "  {'key': 'féminin', 'doc_count': 48895},\n",
       "  {'key': 'non renseigné', 'doc_count': 10864},\n",
       "  {'key': 'groupe', 'doc_count': 6529}]}"
      ]
     },
     "execution_count": 101,
     "metadata": {},
     "output_type": "execute_result"
    }
   ],
   "source": [
    "response['aggregations']['gender']"
   ]
  },
  {
   "cell_type": "code",
   "execution_count": 102,
   "metadata": {},
   "outputs": [
    {
     "data": {
      "text/plain": [
       "298541"
      ]
     },
     "execution_count": 102,
     "metadata": {},
     "output_type": "execute_result"
    }
   ],
   "source": [
    "male_num = response['aggregations']['gender']['terms'][0]['doc_count']\n",
    "male_num"
   ]
  },
  {
   "cell_type": "code",
   "execution_count": 103,
   "metadata": {},
   "outputs": [
    {
     "data": {
      "text/plain": [
       "48895"
      ]
     },
     "execution_count": 103,
     "metadata": {},
     "output_type": "execute_result"
    }
   ],
   "source": [
    "female_num = response['aggregations']['gender']['terms'][1]['doc_count']\n",
    "female_num"
   ]
  },
  {
   "cell_type": "code",
   "execution_count": 104,
   "metadata": {},
   "outputs": [
    {
     "data": {
      "text/plain": [
       "10864"
      ]
     },
     "execution_count": 104,
     "metadata": {},
     "output_type": "execute_result"
    }
   ],
   "source": [
    "unspecified = response['aggregations']['gender']['terms'][2]['doc_count']\n",
    "unspecified"
   ]
  },
  {
   "cell_type": "code",
   "execution_count": 105,
   "metadata": {},
   "outputs": [
    {
     "data": {
      "text/plain": [
       "6529"
      ]
     },
     "execution_count": 105,
     "metadata": {},
     "output_type": "execute_result"
    }
   ],
   "source": [
    "group = response['aggregations']['gender']['terms'][3]['doc_count']\n",
    "group"
   ]
  },
  {
   "cell_type": "code",
   "execution_count": 106,
   "metadata": {},
   "outputs": [
    {
     "data": {
      "text/plain": [
       "379366"
      ]
     },
     "execution_count": 106,
     "metadata": {},
     "output_type": "execute_result"
    }
   ],
   "source": [
    "response['totalCount']\n"
   ]
  },
  {
   "cell_type": "code",
   "execution_count": 107,
   "metadata": {},
   "outputs": [
    {
     "data": {
      "text/plain": [
       "364829"
      ]
     },
     "execution_count": 107,
     "metadata": {},
     "output_type": "execute_result"
    }
   ],
   "source": [
    "total = male_num + female_num + unspecified + group\n",
    "total"
   ]
  },
  {
   "cell_type": "code",
   "execution_count": 108,
   "metadata": {},
   "outputs": [
    {
     "data": {
      "text/plain": [
       "False"
      ]
     },
     "execution_count": 108,
     "metadata": {},
     "output_type": "execute_result"
    }
   ],
   "source": [
    "# total of gender values is not equal to total count of artworks provided by aggregations\n",
    "total == response['totalCount']"
   ]
  },
  {
   "cell_type": "markdown",
   "metadata": {},
   "source": [
    "### Ratios"
   ]
  },
  {
   "cell_type": "code",
   "execution_count": 162,
   "metadata": {},
   "outputs": [
    {
     "name": "stdout",
     "output_type": "stream",
     "text": [
      "13 %\n"
     ]
    }
   ],
   "source": [
    "# percentage of artworks by female artists out of all artworks\n",
    "f = round(female_num/total*100)\n",
    "print (f,'%')"
   ]
  },
  {
   "cell_type": "code",
   "execution_count": 163,
   "metadata": {},
   "outputs": [
    {
     "name": "stdout",
     "output_type": "stream",
     "text": [
      "82 %\n"
     ]
    }
   ],
   "source": [
    "# percentage of artworks by male artists out of all artworks\n",
    "m = round(male_num/total*100)\n",
    "print (m,'%')"
   ]
  },
  {
   "cell_type": "code",
   "execution_count": 164,
   "metadata": {},
   "outputs": [
    {
     "name": "stdout",
     "output_type": "stream",
     "text": [
      "2 %\n"
     ]
    }
   ],
   "source": [
    "# percentage of artworks by artists' groups out of all artworks\n",
    "g = round(group/total*100)\n",
    "print (g,'%')"
   ]
  },
  {
   "cell_type": "code",
   "execution_count": 166,
   "metadata": {},
   "outputs": [
    {
     "name": "stdout",
     "output_type": "stream",
     "text": [
      "3 %\n"
     ]
    }
   ],
   "source": [
    "# percentage of artworks by unspecified gender artists out of all artworks\n",
    "u = round(unspecified/total*100)\n",
    "print (u,'%')"
   ]
  },
  {
   "cell_type": "code",
   "execution_count": 117,
   "metadata": {},
   "outputs": [
    {
     "name": "stdout",
     "output_type": "stream",
     "text": [
      "14 %\n"
     ]
    }
   ],
   "source": [
    "# percentage of artworks by female artists out of artworks by males or female artists (excluding unspecified and group)\n",
    "print (round(female_num/(female_num + male_num)*100),'%')"
   ]
  },
  {
   "cell_type": "code",
   "execution_count": 167,
   "metadata": {},
   "outputs": [
    {
     "data": {
      "image/png": "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\n",
      "text/plain": [
       "<Figure size 432x360 with 1 Axes>"
      ]
     },
     "metadata": {},
     "output_type": "display_data"
    }
   ],
   "source": [
    "labels = 'Male', 'Female', 'Group', 'Unspecified'\n",
    "gender = [m, f, g, u]\n",
    "colors = ['#AFEEEE', '#DB7093', '#FFE4E1', '#FFE4B5']\n",
    "explode = (0, 0.1, 0, 0)  \n",
    "\n",
    "\n",
    "fig1, ax1 = plt.subplots(figsize=(6, 5))\n",
    "\n",
    "ax1.pie(sizes, explode=explode, labels=labels, autopct='%1.1f%%',\n",
    "        shadow=True, startangle=390, colors = colors)\n",
    "ax1.axis('equal')  # Equal aspect ratio ensures that pie is drawn as a circle.\n",
    "\n",
    "plt.show()"
   ]
  },
  {
   "cell_type": "markdown",
   "metadata": {},
   "source": [
    "### Groups"
   ]
  },
  {
   "cell_type": "code",
   "execution_count": 157,
   "metadata": {},
   "outputs": [],
   "source": [
    "    url = 'https://'+config.SERVERROOT+'/'+config.VAULT+'/artworks?filters=gender:groupe'\n",
    "\n",
    "    headers = {\n",
    "            'X-Token': token,\n",
    "        }\n",
    "\n",
    "\n",
    "\n",
    "    response = s.get(url, headers = headers, json = login_data).json()"
   ]
  },
  {
   "cell_type": "code",
   "execution_count": 158,
   "metadata": {},
   "outputs": [
    {
     "data": {
      "text/plain": [
       "dict_keys(['startIndex', 'totalCount', 'filteredCount', 'itemsPerPage', 'aggregations', 'results'])"
      ]
     },
     "execution_count": 158,
     "metadata": {},
     "output_type": "execute_result"
    }
   ],
   "source": [
    "    response.keys()"
   ]
  },
  {
   "cell_type": "code",
   "execution_count": 159,
   "metadata": {},
   "outputs": [
    {
     "data": {
      "text/plain": [
       "{'displayed_as': {'fr': 'Genre', 'en': 'Gender'},\n",
       " 'pos': 21,\n",
       " 'total': 4,\n",
       " 'terms': [{'key': 'groupe', 'doc_count': 6529},\n",
       "  {'key': 'masculin', 'doc_count': 382},\n",
       "  {'key': 'féminin', 'doc_count': 104},\n",
       "  {'key': 'non renseigné', 'doc_count': 10}]}"
      ]
     },
     "execution_count": 159,
     "metadata": {},
     "output_type": "execute_result"
    }
   ],
   "source": [
    "    # some group authors seem to have gender attribute as masculin or feminin\n",
    "    response['aggregations']['gender']"
   ]
  },
  {
   "cell_type": "code",
   "execution_count": null,
   "metadata": {},
   "outputs": [],
   "source": []
  },
  {
   "cell_type": "code",
   "execution_count": null,
   "metadata": {},
   "outputs": [],
   "source": []
  }
 ],
 "metadata": {
  "kernelspec": {
   "display_name": "Python 3",
   "language": "python",
   "name": "python3"
  },
  "language_info": {
   "codemirror_mode": {
    "name": "ipython",
    "version": 3
   },
   "file_extension": ".py",
   "mimetype": "text/x-python",
   "name": "python",
   "nbconvert_exporter": "python",
   "pygments_lexer": "ipython3",
   "version": "3.7.0"
  }
 },
 "nbformat": 4,
 "nbformat_minor": 2
}
