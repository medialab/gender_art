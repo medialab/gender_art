{
 "cells": [
  {
   "cell_type": "code",
   "execution_count": 227,
   "metadata": {},
   "outputs": [],
   "source": [
    "import requests\n",
    "import json\n",
    "import config\n",
    "import matplotlib.pyplot as plt\n",
    "import numpy as np"
   ]
  },
  {
   "cell_type": "markdown",
   "metadata": {},
   "source": [
    "### Accessing API "
   ]
  },
  {
   "cell_type": "code",
   "execution_count": 99,
   "metadata": {},
   "outputs": [],
   "source": [
    "with requests.Session() as s:\n",
    "    # logins from config file \n",
    "    SERVERROOT= config.SERVERROOT\n",
    "    VAULT = config.VAULT\n",
    "    \n",
    "    url = '%s/%s/login' % (SERVERROOT, VAULT)\n",
    "\n",
    "    # login data from config file \n",
    "    login_data = {\n",
    "    \"email\": config.USERNAME,\n",
    "    \"password\": config.PASSWORD\n",
    "     }\n",
    "    \n",
    "    headers = {\n",
    "    'Content-Type': 'application/json',\n",
    "    }\n",
    "    \n",
    "    response = s.post(url, headers = headers, json = login_data).json()\n",
    "    \n",
    "    token =  response['token']\n",
    "    \n",
    "    headers = {\n",
    "        'X-Token': token,\n",
    "    }\n",
    "    \n",
    "    url = '%s/%s/artworks' % (SERVERROOT, VAULT)\n",
    "    \n",
    "    response = s.get(url, headers = headers, json = login_data).json()"
   ]
  },
  {
   "cell_type": "markdown",
   "metadata": {},
   "source": [
    "### Retrieving Gender Information"
   ]
  },
  {
   "cell_type": "code",
   "execution_count": 100,
   "metadata": {
    "scrolled": false
   },
   "outputs": [
    {
     "data": {
      "text/plain": [
       "dict_keys(['collection_inv_and_deposit', 'authors', 'gender', 'nationality', 'tree_domain_all', 'year', 'year_acq', 'mode_acq', 'tree_collection_deposit_all', 'tree_deposit_to_all', 'entry_mode', 'tree_deposit_place_all', 'withimage', 'tree_exposition_all', 'artistid', 'tree_internal_localization_all', 'tree_out_of_collection_all', 'tree_gcoll_folders_type_all', 'tree_loc_ext_all', 'tree_deposit_from_all'])"
      ]
     },
     "execution_count": 100,
     "metadata": {},
     "output_type": "execute_result"
    }
   ],
   "source": [
    "response['aggregations'].keys()"
   ]
  },
  {
   "cell_type": "code",
   "execution_count": 101,
   "metadata": {
    "scrolled": false
   },
   "outputs": [
    {
     "data": {
      "text/plain": [
       "{'displayed_as': {'fr': 'Genre', 'en': 'Gender'},\n",
       " 'pos': 21,\n",
       " 'total': 4,\n",
       " 'terms': [{'key': 'masculin', 'doc_count': 298541},\n",
       "  {'key': 'féminin', 'doc_count': 48895},\n",
       "  {'key': 'non renseigné', 'doc_count': 10864},\n",
       "  {'key': 'groupe', 'doc_count': 6529}]}"
      ]
     },
     "execution_count": 101,
     "metadata": {},
     "output_type": "execute_result"
    }
   ],
   "source": [
    "response['aggregations']['gender']"
   ]
  },
  {
   "cell_type": "code",
   "execution_count": 102,
   "metadata": {},
   "outputs": [
    {
     "data": {
      "text/plain": [
       "298541"
      ]
     },
     "execution_count": 102,
     "metadata": {},
     "output_type": "execute_result"
    }
   ],
   "source": [
    "male_num = response['aggregations']['gender']['terms'][0]['doc_count']\n",
    "male_num"
   ]
  },
  {
   "cell_type": "code",
   "execution_count": 103,
   "metadata": {},
   "outputs": [
    {
     "data": {
      "text/plain": [
       "48895"
      ]
     },
     "execution_count": 103,
     "metadata": {},
     "output_type": "execute_result"
    }
   ],
   "source": [
    "female_num = response['aggregations']['gender']['terms'][1]['doc_count']\n",
    "female_num"
   ]
  },
  {
   "cell_type": "code",
   "execution_count": 104,
   "metadata": {},
   "outputs": [
    {
     "data": {
      "text/plain": [
       "10864"
      ]
     },
     "execution_count": 104,
     "metadata": {},
     "output_type": "execute_result"
    }
   ],
   "source": [
    "unspecified = response['aggregations']['gender']['terms'][2]['doc_count']\n",
    "unspecified"
   ]
  },
  {
   "cell_type": "code",
   "execution_count": 105,
   "metadata": {},
   "outputs": [
    {
     "data": {
      "text/plain": [
       "6529"
      ]
     },
     "execution_count": 105,
     "metadata": {},
     "output_type": "execute_result"
    }
   ],
   "source": [
    "group = response['aggregations']['gender']['terms'][3]['doc_count']\n",
    "group"
   ]
  },
  {
   "cell_type": "code",
   "execution_count": 106,
   "metadata": {},
   "outputs": [
    {
     "data": {
      "text/plain": [
       "379366"
      ]
     },
     "execution_count": 106,
     "metadata": {},
     "output_type": "execute_result"
    }
   ],
   "source": [
    "response['totalCount']\n"
   ]
  },
  {
   "cell_type": "code",
   "execution_count": 107,
   "metadata": {},
   "outputs": [
    {
     "data": {
      "text/plain": [
       "364829"
      ]
     },
     "execution_count": 107,
     "metadata": {},
     "output_type": "execute_result"
    }
   ],
   "source": [
    "total = male_num + female_num + unspecified + group\n",
    "total"
   ]
  },
  {
   "cell_type": "code",
   "execution_count": 108,
   "metadata": {},
   "outputs": [
    {
     "data": {
      "text/plain": [
       "False"
      ]
     },
     "execution_count": 108,
     "metadata": {},
     "output_type": "execute_result"
    }
   ],
   "source": [
    "# total of gender values is not equal to total count of artworks provided by aggregations\n",
    "total == response['totalCount']"
   ]
  },
  {
   "cell_type": "markdown",
   "metadata": {},
   "source": [
    "### Ratios"
   ]
  },
  {
   "cell_type": "code",
   "execution_count": 162,
   "metadata": {},
   "outputs": [
    {
     "name": "stdout",
     "output_type": "stream",
     "text": [
      "13 %\n"
     ]
    }
   ],
   "source": [
    "# percentage of artworks by female artists out of all artworks\n",
    "f = round(female_num/total*100)\n",
    "print (f,'%')"
   ]
  },
  {
   "cell_type": "code",
   "execution_count": 163,
   "metadata": {},
   "outputs": [
    {
     "name": "stdout",
     "output_type": "stream",
     "text": [
      "82 %\n"
     ]
    }
   ],
   "source": [
    "# percentage of artworks by male artists out of all artworks\n",
    "m = round(male_num/total*100)\n",
    "print (m,'%')"
   ]
  },
  {
   "cell_type": "code",
   "execution_count": 164,
   "metadata": {},
   "outputs": [
    {
     "name": "stdout",
     "output_type": "stream",
     "text": [
      "2 %\n"
     ]
    }
   ],
   "source": [
    "# percentage of artworks by artists' groups out of all artworks\n",
    "g = round(group/total*100)\n",
    "print (g,'%')"
   ]
  },
  {
   "cell_type": "code",
   "execution_count": 166,
   "metadata": {},
   "outputs": [
    {
     "name": "stdout",
     "output_type": "stream",
     "text": [
      "3 %\n"
     ]
    }
   ],
   "source": [
    "# percentage of artworks by unspecified gender artists out of all artworks\n",
    "u = round(unspecified/total*100)\n",
    "print (u,'%')"
   ]
  },
  {
   "cell_type": "code",
   "execution_count": 117,
   "metadata": {},
   "outputs": [
    {
     "name": "stdout",
     "output_type": "stream",
     "text": [
      "14 %\n"
     ]
    }
   ],
   "source": [
    "# percentage of artworks by female artists out of artworks by males or female artists (excluding unspecified and group)\n",
    "print (round(female_num/(female_num + male_num)*100),'%')"
   ]
  },
  {
   "cell_type": "code",
   "execution_count": 214,
   "metadata": {},
   "outputs": [
    {
     "data": {
      "image/png": "[encoded data removed]",
      "text/plain": [
       "<Figure size 432x360 with 1 Axes>"
      ]
     },
     "metadata": {},
     "output_type": "display_data"
    }
   ],
   "source": [
    "labels = 'Male', 'Female', 'Group', 'Unspecified'\n",
    "gender = [m, f, g, u]\n",
    "colors = ['#AFEEEE', '#DB7093', '#FFE4E1', '#FFE4B5']\n",
    "explode = (0, 0.1, 0, 0)  \n",
    "\n",
    "\n",
    "fig1, ax1 = plt.subplots(figsize=(6, 5))\n",
    "\n",
    "ax1.pie(sizes, explode=explode, labels=labels, autopct='%1.1f%%',\n",
    "        shadow=True, startangle=390, colors = colors)\n",
    "plt.title('Gender Ratio In Artworks Database', fontsize=15)\n",
    "ax1.axis('equal')  \n",
    "\n",
    "plt.show()"
   ]
  },
  {
   "cell_type": "code",
   "execution_count": 293,
   "metadata": {},
   "outputs": [
    {
     "data": {
      "image/png": "[encoded data removed]",
      "text/plain": [
       "<Figure size 432x288 with 1 Axes>"
      ]
     },
     "metadata": {
      "needs_background": "light"
     },
     "output_type": "display_data"
    }
   ],
   "source": [
    "labels = ['Male', 'Female', 'Unspecified', 'Group']\n",
    "bar1 = np.array([80, 13, 3, 2])\n",
    "bar2 = np.array([13, 80, 80, 80])\n",
    "bar3 = np.array([3, 3, 13, 13])\n",
    "bar4 = np.array([2, 2, 2, 3])\n",
    "\n",
    "index = [1, 2, 3, 4]\n",
    "plt.bar(index, bar1, color=('#AFEEEE', '#DB7093', '#a3acff', '#f9bc86'), edgecolor = 'white')\n",
    "plt.bar(index, bar2, bottom = bar1, color =('#DB7093', '#AFEEEE', '#AFEEEE', '#AFEEEE'), edgecolor = 'white')\n",
    "plt.bar(index, bar3, bottom = bar2+bar1, color= ('#a3acff', '#a3acff', '#DB7093', '#DB7093'), edgecolor='white')\n",
    "plt.bar(index, bar4, bottom = bar1+bar2+bar3, color = ('#f9bc86', '#f9bc86', '#f9bc86', '#a3acff'), edgecolor='white')\n",
    "plt.xlabel('Gender', fontsize=15)\n",
    "plt.ylabel('Percentage of Artworks', fontsize=15)\n",
    "plt.xticks(index, labels, fontsize=10, rotation=30)\n",
    "plt.title('Gender Ratio In Artworks Database', fontsize=15)\n",
    "plt.gca().legend(('Male','Female', 'Unspecified', 'Group'), bbox_to_anchor=(1.04,1), loc=\"upper left\")\n",
    "\n",
    "plt.show()"
   ]
  },
  {
   "cell_type": "markdown",
   "metadata": {},
   "source": [
    "### Groups"
   ]
  },
  {
   "cell_type": "code",
   "execution_count": 157,
   "metadata": {},
   "outputs": [],
   "source": [
    "# filter 'groupe'\n",
    "    url = '%s/%s/artworks?filters=gender:groupe' % (SERVERROOT, VAULT)\n",
    "    \n",
    "    headers = {\n",
    "            'X-Token': token,\n",
    "        }\n",
    "\n",
    "\n",
    "\n",
    "    response = s.get(url, headers = headers, json = login_data).json()"
   ]
  },
  {
   "cell_type": "code",
   "execution_count": 158,
   "metadata": {},
   "outputs": [
    {
     "data": {
      "text/plain": [
       "dict_keys(['startIndex', 'totalCount', 'filteredCount', 'itemsPerPage', 'aggregations', 'results'])"
      ]
     },
     "execution_count": 158,
     "metadata": {},
     "output_type": "execute_result"
    }
   ],
   "source": [
    "    response.keys()"
   ]
  },
  {
   "cell_type": "code",
   "execution_count": 159,
   "metadata": {},
   "outputs": [
    {
     "data": {
      "text/plain": [
       "{'displayed_as': {'fr': 'Genre', 'en': 'Gender'},\n",
       " 'pos': 21,\n",
       " 'total': 4,\n",
       " 'terms': [{'key': 'groupe', 'doc_count': 6529},\n",
       "  {'key': 'masculin', 'doc_count': 382},\n",
       "  {'key': 'féminin', 'doc_count': 104},\n",
       "  {'key': 'non renseigné', 'doc_count': 10}]}"
      ]
     },
     "execution_count": 159,
     "metadata": {},
     "output_type": "execute_result"
    }
   ],
   "source": [
    "    # some group authors seem to have gender attribute as masculin or feminin\n",
    "    response['aggregations']['gender']"
   ]
  },
  {
   "cell_type": "code",
   "execution_count": 178,
   "metadata": {},
   "outputs": [],
   "source": [
    "url = '%s/%s/artworks?size=0&term=gender&term_from=0&term_order=count:desc&term_size=12' % (SERVERROOT, VAULT)"
   ]
  },
  {
   "cell_type": "code",
   "execution_count": 179,
   "metadata": {},
   "outputs": [],
   "source": [
    "responseB = s.get(url, headers = headers, json = login_data).json()"
   ]
  },
  {
   "cell_type": "code",
   "execution_count": 180,
   "metadata": {},
   "outputs": [
    {
     "data": {
      "text/plain": [
       "{'startIndex': 0,\n",
       " 'totalCount': 379366,\n",
       " 'filteredCount': 379366,\n",
       " 'itemsPerPage': 0,\n",
       " 'aggregations': {'gender': {'displayed_as': {'fr': 'Genre', 'en': 'Gender'},\n",
       "   'pos': 21,\n",
       "   'total': 4,\n",
       "   'terms': [{'key': 'masculin', 'doc_count': 298541},\n",
       "    {'key': 'féminin', 'doc_count': 48895},\n",
       "    {'key': 'non renseigné', 'doc_count': 10864},\n",
       "    {'key': 'groupe', 'doc_count': 6529}]}},\n",
       " 'results': []}"
      ]
     },
     "execution_count": 180,
     "metadata": {},
     "output_type": "execute_result"
    }
   ],
   "source": [
    "responseB"
   ]
  }
 ],
 "metadata": {
  "kernelspec": {
   "display_name": "Python 3",
   "language": "python",
   "name": "python3"
  },
  "language_info": {
   "codemirror_mode": {
    "name": "ipython",
    "version": 3
   },
   "file_extension": ".py",
   "mimetype": "text/x-python",
   "name": "python",
   "nbconvert_exporter": "python",
   "pygments_lexer": "ipython3",
   "version": "3.7.0"
  }
 },
 "nbformat": 4,
 "nbformat_minor": 2
}
